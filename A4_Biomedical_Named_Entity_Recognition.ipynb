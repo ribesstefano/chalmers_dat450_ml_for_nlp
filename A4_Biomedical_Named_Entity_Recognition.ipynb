{
  "nbformat": 4,
  "nbformat_minor": 0,
  "metadata": {
    "kernelspec": {
      "display_name": "Python 3 (ipykernel)",
      "language": "python",
      "name": "python3"
    },
    "language_info": {
      "codemirror_mode": {
        "name": "ipython",
        "version": 3
      },
      "file_extension": ".py",
      "mimetype": "text/x-python",
      "name": "python",
      "nbconvert_exporter": "python",
      "pygments_lexer": "ipython3",
      "version": "3.9.5"
    },
    "colab": {
      "provenance": [],
      "collapsed_sections": [
        "q2AeD74sngjp"
      ],
      "include_colab_link": true
    },
    "accelerator": "GPU",
    "gpuClass": "standard",
    "widgets": {
      "application/vnd.jupyter.widget-state+json": {
        "ac47def4f8df4cd8824187703be1bc56": {
          "model_module": "@jupyter-widgets/controls",
          "model_name": "HBoxModel",
          "model_module_version": "1.5.0",
          "state": {
            "_dom_classes": [],
            "_model_module": "@jupyter-widgets/controls",
            "_model_module_version": "1.5.0",
            "_model_name": "HBoxModel",
            "_view_count": null,
            "_view_module": "@jupyter-widgets/controls",
            "_view_module_version": "1.5.0",
            "_view_name": "HBoxView",
            "box_style": "",
            "children": [
              "IPY_MODEL_cb5c67bc764640b4a620abdea115cad8",
              "IPY_MODEL_b62325876be04615ac113847a05a4e9a",
              "IPY_MODEL_d70ff5ee66d24165b06e82c37cdb150e"
            ],
            "layout": "IPY_MODEL_6e236122626b408ba63a1b7f80496168"
          }
        },
        "cb5c67bc764640b4a620abdea115cad8": {
          "model_module": "@jupyter-widgets/controls",
          "model_name": "HTMLModel",
          "model_module_version": "1.5.0",
          "state": {
            "_dom_classes": [],
            "_model_module": "@jupyter-widgets/controls",
            "_model_module_version": "1.5.0",
            "_model_name": "HTMLModel",
            "_view_count": null,
            "_view_module": "@jupyter-widgets/controls",
            "_view_module_version": "1.5.0",
            "_view_name": "HTMLView",
            "description": "",
            "description_tooltip": null,
            "layout": "IPY_MODEL_17393cb2a8964f758e24981cdb075c58",
            "placeholder": "​",
            "style": "IPY_MODEL_95e61c410a8d415ea65e4bbfa2e102aa",
            "value": "Downloading: 100%"
          }
        },
        "b62325876be04615ac113847a05a4e9a": {
          "model_module": "@jupyter-widgets/controls",
          "model_name": "FloatProgressModel",
          "model_module_version": "1.5.0",
          "state": {
            "_dom_classes": [],
            "_model_module": "@jupyter-widgets/controls",
            "_model_module_version": "1.5.0",
            "_model_name": "FloatProgressModel",
            "_view_count": null,
            "_view_module": "@jupyter-widgets/controls",
            "_view_module_version": "1.5.0",
            "_view_name": "ProgressView",
            "bar_style": "success",
            "description": "",
            "description_tooltip": null,
            "layout": "IPY_MODEL_649c7ff8048e4b54ba47a7a4fc3258d5",
            "max": 28,
            "min": 0,
            "orientation": "horizontal",
            "style": "IPY_MODEL_5f523014449f4bd08b12d44eb9a94881",
            "value": 28
          }
        },
        "d70ff5ee66d24165b06e82c37cdb150e": {
          "model_module": "@jupyter-widgets/controls",
          "model_name": "HTMLModel",
          "model_module_version": "1.5.0",
          "state": {
            "_dom_classes": [],
            "_model_module": "@jupyter-widgets/controls",
            "_model_module_version": "1.5.0",
            "_model_name": "HTMLModel",
            "_view_count": null,
            "_view_module": "@jupyter-widgets/controls",
            "_view_module_version": "1.5.0",
            "_view_name": "HTMLView",
            "description": "",
            "description_tooltip": null,
            "layout": "IPY_MODEL_e748231e25a642ca8f60312cbc657b44",
            "placeholder": "​",
            "style": "IPY_MODEL_1976de2cbb214d66ae05bad1cdbf1fc0",
            "value": " 28.0/28.0 [00:00&lt;00:00, 762B/s]"
          }
        },
        "6e236122626b408ba63a1b7f80496168": {
          "model_module": "@jupyter-widgets/base",
          "model_name": "LayoutModel",
          "model_module_version": "1.2.0",
          "state": {
            "_model_module": "@jupyter-widgets/base",
            "_model_module_version": "1.2.0",
            "_model_name": "LayoutModel",
            "_view_count": null,
            "_view_module": "@jupyter-widgets/base",
            "_view_module_version": "1.2.0",
            "_view_name": "LayoutView",
            "align_content": null,
            "align_items": null,
            "align_self": null,
            "border": null,
            "bottom": null,
            "display": null,
            "flex": null,
            "flex_flow": null,
            "grid_area": null,
            "grid_auto_columns": null,
            "grid_auto_flow": null,
            "grid_auto_rows": null,
            "grid_column": null,
            "grid_gap": null,
            "grid_row": null,
            "grid_template_areas": null,
            "grid_template_columns": null,
            "grid_template_rows": null,
            "height": null,
            "justify_content": null,
            "justify_items": null,
            "left": null,
            "margin": null,
            "max_height": null,
            "max_width": null,
            "min_height": null,
            "min_width": null,
            "object_fit": null,
            "object_position": null,
            "order": null,
            "overflow": null,
            "overflow_x": null,
            "overflow_y": null,
            "padding": null,
            "right": null,
            "top": null,
            "visibility": null,
            "width": null
          }
        },
        "17393cb2a8964f758e24981cdb075c58": {
          "model_module": "@jupyter-widgets/base",
          "model_name": "LayoutModel",
          "model_module_version": "1.2.0",
          "state": {
            "_model_module": "@jupyter-widgets/base",
            "_model_module_version": "1.2.0",
            "_model_name": "LayoutModel",
            "_view_count": null,
            "_view_module": "@jupyter-widgets/base",
            "_view_module_version": "1.2.0",
            "_view_name": "LayoutView",
            "align_content": null,
            "align_items": null,
            "align_self": null,
            "border": null,
            "bottom": null,
            "display": null,
            "flex": null,
            "flex_flow": null,
            "grid_area": null,
            "grid_auto_columns": null,
            "grid_auto_flow": null,
            "grid_auto_rows": null,
            "grid_column": null,
            "grid_gap": null,
            "grid_row": null,
            "grid_template_areas": null,
            "grid_template_columns": null,
            "grid_template_rows": null,
            "height": null,
            "justify_content": null,
            "justify_items": null,
            "left": null,
            "margin": null,
            "max_height": null,
            "max_width": null,
            "min_height": null,
            "min_width": null,
            "object_fit": null,
            "object_position": null,
            "order": null,
            "overflow": null,
            "overflow_x": null,
            "overflow_y": null,
            "padding": null,
            "right": null,
            "top": null,
            "visibility": null,
            "width": null
          }
        },
        "95e61c410a8d415ea65e4bbfa2e102aa": {
          "model_module": "@jupyter-widgets/controls",
          "model_name": "DescriptionStyleModel",
          "model_module_version": "1.5.0",
          "state": {
            "_model_module": "@jupyter-widgets/controls",
            "_model_module_version": "1.5.0",
            "_model_name": "DescriptionStyleModel",
            "_view_count": null,
            "_view_module": "@jupyter-widgets/base",
            "_view_module_version": "1.2.0",
            "_view_name": "StyleView",
            "description_width": ""
          }
        },
        "649c7ff8048e4b54ba47a7a4fc3258d5": {
          "model_module": "@jupyter-widgets/base",
          "model_name": "LayoutModel",
          "model_module_version": "1.2.0",
          "state": {
            "_model_module": "@jupyter-widgets/base",
            "_model_module_version": "1.2.0",
            "_model_name": "LayoutModel",
            "_view_count": null,
            "_view_module": "@jupyter-widgets/base",
            "_view_module_version": "1.2.0",
            "_view_name": "LayoutView",
            "align_content": null,
            "align_items": null,
            "align_self": null,
            "border": null,
            "bottom": null,
            "display": null,
            "flex": null,
            "flex_flow": null,
            "grid_area": null,
            "grid_auto_columns": null,
            "grid_auto_flow": null,
            "grid_auto_rows": null,
            "grid_column": null,
            "grid_gap": null,
            "grid_row": null,
            "grid_template_areas": null,
            "grid_template_columns": null,
            "grid_template_rows": null,
            "height": null,
            "justify_content": null,
            "justify_items": null,
            "left": null,
            "margin": null,
            "max_height": null,
            "max_width": null,
            "min_height": null,
            "min_width": null,
            "object_fit": null,
            "object_position": null,
            "order": null,
            "overflow": null,
            "overflow_x": null,
            "overflow_y": null,
            "padding": null,
            "right": null,
            "top": null,
            "visibility": null,
            "width": null
          }
        },
        "5f523014449f4bd08b12d44eb9a94881": {
          "model_module": "@jupyter-widgets/controls",
          "model_name": "ProgressStyleModel",
          "model_module_version": "1.5.0",
          "state": {
            "_model_module": "@jupyter-widgets/controls",
            "_model_module_version": "1.5.0",
            "_model_name": "ProgressStyleModel",
            "_view_count": null,
            "_view_module": "@jupyter-widgets/base",
            "_view_module_version": "1.2.0",
            "_view_name": "StyleView",
            "bar_color": null,
            "description_width": ""
          }
        },
        "e748231e25a642ca8f60312cbc657b44": {
          "model_module": "@jupyter-widgets/base",
          "model_name": "LayoutModel",
          "model_module_version": "1.2.0",
          "state": {
            "_model_module": "@jupyter-widgets/base",
            "_model_module_version": "1.2.0",
            "_model_name": "LayoutModel",
            "_view_count": null,
            "_view_module": "@jupyter-widgets/base",
            "_view_module_version": "1.2.0",
            "_view_name": "LayoutView",
            "align_content": null,
            "align_items": null,
            "align_self": null,
            "border": null,
            "bottom": null,
            "display": null,
            "flex": null,
            "flex_flow": null,
            "grid_area": null,
            "grid_auto_columns": null,
            "grid_auto_flow": null,
            "grid_auto_rows": null,
            "grid_column": null,
            "grid_gap": null,
            "grid_row": null,
            "grid_template_areas": null,
            "grid_template_columns": null,
            "grid_template_rows": null,
            "height": null,
            "justify_content": null,
            "justify_items": null,
            "left": null,
            "margin": null,
            "max_height": null,
            "max_width": null,
            "min_height": null,
            "min_width": null,
            "object_fit": null,
            "object_position": null,
            "order": null,
            "overflow": null,
            "overflow_x": null,
            "overflow_y": null,
            "padding": null,
            "right": null,
            "top": null,
            "visibility": null,
            "width": null
          }
        },
        "1976de2cbb214d66ae05bad1cdbf1fc0": {
          "model_module": "@jupyter-widgets/controls",
          "model_name": "DescriptionStyleModel",
          "model_module_version": "1.5.0",
          "state": {
            "_model_module": "@jupyter-widgets/controls",
            "_model_module_version": "1.5.0",
            "_model_name": "DescriptionStyleModel",
            "_view_count": null,
            "_view_module": "@jupyter-widgets/base",
            "_view_module_version": "1.2.0",
            "_view_name": "StyleView",
            "description_width": ""
          }
        },
        "a483bfb5d0c44a5b80e1dbb468a0288b": {
          "model_module": "@jupyter-widgets/controls",
          "model_name": "HBoxModel",
          "model_module_version": "1.5.0",
          "state": {
            "_dom_classes": [],
            "_model_module": "@jupyter-widgets/controls",
            "_model_module_version": "1.5.0",
            "_model_name": "HBoxModel",
            "_view_count": null,
            "_view_module": "@jupyter-widgets/controls",
            "_view_module_version": "1.5.0",
            "_view_name": "HBoxView",
            "box_style": "",
            "children": [
              "IPY_MODEL_71769eeaa3884f08859fd7f14b8e116e",
              "IPY_MODEL_eb41b97461594665817f4017287d0604",
              "IPY_MODEL_5406b872633f4ec3b2c38c40e3caabc3"
            ],
            "layout": "IPY_MODEL_94833754de1a4b0eaf6d07724d81b1a1"
          }
        },
        "71769eeaa3884f08859fd7f14b8e116e": {
          "model_module": "@jupyter-widgets/controls",
          "model_name": "HTMLModel",
          "model_module_version": "1.5.0",
          "state": {
            "_dom_classes": [],
            "_model_module": "@jupyter-widgets/controls",
            "_model_module_version": "1.5.0",
            "_model_name": "HTMLModel",
            "_view_count": null,
            "_view_module": "@jupyter-widgets/controls",
            "_view_module_version": "1.5.0",
            "_view_name": "HTMLView",
            "description": "",
            "description_tooltip": null,
            "layout": "IPY_MODEL_1a0461821d414a7ebb582c8c9c226e4c",
            "placeholder": "​",
            "style": "IPY_MODEL_a393a75496684cd3a96d496ac7377bc0",
            "value": "Downloading: 100%"
          }
        },
        "eb41b97461594665817f4017287d0604": {
          "model_module": "@jupyter-widgets/controls",
          "model_name": "FloatProgressModel",
          "model_module_version": "1.5.0",
          "state": {
            "_dom_classes": [],
            "_model_module": "@jupyter-widgets/controls",
            "_model_module_version": "1.5.0",
            "_model_name": "FloatProgressModel",
            "_view_count": null,
            "_view_module": "@jupyter-widgets/controls",
            "_view_module_version": "1.5.0",
            "_view_name": "ProgressView",
            "bar_style": "success",
            "description": "",
            "description_tooltip": null,
            "layout": "IPY_MODEL_cd5b3818397542239451cf2eb08cb835",
            "max": 483,
            "min": 0,
            "orientation": "horizontal",
            "style": "IPY_MODEL_108850e4cb6d402fb282c173eb862f69",
            "value": 483
          }
        },
        "5406b872633f4ec3b2c38c40e3caabc3": {
          "model_module": "@jupyter-widgets/controls",
          "model_name": "HTMLModel",
          "model_module_version": "1.5.0",
          "state": {
            "_dom_classes": [],
            "_model_module": "@jupyter-widgets/controls",
            "_model_module_version": "1.5.0",
            "_model_name": "HTMLModel",
            "_view_count": null,
            "_view_module": "@jupyter-widgets/controls",
            "_view_module_version": "1.5.0",
            "_view_name": "HTMLView",
            "description": "",
            "description_tooltip": null,
            "layout": "IPY_MODEL_e150c6f5692045268e79796982a13a8e",
            "placeholder": "​",
            "style": "IPY_MODEL_ce18ac5c1e164b69b6bef964a503429a",
            "value": " 483/483 [00:00&lt;00:00, 17.3kB/s]"
          }
        },
        "94833754de1a4b0eaf6d07724d81b1a1": {
          "model_module": "@jupyter-widgets/base",
          "model_name": "LayoutModel",
          "model_module_version": "1.2.0",
          "state": {
            "_model_module": "@jupyter-widgets/base",
            "_model_module_version": "1.2.0",
            "_model_name": "LayoutModel",
            "_view_count": null,
            "_view_module": "@jupyter-widgets/base",
            "_view_module_version": "1.2.0",
            "_view_name": "LayoutView",
            "align_content": null,
            "align_items": null,
            "align_self": null,
            "border": null,
            "bottom": null,
            "display": null,
            "flex": null,
            "flex_flow": null,
            "grid_area": null,
            "grid_auto_columns": null,
            "grid_auto_flow": null,
            "grid_auto_rows": null,
            "grid_column": null,
            "grid_gap": null,
            "grid_row": null,
            "grid_template_areas": null,
            "grid_template_columns": null,
            "grid_template_rows": null,
            "height": null,
            "justify_content": null,
            "justify_items": null,
            "left": null,
            "margin": null,
            "max_height": null,
            "max_width": null,
            "min_height": null,
            "min_width": null,
            "object_fit": null,
            "object_position": null,
            "order": null,
            "overflow": null,
            "overflow_x": null,
            "overflow_y": null,
            "padding": null,
            "right": null,
            "top": null,
            "visibility": null,
            "width": null
          }
        },
        "1a0461821d414a7ebb582c8c9c226e4c": {
          "model_module": "@jupyter-widgets/base",
          "model_name": "LayoutModel",
          "model_module_version": "1.2.0",
          "state": {
            "_model_module": "@jupyter-widgets/base",
            "_model_module_version": "1.2.0",
            "_model_name": "LayoutModel",
            "_view_count": null,
            "_view_module": "@jupyter-widgets/base",
            "_view_module_version": "1.2.0",
            "_view_name": "LayoutView",
            "align_content": null,
            "align_items": null,
            "align_self": null,
            "border": null,
            "bottom": null,
            "display": null,
            "flex": null,
            "flex_flow": null,
            "grid_area": null,
            "grid_auto_columns": null,
            "grid_auto_flow": null,
            "grid_auto_rows": null,
            "grid_column": null,
            "grid_gap": null,
            "grid_row": null,
            "grid_template_areas": null,
            "grid_template_columns": null,
            "grid_template_rows": null,
            "height": null,
            "justify_content": null,
            "justify_items": null,
            "left": null,
            "margin": null,
            "max_height": null,
            "max_width": null,
            "min_height": null,
            "min_width": null,
            "object_fit": null,
            "object_position": null,
            "order": null,
            "overflow": null,
            "overflow_x": null,
            "overflow_y": null,
            "padding": null,
            "right": null,
            "top": null,
            "visibility": null,
            "width": null
          }
        },
        "a393a75496684cd3a96d496ac7377bc0": {
          "model_module": "@jupyter-widgets/controls",
          "model_name": "DescriptionStyleModel",
          "model_module_version": "1.5.0",
          "state": {
            "_model_module": "@jupyter-widgets/controls",
            "_model_module_version": "1.5.0",
            "_model_name": "DescriptionStyleModel",
            "_view_count": null,
            "_view_module": "@jupyter-widgets/base",
            "_view_module_version": "1.2.0",
            "_view_name": "StyleView",
            "description_width": ""
          }
        },
        "cd5b3818397542239451cf2eb08cb835": {
          "model_module": "@jupyter-widgets/base",
          "model_name": "LayoutModel",
          "model_module_version": "1.2.0",
          "state": {
            "_model_module": "@jupyter-widgets/base",
            "_model_module_version": "1.2.0",
            "_model_name": "LayoutModel",
            "_view_count": null,
            "_view_module": "@jupyter-widgets/base",
            "_view_module_version": "1.2.0",
            "_view_name": "LayoutView",
            "align_content": null,
            "align_items": null,
            "align_self": null,
            "border": null,
            "bottom": null,
            "display": null,
            "flex": null,
            "flex_flow": null,
            "grid_area": null,
            "grid_auto_columns": null,
            "grid_auto_flow": null,
            "grid_auto_rows": null,
            "grid_column": null,
            "grid_gap": null,
            "grid_row": null,
            "grid_template_areas": null,
            "grid_template_columns": null,
            "grid_template_rows": null,
            "height": null,
            "justify_content": null,
            "justify_items": null,
            "left": null,
            "margin": null,
            "max_height": null,
            "max_width": null,
            "min_height": null,
            "min_width": null,
            "object_fit": null,
            "object_position": null,
            "order": null,
            "overflow": null,
            "overflow_x": null,
            "overflow_y": null,
            "padding": null,
            "right": null,
            "top": null,
            "visibility": null,
            "width": null
          }
        },
        "108850e4cb6d402fb282c173eb862f69": {
          "model_module": "@jupyter-widgets/controls",
          "model_name": "ProgressStyleModel",
          "model_module_version": "1.5.0",
          "state": {
            "_model_module": "@jupyter-widgets/controls",
            "_model_module_version": "1.5.0",
            "_model_name": "ProgressStyleModel",
            "_view_count": null,
            "_view_module": "@jupyter-widgets/base",
            "_view_module_version": "1.2.0",
            "_view_name": "StyleView",
            "bar_color": null,
            "description_width": ""
          }
        },
        "e150c6f5692045268e79796982a13a8e": {
          "model_module": "@jupyter-widgets/base",
          "model_name": "LayoutModel",
          "model_module_version": "1.2.0",
          "state": {
            "_model_module": "@jupyter-widgets/base",
            "_model_module_version": "1.2.0",
            "_model_name": "LayoutModel",
            "_view_count": null,
            "_view_module": "@jupyter-widgets/base",
            "_view_module_version": "1.2.0",
            "_view_name": "LayoutView",
            "align_content": null,
            "align_items": null,
            "align_self": null,
            "border": null,
            "bottom": null,
            "display": null,
            "flex": null,
            "flex_flow": null,
            "grid_area": null,
            "grid_auto_columns": null,
            "grid_auto_flow": null,
            "grid_auto_rows": null,
            "grid_column": null,
            "grid_gap": null,
            "grid_row": null,
            "grid_template_areas": null,
            "grid_template_columns": null,
            "grid_template_rows": null,
            "height": null,
            "justify_content": null,
            "justify_items": null,
            "left": null,
            "margin": null,
            "max_height": null,
            "max_width": null,
            "min_height": null,
            "min_width": null,
            "object_fit": null,
            "object_position": null,
            "order": null,
            "overflow": null,
            "overflow_x": null,
            "overflow_y": null,
            "padding": null,
            "right": null,
            "top": null,
            "visibility": null,
            "width": null
          }
        },
        "ce18ac5c1e164b69b6bef964a503429a": {
          "model_module": "@jupyter-widgets/controls",
          "model_name": "DescriptionStyleModel",
          "model_module_version": "1.5.0",
          "state": {
            "_model_module": "@jupyter-widgets/controls",
            "_model_module_version": "1.5.0",
            "_model_name": "DescriptionStyleModel",
            "_view_count": null,
            "_view_module": "@jupyter-widgets/base",
            "_view_module_version": "1.2.0",
            "_view_name": "StyleView",
            "description_width": ""
          }
        },
        "5bb74a215f344107b9554ec57af984c8": {
          "model_module": "@jupyter-widgets/controls",
          "model_name": "HBoxModel",
          "model_module_version": "1.5.0",
          "state": {
            "_dom_classes": [],
            "_model_module": "@jupyter-widgets/controls",
            "_model_module_version": "1.5.0",
            "_model_name": "HBoxModel",
            "_view_count": null,
            "_view_module": "@jupyter-widgets/controls",
            "_view_module_version": "1.5.0",
            "_view_name": "HBoxView",
            "box_style": "",
            "children": [
              "IPY_MODEL_6016c7e1ae5745758cb79372266a57ac",
              "IPY_MODEL_f6963d550ba249b4a82a44e5d950b367",
              "IPY_MODEL_255c39ba99f440e090f856b5713f148e"
            ],
            "layout": "IPY_MODEL_f2050261d02143aa9b9def0326ee809f"
          }
        },
        "6016c7e1ae5745758cb79372266a57ac": {
          "model_module": "@jupyter-widgets/controls",
          "model_name": "HTMLModel",
          "model_module_version": "1.5.0",
          "state": {
            "_dom_classes": [],
            "_model_module": "@jupyter-widgets/controls",
            "_model_module_version": "1.5.0",
            "_model_name": "HTMLModel",
            "_view_count": null,
            "_view_module": "@jupyter-widgets/controls",
            "_view_module_version": "1.5.0",
            "_view_name": "HTMLView",
            "description": "",
            "description_tooltip": null,
            "layout": "IPY_MODEL_4c4069154c254dc88b25352c1aef2570",
            "placeholder": "​",
            "style": "IPY_MODEL_aba64669a0644507944bf64e30d4e279",
            "value": "Downloading: 100%"
          }
        },
        "f6963d550ba249b4a82a44e5d950b367": {
          "model_module": "@jupyter-widgets/controls",
          "model_name": "FloatProgressModel",
          "model_module_version": "1.5.0",
          "state": {
            "_dom_classes": [],
            "_model_module": "@jupyter-widgets/controls",
            "_model_module_version": "1.5.0",
            "_model_name": "FloatProgressModel",
            "_view_count": null,
            "_view_module": "@jupyter-widgets/controls",
            "_view_module_version": "1.5.0",
            "_view_name": "ProgressView",
            "bar_style": "success",
            "description": "",
            "description_tooltip": null,
            "layout": "IPY_MODEL_532936d8abd44abe8a5fd0cc5cbe4b54",
            "max": 231508,
            "min": 0,
            "orientation": "horizontal",
            "style": "IPY_MODEL_87255445266d4e8d898aa7de3bdb9134",
            "value": 231508
          }
        },
        "255c39ba99f440e090f856b5713f148e": {
          "model_module": "@jupyter-widgets/controls",
          "model_name": "HTMLModel",
          "model_module_version": "1.5.0",
          "state": {
            "_dom_classes": [],
            "_model_module": "@jupyter-widgets/controls",
            "_model_module_version": "1.5.0",
            "_model_name": "HTMLModel",
            "_view_count": null,
            "_view_module": "@jupyter-widgets/controls",
            "_view_module_version": "1.5.0",
            "_view_name": "HTMLView",
            "description": "",
            "description_tooltip": null,
            "layout": "IPY_MODEL_98a0cbf5dd904bdfaff5d44c38e8c3ed",
            "placeholder": "​",
            "style": "IPY_MODEL_7834b2e997674b03a2760ed08a430acd",
            "value": " 232k/232k [00:00&lt;00:00, 276kB/s]"
          }
        },
        "f2050261d02143aa9b9def0326ee809f": {
          "model_module": "@jupyter-widgets/base",
          "model_name": "LayoutModel",
          "model_module_version": "1.2.0",
          "state": {
            "_model_module": "@jupyter-widgets/base",
            "_model_module_version": "1.2.0",
            "_model_name": "LayoutModel",
            "_view_count": null,
            "_view_module": "@jupyter-widgets/base",
            "_view_module_version": "1.2.0",
            "_view_name": "LayoutView",
            "align_content": null,
            "align_items": null,
            "align_self": null,
            "border": null,
            "bottom": null,
            "display": null,
            "flex": null,
            "flex_flow": null,
            "grid_area": null,
            "grid_auto_columns": null,
            "grid_auto_flow": null,
            "grid_auto_rows": null,
            "grid_column": null,
            "grid_gap": null,
            "grid_row": null,
            "grid_template_areas": null,
            "grid_template_columns": null,
            "grid_template_rows": null,
            "height": null,
            "justify_content": null,
            "justify_items": null,
            "left": null,
            "margin": null,
            "max_height": null,
            "max_width": null,
            "min_height": null,
            "min_width": null,
            "object_fit": null,
            "object_position": null,
            "order": null,
            "overflow": null,
            "overflow_x": null,
            "overflow_y": null,
            "padding": null,
            "right": null,
            "top": null,
            "visibility": null,
            "width": null
          }
        },
        "4c4069154c254dc88b25352c1aef2570": {
          "model_module": "@jupyter-widgets/base",
          "model_name": "LayoutModel",
          "model_module_version": "1.2.0",
          "state": {
            "_model_module": "@jupyter-widgets/base",
            "_model_module_version": "1.2.0",
            "_model_name": "LayoutModel",
            "_view_count": null,
            "_view_module": "@jupyter-widgets/base",
            "_view_module_version": "1.2.0",
            "_view_name": "LayoutView",
            "align_content": null,
            "align_items": null,
            "align_self": null,
            "border": null,
            "bottom": null,
            "display": null,
            "flex": null,
            "flex_flow": null,
            "grid_area": null,
            "grid_auto_columns": null,
            "grid_auto_flow": null,
            "grid_auto_rows": null,
            "grid_column": null,
            "grid_gap": null,
            "grid_row": null,
            "grid_template_areas": null,
            "grid_template_columns": null,
            "grid_template_rows": null,
            "height": null,
            "justify_content": null,
            "justify_items": null,
            "left": null,
            "margin": null,
            "max_height": null,
            "max_width": null,
            "min_height": null,
            "min_width": null,
            "object_fit": null,
            "object_position": null,
            "order": null,
            "overflow": null,
            "overflow_x": null,
            "overflow_y": null,
            "padding": null,
            "right": null,
            "top": null,
            "visibility": null,
            "width": null
          }
        },
        "aba64669a0644507944bf64e30d4e279": {
          "model_module": "@jupyter-widgets/controls",
          "model_name": "DescriptionStyleModel",
          "model_module_version": "1.5.0",
          "state": {
            "_model_module": "@jupyter-widgets/controls",
            "_model_module_version": "1.5.0",
            "_model_name": "DescriptionStyleModel",
            "_view_count": null,
            "_view_module": "@jupyter-widgets/base",
            "_view_module_version": "1.2.0",
            "_view_name": "StyleView",
            "description_width": ""
          }
        },
        "532936d8abd44abe8a5fd0cc5cbe4b54": {
          "model_module": "@jupyter-widgets/base",
          "model_name": "LayoutModel",
          "model_module_version": "1.2.0",
          "state": {
            "_model_module": "@jupyter-widgets/base",
            "_model_module_version": "1.2.0",
            "_model_name": "LayoutModel",
            "_view_count": null,
            "_view_module": "@jupyter-widgets/base",
            "_view_module_version": "1.2.0",
            "_view_name": "LayoutView",
            "align_content": null,
            "align_items": null,
            "align_self": null,
            "border": null,
            "bottom": null,
            "display": null,
            "flex": null,
            "flex_flow": null,
            "grid_area": null,
            "grid_auto_columns": null,
            "grid_auto_flow": null,
            "grid_auto_rows": null,
            "grid_column": null,
            "grid_gap": null,
            "grid_row": null,
            "grid_template_areas": null,
            "grid_template_columns": null,
            "grid_template_rows": null,
            "height": null,
            "justify_content": null,
            "justify_items": null,
            "left": null,
            "margin": null,
            "max_height": null,
            "max_width": null,
            "min_height": null,
            "min_width": null,
            "object_fit": null,
            "object_position": null,
            "order": null,
            "overflow": null,
            "overflow_x": null,
            "overflow_y": null,
            "padding": null,
            "right": null,
            "top": null,
            "visibility": null,
            "width": null
          }
        },
        "87255445266d4e8d898aa7de3bdb9134": {
          "model_module": "@jupyter-widgets/controls",
          "model_name": "ProgressStyleModel",
          "model_module_version": "1.5.0",
          "state": {
            "_model_module": "@jupyter-widgets/controls",
            "_model_module_version": "1.5.0",
            "_model_name": "ProgressStyleModel",
            "_view_count": null,
            "_view_module": "@jupyter-widgets/base",
            "_view_module_version": "1.2.0",
            "_view_name": "StyleView",
            "bar_color": null,
            "description_width": ""
          }
        },
        "98a0cbf5dd904bdfaff5d44c38e8c3ed": {
          "model_module": "@jupyter-widgets/base",
          "model_name": "LayoutModel",
          "model_module_version": "1.2.0",
          "state": {
            "_model_module": "@jupyter-widgets/base",
            "_model_module_version": "1.2.0",
            "_model_name": "LayoutModel",
            "_view_count": null,
            "_view_module": "@jupyter-widgets/base",
            "_view_module_version": "1.2.0",
            "_view_name": "LayoutView",
            "align_content": null,
            "align_items": null,
            "align_self": null,
            "border": null,
            "bottom": null,
            "display": null,
            "flex": null,
            "flex_flow": null,
            "grid_area": null,
            "grid_auto_columns": null,
            "grid_auto_flow": null,
            "grid_auto_rows": null,
            "grid_column": null,
            "grid_gap": null,
            "grid_row": null,
            "grid_template_areas": null,
            "grid_template_columns": null,
            "grid_template_rows": null,
            "height": null,
            "justify_content": null,
            "justify_items": null,
            "left": null,
            "margin": null,
            "max_height": null,
            "max_width": null,
            "min_height": null,
            "min_width": null,
            "object_fit": null,
            "object_position": null,
            "order": null,
            "overflow": null,
            "overflow_x": null,
            "overflow_y": null,
            "padding": null,
            "right": null,
            "top": null,
            "visibility": null,
            "width": null
          }
        },
        "7834b2e997674b03a2760ed08a430acd": {
          "model_module": "@jupyter-widgets/controls",
          "model_name": "DescriptionStyleModel",
          "model_module_version": "1.5.0",
          "state": {
            "_model_module": "@jupyter-widgets/controls",
            "_model_module_version": "1.5.0",
            "_model_name": "DescriptionStyleModel",
            "_view_count": null,
            "_view_module": "@jupyter-widgets/base",
            "_view_module_version": "1.2.0",
            "_view_name": "StyleView",
            "description_width": ""
          }
        },
        "e086c085922d464d95749d8815c3eb9a": {
          "model_module": "@jupyter-widgets/controls",
          "model_name": "HBoxModel",
          "model_module_version": "1.5.0",
          "state": {
            "_dom_classes": [],
            "_model_module": "@jupyter-widgets/controls",
            "_model_module_version": "1.5.0",
            "_model_name": "HBoxModel",
            "_view_count": null,
            "_view_module": "@jupyter-widgets/controls",
            "_view_module_version": "1.5.0",
            "_view_name": "HBoxView",
            "box_style": "",
            "children": [
              "IPY_MODEL_c784e5ea051c41e1a4a5f1eef4a2fa27",
              "IPY_MODEL_b2a9fde79a3d48a38d75fbd92615dca1",
              "IPY_MODEL_52ba6d65841049a2a6d9cba9844f948f"
            ],
            "layout": "IPY_MODEL_4f4c6ff3c37345bda15e2424a8be1cfe"
          }
        },
        "c784e5ea051c41e1a4a5f1eef4a2fa27": {
          "model_module": "@jupyter-widgets/controls",
          "model_name": "HTMLModel",
          "model_module_version": "1.5.0",
          "state": {
            "_dom_classes": [],
            "_model_module": "@jupyter-widgets/controls",
            "_model_module_version": "1.5.0",
            "_model_name": "HTMLModel",
            "_view_count": null,
            "_view_module": "@jupyter-widgets/controls",
            "_view_module_version": "1.5.0",
            "_view_name": "HTMLView",
            "description": "",
            "description_tooltip": null,
            "layout": "IPY_MODEL_08d9ec44d2c5407ca74f4484e9f27fe3",
            "placeholder": "​",
            "style": "IPY_MODEL_f6e6b54be8914f1ea88c7482008a7df8",
            "value": "Downloading: 100%"
          }
        },
        "b2a9fde79a3d48a38d75fbd92615dca1": {
          "model_module": "@jupyter-widgets/controls",
          "model_name": "FloatProgressModel",
          "model_module_version": "1.5.0",
          "state": {
            "_dom_classes": [],
            "_model_module": "@jupyter-widgets/controls",
            "_model_module_version": "1.5.0",
            "_model_name": "FloatProgressModel",
            "_view_count": null,
            "_view_module": "@jupyter-widgets/controls",
            "_view_module_version": "1.5.0",
            "_view_name": "ProgressView",
            "bar_style": "success",
            "description": "",
            "description_tooltip": null,
            "layout": "IPY_MODEL_4ad59c53cda0429c8bcfa8fcf0d1ebbd",
            "max": 466062,
            "min": 0,
            "orientation": "horizontal",
            "style": "IPY_MODEL_c9d46c50ab894f57a4a77eafb0d5d797",
            "value": 466062
          }
        },
        "52ba6d65841049a2a6d9cba9844f948f": {
          "model_module": "@jupyter-widgets/controls",
          "model_name": "HTMLModel",
          "model_module_version": "1.5.0",
          "state": {
            "_dom_classes": [],
            "_model_module": "@jupyter-widgets/controls",
            "_model_module_version": "1.5.0",
            "_model_name": "HTMLModel",
            "_view_count": null,
            "_view_module": "@jupyter-widgets/controls",
            "_view_module_version": "1.5.0",
            "_view_name": "HTMLView",
            "description": "",
            "description_tooltip": null,
            "layout": "IPY_MODEL_b6aec911e41041ee995dae427ea60fa0",
            "placeholder": "​",
            "style": "IPY_MODEL_cbf5e670586b44119fb8937b111d97cc",
            "value": " 466k/466k [00:01&lt;00:00, 558kB/s]"
          }
        },
        "4f4c6ff3c37345bda15e2424a8be1cfe": {
          "model_module": "@jupyter-widgets/base",
          "model_name": "LayoutModel",
          "model_module_version": "1.2.0",
          "state": {
            "_model_module": "@jupyter-widgets/base",
            "_model_module_version": "1.2.0",
            "_model_name": "LayoutModel",
            "_view_count": null,
            "_view_module": "@jupyter-widgets/base",
            "_view_module_version": "1.2.0",
            "_view_name": "LayoutView",
            "align_content": null,
            "align_items": null,
            "align_self": null,
            "border": null,
            "bottom": null,
            "display": null,
            "flex": null,
            "flex_flow": null,
            "grid_area": null,
            "grid_auto_columns": null,
            "grid_auto_flow": null,
            "grid_auto_rows": null,
            "grid_column": null,
            "grid_gap": null,
            "grid_row": null,
            "grid_template_areas": null,
            "grid_template_columns": null,
            "grid_template_rows": null,
            "height": null,
            "justify_content": null,
            "justify_items": null,
            "left": null,
            "margin": null,
            "max_height": null,
            "max_width": null,
            "min_height": null,
            "min_width": null,
            "object_fit": null,
            "object_position": null,
            "order": null,
            "overflow": null,
            "overflow_x": null,
            "overflow_y": null,
            "padding": null,
            "right": null,
            "top": null,
            "visibility": null,
            "width": null
          }
        },
        "08d9ec44d2c5407ca74f4484e9f27fe3": {
          "model_module": "@jupyter-widgets/base",
          "model_name": "LayoutModel",
          "model_module_version": "1.2.0",
          "state": {
            "_model_module": "@jupyter-widgets/base",
            "_model_module_version": "1.2.0",
            "_model_name": "LayoutModel",
            "_view_count": null,
            "_view_module": "@jupyter-widgets/base",
            "_view_module_version": "1.2.0",
            "_view_name": "LayoutView",
            "align_content": null,
            "align_items": null,
            "align_self": null,
            "border": null,
            "bottom": null,
            "display": null,
            "flex": null,
            "flex_flow": null,
            "grid_area": null,
            "grid_auto_columns": null,
            "grid_auto_flow": null,
            "grid_auto_rows": null,
            "grid_column": null,
            "grid_gap": null,
            "grid_row": null,
            "grid_template_areas": null,
            "grid_template_columns": null,
            "grid_template_rows": null,
            "height": null,
            "justify_content": null,
            "justify_items": null,
            "left": null,
            "margin": null,
            "max_height": null,
            "max_width": null,
            "min_height": null,
            "min_width": null,
            "object_fit": null,
            "object_position": null,
            "order": null,
            "overflow": null,
            "overflow_x": null,
            "overflow_y": null,
            "padding": null,
            "right": null,
            "top": null,
            "visibility": null,
            "width": null
          }
        },
        "f6e6b54be8914f1ea88c7482008a7df8": {
          "model_module": "@jupyter-widgets/controls",
          "model_name": "DescriptionStyleModel",
          "model_module_version": "1.5.0",
          "state": {
            "_model_module": "@jupyter-widgets/controls",
            "_model_module_version": "1.5.0",
            "_model_name": "DescriptionStyleModel",
            "_view_count": null,
            "_view_module": "@jupyter-widgets/base",
            "_view_module_version": "1.2.0",
            "_view_name": "StyleView",
            "description_width": ""
          }
        },
        "4ad59c53cda0429c8bcfa8fcf0d1ebbd": {
          "model_module": "@jupyter-widgets/base",
          "model_name": "LayoutModel",
          "model_module_version": "1.2.0",
          "state": {
            "_model_module": "@jupyter-widgets/base",
            "_model_module_version": "1.2.0",
            "_model_name": "LayoutModel",
            "_view_count": null,
            "_view_module": "@jupyter-widgets/base",
            "_view_module_version": "1.2.0",
            "_view_name": "LayoutView",
            "align_content": null,
            "align_items": null,
            "align_self": null,
            "border": null,
            "bottom": null,
            "display": null,
            "flex": null,
            "flex_flow": null,
            "grid_area": null,
            "grid_auto_columns": null,
            "grid_auto_flow": null,
            "grid_auto_rows": null,
            "grid_column": null,
            "grid_gap": null,
            "grid_row": null,
            "grid_template_areas": null,
            "grid_template_columns": null,
            "grid_template_rows": null,
            "height": null,
            "justify_content": null,
            "justify_items": null,
            "left": null,
            "margin": null,
            "max_height": null,
            "max_width": null,
            "min_height": null,
            "min_width": null,
            "object_fit": null,
            "object_position": null,
            "order": null,
            "overflow": null,
            "overflow_x": null,
            "overflow_y": null,
            "padding": null,
            "right": null,
            "top": null,
            "visibility": null,
            "width": null
          }
        },
        "c9d46c50ab894f57a4a77eafb0d5d797": {
          "model_module": "@jupyter-widgets/controls",
          "model_name": "ProgressStyleModel",
          "model_module_version": "1.5.0",
          "state": {
            "_model_module": "@jupyter-widgets/controls",
            "_model_module_version": "1.5.0",
            "_model_name": "ProgressStyleModel",
            "_view_count": null,
            "_view_module": "@jupyter-widgets/base",
            "_view_module_version": "1.2.0",
            "_view_name": "StyleView",
            "bar_color": null,
            "description_width": ""
          }
        },
        "b6aec911e41041ee995dae427ea60fa0": {
          "model_module": "@jupyter-widgets/base",
          "model_name": "LayoutModel",
          "model_module_version": "1.2.0",
          "state": {
            "_model_module": "@jupyter-widgets/base",
            "_model_module_version": "1.2.0",
            "_model_name": "LayoutModel",
            "_view_count": null,
            "_view_module": "@jupyter-widgets/base",
            "_view_module_version": "1.2.0",
            "_view_name": "LayoutView",
            "align_content": null,
            "align_items": null,
            "align_self": null,
            "border": null,
            "bottom": null,
            "display": null,
            "flex": null,
            "flex_flow": null,
            "grid_area": null,
            "grid_auto_columns": null,
            "grid_auto_flow": null,
            "grid_auto_rows": null,
            "grid_column": null,
            "grid_gap": null,
            "grid_row": null,
            "grid_template_areas": null,
            "grid_template_columns": null,
            "grid_template_rows": null,
            "height": null,
            "justify_content": null,
            "justify_items": null,
            "left": null,
            "margin": null,
            "max_height": null,
            "max_width": null,
            "min_height": null,
            "min_width": null,
            "object_fit": null,
            "object_position": null,
            "order": null,
            "overflow": null,
            "overflow_x": null,
            "overflow_y": null,
            "padding": null,
            "right": null,
            "top": null,
            "visibility": null,
            "width": null
          }
        },
        "cbf5e670586b44119fb8937b111d97cc": {
          "model_module": "@jupyter-widgets/controls",
          "model_name": "DescriptionStyleModel",
          "model_module_version": "1.5.0",
          "state": {
            "_model_module": "@jupyter-widgets/controls",
            "_model_module_version": "1.5.0",
            "_model_name": "DescriptionStyleModel",
            "_view_count": null,
            "_view_module": "@jupyter-widgets/base",
            "_view_module_version": "1.2.0",
            "_view_name": "StyleView",
            "description_width": ""
          }
        },
        "304699a636f74718aecd8ace860fb57e": {
          "model_module": "@jupyter-widgets/controls",
          "model_name": "HBoxModel",
          "model_module_version": "1.5.0",
          "state": {
            "_dom_classes": [],
            "_model_module": "@jupyter-widgets/controls",
            "_model_module_version": "1.5.0",
            "_model_name": "HBoxModel",
            "_view_count": null,
            "_view_module": "@jupyter-widgets/controls",
            "_view_module_version": "1.5.0",
            "_view_name": "HBoxView",
            "box_style": "",
            "children": [
              "IPY_MODEL_dba57b5f54a74eb282a2f6f4db6874a0",
              "IPY_MODEL_02bcba36deff42bcb8b02152f3c98abf",
              "IPY_MODEL_6bec1d7f93f6485481d7fda09f9745d3"
            ],
            "layout": "IPY_MODEL_e08840386d8047c699f668e46824e1f9"
          }
        },
        "dba57b5f54a74eb282a2f6f4db6874a0": {
          "model_module": "@jupyter-widgets/controls",
          "model_name": "HTMLModel",
          "model_module_version": "1.5.0",
          "state": {
            "_dom_classes": [],
            "_model_module": "@jupyter-widgets/controls",
            "_model_module_version": "1.5.0",
            "_model_name": "HTMLModel",
            "_view_count": null,
            "_view_module": "@jupyter-widgets/controls",
            "_view_module_version": "1.5.0",
            "_view_name": "HTMLView",
            "description": "",
            "description_tooltip": null,
            "layout": "IPY_MODEL_aeb2ef4cead8458ab75f5b5398490728",
            "placeholder": "​",
            "style": "IPY_MODEL_3771b17865014486afc885c882218344",
            "value": "Downloading: 100%"
          }
        },
        "02bcba36deff42bcb8b02152f3c98abf": {
          "model_module": "@jupyter-widgets/controls",
          "model_name": "FloatProgressModel",
          "model_module_version": "1.5.0",
          "state": {
            "_dom_classes": [],
            "_model_module": "@jupyter-widgets/controls",
            "_model_module_version": "1.5.0",
            "_model_name": "FloatProgressModel",
            "_view_count": null,
            "_view_module": "@jupyter-widgets/controls",
            "_view_module_version": "1.5.0",
            "_view_name": "ProgressView",
            "bar_style": "success",
            "description": "",
            "description_tooltip": null,
            "layout": "IPY_MODEL_736aa6112ca94ff6896f0005ad28425b",
            "max": 267967963,
            "min": 0,
            "orientation": "horizontal",
            "style": "IPY_MODEL_9c6d426d9c6d45e594a8a8aeedc57db1",
            "value": 267967963
          }
        },
        "6bec1d7f93f6485481d7fda09f9745d3": {
          "model_module": "@jupyter-widgets/controls",
          "model_name": "HTMLModel",
          "model_module_version": "1.5.0",
          "state": {
            "_dom_classes": [],
            "_model_module": "@jupyter-widgets/controls",
            "_model_module_version": "1.5.0",
            "_model_name": "HTMLModel",
            "_view_count": null,
            "_view_module": "@jupyter-widgets/controls",
            "_view_module_version": "1.5.0",
            "_view_name": "HTMLView",
            "description": "",
            "description_tooltip": null,
            "layout": "IPY_MODEL_1d40354c16c44e2fa4574e40ab77bf96",
            "placeholder": "​",
            "style": "IPY_MODEL_a6fb43497480438ebf6ef6af3e1709ac",
            "value": " 268M/268M [00:03&lt;00:00, 74.0MB/s]"
          }
        },
        "e08840386d8047c699f668e46824e1f9": {
          "model_module": "@jupyter-widgets/base",
          "model_name": "LayoutModel",
          "model_module_version": "1.2.0",
          "state": {
            "_model_module": "@jupyter-widgets/base",
            "_model_module_version": "1.2.0",
            "_model_name": "LayoutModel",
            "_view_count": null,
            "_view_module": "@jupyter-widgets/base",
            "_view_module_version": "1.2.0",
            "_view_name": "LayoutView",
            "align_content": null,
            "align_items": null,
            "align_self": null,
            "border": null,
            "bottom": null,
            "display": null,
            "flex": null,
            "flex_flow": null,
            "grid_area": null,
            "grid_auto_columns": null,
            "grid_auto_flow": null,
            "grid_auto_rows": null,
            "grid_column": null,
            "grid_gap": null,
            "grid_row": null,
            "grid_template_areas": null,
            "grid_template_columns": null,
            "grid_template_rows": null,
            "height": null,
            "justify_content": null,
            "justify_items": null,
            "left": null,
            "margin": null,
            "max_height": null,
            "max_width": null,
            "min_height": null,
            "min_width": null,
            "object_fit": null,
            "object_position": null,
            "order": null,
            "overflow": null,
            "overflow_x": null,
            "overflow_y": null,
            "padding": null,
            "right": null,
            "top": null,
            "visibility": null,
            "width": null
          }
        },
        "aeb2ef4cead8458ab75f5b5398490728": {
          "model_module": "@jupyter-widgets/base",
          "model_name": "LayoutModel",
          "model_module_version": "1.2.0",
          "state": {
            "_model_module": "@jupyter-widgets/base",
            "_model_module_version": "1.2.0",
            "_model_name": "LayoutModel",
            "_view_count": null,
            "_view_module": "@jupyter-widgets/base",
            "_view_module_version": "1.2.0",
            "_view_name": "LayoutView",
            "align_content": null,
            "align_items": null,
            "align_self": null,
            "border": null,
            "bottom": null,
            "display": null,
            "flex": null,
            "flex_flow": null,
            "grid_area": null,
            "grid_auto_columns": null,
            "grid_auto_flow": null,
            "grid_auto_rows": null,
            "grid_column": null,
            "grid_gap": null,
            "grid_row": null,
            "grid_template_areas": null,
            "grid_template_columns": null,
            "grid_template_rows": null,
            "height": null,
            "justify_content": null,
            "justify_items": null,
            "left": null,
            "margin": null,
            "max_height": null,
            "max_width": null,
            "min_height": null,
            "min_width": null,
            "object_fit": null,
            "object_position": null,
            "order": null,
            "overflow": null,
            "overflow_x": null,
            "overflow_y": null,
            "padding": null,
            "right": null,
            "top": null,
            "visibility": null,
            "width": null
          }
        },
        "3771b17865014486afc885c882218344": {
          "model_module": "@jupyter-widgets/controls",
          "model_name": "DescriptionStyleModel",
          "model_module_version": "1.5.0",
          "state": {
            "_model_module": "@jupyter-widgets/controls",
            "_model_module_version": "1.5.0",
            "_model_name": "DescriptionStyleModel",
            "_view_count": null,
            "_view_module": "@jupyter-widgets/base",
            "_view_module_version": "1.2.0",
            "_view_name": "StyleView",
            "description_width": ""
          }
        },
        "736aa6112ca94ff6896f0005ad28425b": {
          "model_module": "@jupyter-widgets/base",
          "model_name": "LayoutModel",
          "model_module_version": "1.2.0",
          "state": {
            "_model_module": "@jupyter-widgets/base",
            "_model_module_version": "1.2.0",
            "_model_name": "LayoutModel",
            "_view_count": null,
            "_view_module": "@jupyter-widgets/base",
            "_view_module_version": "1.2.0",
            "_view_name": "LayoutView",
            "align_content": null,
            "align_items": null,
            "align_self": null,
            "border": null,
            "bottom": null,
            "display": null,
            "flex": null,
            "flex_flow": null,
            "grid_area": null,
            "grid_auto_columns": null,
            "grid_auto_flow": null,
            "grid_auto_rows": null,
            "grid_column": null,
            "grid_gap": null,
            "grid_row": null,
            "grid_template_areas": null,
            "grid_template_columns": null,
            "grid_template_rows": null,
            "height": null,
            "justify_content": null,
            "justify_items": null,
            "left": null,
            "margin": null,
            "max_height": null,
            "max_width": null,
            "min_height": null,
            "min_width": null,
            "object_fit": null,
            "object_position": null,
            "order": null,
            "overflow": null,
            "overflow_x": null,
            "overflow_y": null,
            "padding": null,
            "right": null,
            "top": null,
            "visibility": null,
            "width": null
          }
        },
        "9c6d426d9c6d45e594a8a8aeedc57db1": {
          "model_module": "@jupyter-widgets/controls",
          "model_name": "ProgressStyleModel",
          "model_module_version": "1.5.0",
          "state": {
            "_model_module": "@jupyter-widgets/controls",
            "_model_module_version": "1.5.0",
            "_model_name": "ProgressStyleModel",
            "_view_count": null,
            "_view_module": "@jupyter-widgets/base",
            "_view_module_version": "1.2.0",
            "_view_name": "StyleView",
            "bar_color": null,
            "description_width": ""
          }
        },
        "1d40354c16c44e2fa4574e40ab77bf96": {
          "model_module": "@jupyter-widgets/base",
          "model_name": "LayoutModel",
          "model_module_version": "1.2.0",
          "state": {
            "_model_module": "@jupyter-widgets/base",
            "_model_module_version": "1.2.0",
            "_model_name": "LayoutModel",
            "_view_count": null,
            "_view_module": "@jupyter-widgets/base",
            "_view_module_version": "1.2.0",
            "_view_name": "LayoutView",
            "align_content": null,
            "align_items": null,
            "align_self": null,
            "border": null,
            "bottom": null,
            "display": null,
            "flex": null,
            "flex_flow": null,
            "grid_area": null,
            "grid_auto_columns": null,
            "grid_auto_flow": null,
            "grid_auto_rows": null,
            "grid_column": null,
            "grid_gap": null,
            "grid_row": null,
            "grid_template_areas": null,
            "grid_template_columns": null,
            "grid_template_rows": null,
            "height": null,
            "justify_content": null,
            "justify_items": null,
            "left": null,
            "margin": null,
            "max_height": null,
            "max_width": null,
            "min_height": null,
            "min_width": null,
            "object_fit": null,
            "object_position": null,
            "order": null,
            "overflow": null,
            "overflow_x": null,
            "overflow_y": null,
            "padding": null,
            "right": null,
            "top": null,
            "visibility": null,
            "width": null
          }
        },
        "a6fb43497480438ebf6ef6af3e1709ac": {
          "model_module": "@jupyter-widgets/controls",
          "model_name": "DescriptionStyleModel",
          "model_module_version": "1.5.0",
          "state": {
            "_model_module": "@jupyter-widgets/controls",
            "_model_module_version": "1.5.0",
            "_model_name": "DescriptionStyleModel",
            "_view_count": null,
            "_view_module": "@jupyter-widgets/base",
            "_view_module_version": "1.2.0",
            "_view_name": "StyleView",
            "description_width": ""
          }
        }
      }
    }
  },
  "cells": [
    {
      "cell_type": "markdown",
      "metadata": {
        "id": "view-in-github",
        "colab_type": "text"
      },
      "source": [
        "<a href=\"https://colab.research.google.com/github/ribesstefano/chalmers_dat450_ml_for_nlp/blob/main/A4_Biomedical_Named_Entity_Recognition.ipynb\" target=\"_parent\"><img src=\"https://colab.research.google.com/assets/colab-badge.svg\" alt=\"Open In Colab\"/></a>"
      ]
    },
    {
      "cell_type": "markdown",
      "source": [
        "[Link to the Assignment Instructions](http://www.cse.chalmers.se/~richajo/dat450/assignments/assignment4.html)"
      ],
      "metadata": {
        "id": "F3ACCg1u89WB"
      }
    },
    {
      "cell_type": "markdown",
      "source": [
        "# Authors\n",
        "\n",
        "* Stefano Ribes\n",
        "* Cody Hesse\n",
        "* Albin Jansfelt\n",
        "\n",
        "This notebook can also be viewed at this link: https://drive.google.com/file/d/1y8L9S7WLQnvxjmD0lNI8P7sW9ZQibv4M/view?usp=sharing"
      ],
      "metadata": {
        "id": "W-FHbtF8mMei"
      }
    },
    {
      "cell_type": "markdown",
      "metadata": {
        "id": "515lRhuHc_MR"
      },
      "source": [
        "## For Colab users\n",
        "\n",
        "Uncomment the following to install the Transformers library (only necessary if you solve the second optional task)."
      ]
    },
    {
      "cell_type": "code",
      "metadata": {
        "id": "S5mmR1FUclzV",
        "colab": {
          "base_uri": "https://localhost:8080/"
        },
        "outputId": "d16c64fd-1cf8-46cd-9031-c36d7f1ef90d"
      },
      "source": [
        "!pip install transformers"
      ],
      "execution_count": null,
      "outputs": [
        {
          "output_type": "stream",
          "name": "stdout",
          "text": [
            "Looking in indexes: https://pypi.org/simple, https://us-python.pkg.dev/colab-wheels/public/simple/\n",
            "Collecting transformers\n",
            "  Downloading transformers-4.25.1-py3-none-any.whl (5.8 MB)\n",
            "\u001b[K     |████████████████████████████████| 5.8 MB 19.2 MB/s \n",
            "\u001b[?25hCollecting huggingface-hub<1.0,>=0.10.0\n",
            "  Downloading huggingface_hub-0.11.1-py3-none-any.whl (182 kB)\n",
            "\u001b[K     |████████████████████████████████| 182 kB 74.5 MB/s \n",
            "\u001b[?25hRequirement already satisfied: regex!=2019.12.17 in /usr/local/lib/python3.8/dist-packages (from transformers) (2022.6.2)\n",
            "Requirement already satisfied: packaging>=20.0 in /usr/local/lib/python3.8/dist-packages (from transformers) (21.3)\n",
            "Requirement already satisfied: requests in /usr/local/lib/python3.8/dist-packages (from transformers) (2.23.0)\n",
            "Requirement already satisfied: filelock in /usr/local/lib/python3.8/dist-packages (from transformers) (3.8.0)\n",
            "Requirement already satisfied: numpy>=1.17 in /usr/local/lib/python3.8/dist-packages (from transformers) (1.21.6)\n",
            "Requirement already satisfied: tqdm>=4.27 in /usr/local/lib/python3.8/dist-packages (from transformers) (4.64.1)\n",
            "Requirement already satisfied: pyyaml>=5.1 in /usr/local/lib/python3.8/dist-packages (from transformers) (6.0)\n",
            "Collecting tokenizers!=0.11.3,<0.14,>=0.11.1\n",
            "  Downloading tokenizers-0.13.2-cp38-cp38-manylinux_2_17_x86_64.manylinux2014_x86_64.whl (7.6 MB)\n",
            "\u001b[K     |████████████████████████████████| 7.6 MB 61.7 MB/s \n",
            "\u001b[?25hRequirement already satisfied: typing-extensions>=3.7.4.3 in /usr/local/lib/python3.8/dist-packages (from huggingface-hub<1.0,>=0.10.0->transformers) (4.4.0)\n",
            "Requirement already satisfied: pyparsing!=3.0.5,>=2.0.2 in /usr/local/lib/python3.8/dist-packages (from packaging>=20.0->transformers) (3.0.9)\n",
            "Requirement already satisfied: certifi>=2017.4.17 in /usr/local/lib/python3.8/dist-packages (from requests->transformers) (2022.9.24)\n",
            "Requirement already satisfied: urllib3!=1.25.0,!=1.25.1,<1.26,>=1.21.1 in /usr/local/lib/python3.8/dist-packages (from requests->transformers) (1.24.3)\n",
            "Requirement already satisfied: chardet<4,>=3.0.2 in /usr/local/lib/python3.8/dist-packages (from requests->transformers) (3.0.4)\n",
            "Requirement already satisfied: idna<3,>=2.5 in /usr/local/lib/python3.8/dist-packages (from requests->transformers) (2.10)\n",
            "Installing collected packages: tokenizers, huggingface-hub, transformers\n",
            "Successfully installed huggingface-hub-0.11.1 tokenizers-0.13.2 transformers-4.25.1\n"
          ]
        }
      ]
    },
    {
      "cell_type": "markdown",
      "metadata": {
        "id": "5aTM181kdJOn"
      },
      "source": [
        "We get the helper Python file and the files containing the training and validation data."
      ]
    },
    {
      "cell_type": "code",
      "metadata": {
        "id": "-Bq5e7PBcrTO",
        "colab": {
          "base_uri": "https://localhost:8080/"
        },
        "outputId": "232710bc-0b52-4c43-bad5-f2c06737b021"
      },
      "source": [
        "!rm -f *py *tsv\n",
        "!wget http://www.cse.chalmers.se/~richajo/dat450/assignments/ner_util.py\n",
        "#!wget https://github.com/cambridgeltl/MTL-Bioinformatics-2016/blob/master/data/BC5CDR-IOB/train.tsv\n",
        "#!wget https://github.com/cambridgeltl/MTL-Bioinformatics-2016/blob/master/data/BC5CDR-IOB/devel.tsv\n",
        "\n",
        "# If you have trouble downloading from github, instead get them from\n",
        "!wget http://www.cse.chalmers.se/~richajo/dat450/assignments/a4/train.tsv\n",
        "!wget http://www.cse.chalmers.se/~richajo/dat450/assignments/a4/devel.tsv"
      ],
      "execution_count": null,
      "outputs": [
        {
          "output_type": "stream",
          "name": "stdout",
          "text": [
            "--2022-12-08 16:16:42--  http://www.cse.chalmers.se/~richajo/dat450/assignments/ner_util.py\n",
            "Resolving www.cse.chalmers.se (www.cse.chalmers.se)... 129.16.221.33\n",
            "Connecting to www.cse.chalmers.se (www.cse.chalmers.se)|129.16.221.33|:80... connected.\n",
            "HTTP request sent, awaiting response... 200 OK\n",
            "Length: 25178 (25K) [text/plain]\n",
            "Saving to: ‘ner_util.py’\n",
            "\n",
            "ner_util.py         100%[===================>]  24.59K   113KB/s    in 0.2s    \n",
            "\n",
            "2022-12-08 16:16:43 (113 KB/s) - ‘ner_util.py’ saved [25178/25178]\n",
            "\n",
            "--2022-12-08 16:16:43--  http://www.cse.chalmers.se/~richajo/dat450/assignments/a4/train.tsv\n",
            "Resolving www.cse.chalmers.se (www.cse.chalmers.se)... 129.16.221.33\n",
            "Connecting to www.cse.chalmers.se (www.cse.chalmers.se)|129.16.221.33|:80... connected.\n",
            "HTTP request sent, awaiting response... 200 OK\n",
            "Length: 1039940 (1016K) [text/tab-separated-values]\n",
            "Saving to: ‘train.tsv’\n",
            "\n",
            "train.tsv           100%[===================>]   1016K   280KB/s    in 3.6s    \n",
            "\n",
            "2022-12-08 16:16:47 (280 KB/s) - ‘train.tsv’ saved [1039940/1039940]\n",
            "\n",
            "--2022-12-08 16:16:47--  http://www.cse.chalmers.se/~richajo/dat450/assignments/a4/devel.tsv\n",
            "Resolving www.cse.chalmers.se (www.cse.chalmers.se)... 129.16.221.33\n",
            "Connecting to www.cse.chalmers.se (www.cse.chalmers.se)|129.16.221.33|:80... connected.\n",
            "HTTP request sent, awaiting response... 200 OK\n",
            "Length: 1031781 (1008K) [text/tab-separated-values]\n",
            "Saving to: ‘devel.tsv’\n",
            "\n",
            "devel.tsv           100%[===================>]   1008K   279KB/s    in 3.6s    \n",
            "\n",
            "2022-12-08 16:16:51 (279 KB/s) - ‘devel.tsv’ saved [1031781/1031781]\n",
            "\n"
          ]
        }
      ]
    },
    {
      "cell_type": "markdown",
      "metadata": {
        "id": "FYSB5Iq9ceBt"
      },
      "source": [
        "# Solution template for Assignment 4\n",
        "\n",
        "This is the template notebook for Assignment 4.\n",
        "\n",
        "The infrastructure code (vocabulary management, training loop, word embedding loading, evaluation, etc) has been moved into a separate file <code>ner_util.py</code> you can get [here](http://www.cse.chalmers.se/~richajo/dat450/assignments/ner_util.py). Download this file and put it into the same directory as where you are executing your notebook. Import this file and you are ready to go."
      ]
    },
    {
      "cell_type": "code",
      "metadata": {
        "id": "Qxjgu4yzceB4"
      },
      "source": [
        "import ner_util"
      ],
      "execution_count": null,
      "outputs": []
    },
    {
      "cell_type": "markdown",
      "metadata": {
        "id": "9h0xsskJceB_"
      },
      "source": [
        "## Reading the data in a tabular format\n",
        "\n",
        "The following function reads a file represented in a tabular format. In this format, each row corresponds to one token. For each token, there is a word and the BIO-coded named entity label, separated by whitespace. The sentences are separated by empty lines. Here is an example of a sentence.\n",
        "```\n",
        "In              O\n",
        "conclusion      O\n",
        ",               O\n",
        "hyperammonemic  B-Disease\n",
        "encephalopathy  I-Disease\n",
        "can             O\n",
        "occur           O\n",
        "in              O\n",
        "patients        O\n",
        "receiving       O\n",
        "continuous      O\n",
        "infusion        O\n",
        "of              O\n",
        "5               B-Chemical\n",
        "-               I-Chemical\n",
        "FU              I-Chemical\n",
        ".               O\n",
        "```\n",
        "The function `ner_util.read_data` reads the file in this format and returns sentences and their corresponding BIO labels."
      ]
    },
    {
      "cell_type": "code",
      "metadata": {
        "id": "wy68cu1sceCB"
      },
      "source": [
        "Xtrain, Ytrain = ner_util.read_data('train.tsv')\n",
        "Xval, Yval = ner_util.read_data('devel.tsv')"
      ],
      "execution_count": null,
      "outputs": []
    },
    {
      "cell_type": "markdown",
      "metadata": {
        "id": "xwx3q-7VceCC"
      },
      "source": [
        "An example:"
      ]
    },
    {
      "cell_type": "code",
      "metadata": {
        "id": "B9poXh0FceCE",
        "colab": {
          "base_uri": "https://localhost:8080/"
        },
        "outputId": "892f2e21-b1b7-4c2f-d03b-5e72f53571ea"
      },
      "source": [
        "Xtrain[100]"
      ],
      "execution_count": null,
      "outputs": [
        {
          "output_type": "execute_result",
          "data": {
            "text/plain": [
              "['High',\n",
              " 'doses',\n",
              " 'of',\n",
              " 'vitamin',\n",
              " 'D',\n",
              " 'are',\n",
              " 'known',\n",
              " 'to',\n",
              " 'cause',\n",
              " 'calcification',\n",
              " 'of',\n",
              " 'the',\n",
              " 'artery',\n",
              " 'media',\n",
              " 'in',\n",
              " 'as',\n",
              " 'little',\n",
              " 'as',\n",
              " '3',\n",
              " 'to',\n",
              " '4',\n",
              " 'days',\n",
              " '.']"
            ]
          },
          "metadata": {},
          "execution_count": 6
        }
      ]
    },
    {
      "cell_type": "code",
      "metadata": {
        "id": "UnzATi4JceCI",
        "colab": {
          "base_uri": "https://localhost:8080/"
        },
        "outputId": "3f91b3cb-7a61-40c6-92a2-709f9dbefc86"
      },
      "source": [
        "Ytrain[100]"
      ],
      "execution_count": null,
      "outputs": [
        {
          "output_type": "execute_result",
          "data": {
            "text/plain": [
              "['O',\n",
              " 'O',\n",
              " 'O',\n",
              " 'B-Chemical',\n",
              " 'I-Chemical',\n",
              " 'O',\n",
              " 'O',\n",
              " 'O',\n",
              " 'O',\n",
              " 'B-Disease',\n",
              " 'I-Disease',\n",
              " 'I-Disease',\n",
              " 'I-Disease',\n",
              " 'O',\n",
              " 'O',\n",
              " 'O',\n",
              " 'O',\n",
              " 'O',\n",
              " 'O',\n",
              " 'O',\n",
              " 'O',\n",
              " 'O',\n",
              " 'O']"
            ]
          },
          "metadata": {},
          "execution_count": 7
        }
      ]
    },
    {
      "cell_type": "markdown",
      "metadata": {
        "id": "cGv45ph3ceCK"
      },
      "source": [
        "## Baseline sequence labeling model\n",
        "\n",
        "This is the baseline model. You can expand on this when implementing your solution."
      ]
    },
    {
      "cell_type": "code",
      "metadata": {
        "id": "601e9y36ceCM"
      },
      "source": [
        "import torch\n",
        "from torch import nn\n",
        "\n",
        "class BaselineSequenceModel(nn.Module):\n",
        "    \n",
        "    def __init__(self, seq_labeler):\n",
        "        super().__init__()                \n",
        "        # Here is how you access the NERParameters.\n",
        "        p = seq_labeler.params\n",
        "        # The model consists of just a word embedding layer and a\n",
        "        # linear output unit. We use the vocabulary to create the embedding layer.        \n",
        "        self.word_embedding = seq_labeler.word_voc.make_embedding_layer(finetune=p.finetune_word_emb, \n",
        "                                                                        emb_dim=p.word_emb_dim)\n",
        "        # The dimensionality of the word embedding model.\n",
        "        word_emb_dim = self.word_embedding.weight.shape[1]\n",
        "        # Output unit.\n",
        "        self.top_layer = nn.Linear(word_emb_dim, seq_labeler.n_labels)\n",
        "                        \n",
        "    def forward(self, words):\n",
        "        # The argument words is a tensor of integer-encoded words, with shape\n",
        "        # (batch_size, max_sen_length)      \n",
        "        # After embedding the words, the shape is:\n",
        "        # (batch_size, max_sen_length, emb_dim). \n",
        "        word_repr = self.word_embedding(words)\n",
        "        # We predict the BIO label simply by applying a linear model to\n",
        "        # the word embedding at that position.\n",
        "        # The shape of the output is (batch_size, max_sen_length, n_labels),\n",
        "        # where n_labels is the size of the output label vocabulary.\n",
        "        return self.top_layer(word_repr)"
      ],
      "execution_count": null,
      "outputs": []
    },
    {
      "cell_type": "markdown",
      "metadata": {
        "id": "HuEUULDlceCR"
      },
      "source": [
        "## Training the system\n",
        "\n",
        "As usual, we create an object that contains all hyperparameters."
      ]
    },
    {
      "cell_type": "code",
      "metadata": {
        "id": "zFDmKMrOceCS"
      },
      "source": [
        "class NERParameters:\n",
        "\n",
        "    # Random seed, for reproducibility.\n",
        "    random_seed = 0    \n",
        "    \n",
        "    # cuda or cpu\n",
        "    device = 'cuda'\n",
        "                \n",
        "    # NB: this hyperparameter is only used if we are training the embedding\n",
        "    # model from scratch.\n",
        "    word_emb_dim = 128\n",
        "    \n",
        "    # Whether or not to fine-tune the word embedding model.\n",
        "    finetune_word_emb = False\n",
        "\n",
        "    # Training parameters\n",
        "    n_epochs = 20\n",
        "    batch_size = 32    \n",
        "    learning_rate = 0.005\n",
        "    weight_decay = 0\n",
        "\n",
        "    # Word dropout rate.\n",
        "    word_dropout_prob = 0.0\n",
        "        \n",
        "    # Set the following to True to enable character tensors.\n",
        "    use_characters = False\n",
        "\n",
        "    # LSTM Hidden size\n",
        "    hidden_size = 64\n",
        "    lstm_n_layers = 2\n",
        "\n",
        "    # BERT_MAX_SIZE\n",
        "    bert_max_len = 128"
      ],
      "execution_count": null,
      "outputs": []
    },
    {
      "cell_type": "markdown",
      "metadata": {
        "id": "U5L2M1JcceCT"
      },
      "source": [
        "Now, we are ready to train. When creating the NER system, the first argument should be the hyperparameter container. The second should be a function that builds the neural network; we just use the constructor of the class we defined above."
      ]
    },
    {
      "cell_type": "code",
      "metadata": {
        "id": "Yw2LdGMBceCU",
        "colab": {
          "base_uri": "https://localhost:8080/"
        },
        "outputId": "f5de157a-32ec-43eb-c03f-d1dfe5ecd293"
      },
      "source": [
        "ner_system = ner_util.SequenceLabeler(NERParameters(), BaselineSequenceModel)\n",
        "ner_system.fit(Xtrain, Ytrain, Xval, Yval)"
      ],
      "execution_count": null,
      "outputs": [
        {
          "output_type": "stream",
          "name": "stdout",
          "text": [
            "Epoch 1: train loss = 1.1238, val f1: 0.1077, time = 0.5072\n",
            "Epoch 2: train loss = 0.7464, val f1: 0.0617, time = 0.4960\n",
            "Epoch 3: train loss = 0.5754, val f1: 0.0220, time = 0.4940\n",
            "Epoch 4: train loss = 0.5067, val f1: 0.0311, time = 0.5013\n",
            "Epoch 5: train loss = 0.4781, val f1: 0.0247, time = 0.4950\n",
            "Epoch 6: train loss = 0.4647, val f1: 0.0192, time = 0.5149\n",
            "Epoch 7: train loss = 0.4562, val f1: 0.0058, time = 0.4874\n",
            "Epoch 8: train loss = 0.4520, val f1: 0.0264, time = 0.5087\n",
            "Epoch 9: train loss = 0.4480, val f1: 0.0205, time = 0.4995\n",
            "Epoch 10: train loss = 0.4446, val f1: 0.0060, time = 0.5082\n",
            "Epoch 11: train loss = 0.4430, val f1: 0.0136, time = 0.5081\n",
            "Epoch 12: train loss = 0.4421, val f1: 0.0142, time = 0.5079\n",
            "Epoch 13: train loss = 0.4415, val f1: 0.0169, time = 0.4968\n",
            "Epoch 14: train loss = 0.4404, val f1: 0.0012, time = 0.5227\n",
            "Epoch 15: train loss = 0.4380, val f1: 0.0024, time = 0.5169\n",
            "Epoch 16: train loss = 0.4377, val f1: 0.0098, time = 0.5025\n",
            "Epoch 17: train loss = 0.4383, val f1: 0.0291, time = 0.5087\n",
            "Epoch 18: train loss = 0.4379, val f1: 0.0285, time = 0.5117\n",
            "Epoch 19: train loss = 0.4367, val f1: 0.0174, time = 0.5019\n",
            "Epoch 20: train loss = 0.4371, val f1: 0.0140, time = 0.5130\n",
            "\n",
            "Final evaluation on the validation set:\n",
            "Overall: P = 0.2727, R = 0.0072, F1 = 0.0140\n",
            "Chemical: P = 0.0789, R = 0.0022, F1 = 0.0044\n",
            "Disease: P = 0.5644, R = 0.0134, F1 = 0.0262\n"
          ]
        },
        {
          "output_type": "execute_result",
          "data": {
            "text/plain": [
              "0.10774507002000572"
            ]
          },
          "metadata": {},
          "execution_count": 43
        }
      ]
    },
    {
      "cell_type": "markdown",
      "metadata": {
        "id": "SCS6Jn_4ceCV"
      },
      "source": [
        "Optionally, plot the training loss and validation F-score over the epochs."
      ]
    },
    {
      "cell_type": "code",
      "metadata": {
        "id": "mkvPF53fceCW",
        "colab": {
          "base_uri": "https://localhost:8080/",
          "height": 388
        },
        "outputId": "0cee7dc8-f180-49f0-f9ac-e4399860adb4"
      },
      "source": [
        "import matplotlib.pyplot as plt\n",
        "\n",
        "%config InlineBackend.figure_format = 'retina' \n",
        "plt.style.use('seaborn')\n",
        "\n",
        "fig, ax = plt.subplots(1, 2, figsize=(2*6,1*6))\n",
        "ax[0].plot(ner_system.history['train_loss']);\n",
        "ax[0].set_title('Training loss')\n",
        "ax[1].plot(ner_system.history['val_f1']);\n",
        "ax[1].set_title('Validation F-score')\n",
        "plt.show()"
      ],
      "execution_count": null,
      "outputs": [
        {
          "output_type": "display_data",
          "data": {
            "text/plain": [
              "<Figure size 864x432 with 2 Axes>"
            ],
            "image/png": "[encoded data removed]"
          },
          "metadata": {
            "image/png": {
              "width": 704,
              "height": 371
            }
          }
        }
      ]
    },
    {
      "cell_type": "markdown",
      "metadata": {
        "id": "koYR9VfsceCX"
      },
      "source": [
        "Predicting outputs:"
      ]
    },
    {
      "cell_type": "code",
      "metadata": {
        "id": "gE_Qm1EsceCX",
        "colab": {
          "base_uri": "https://localhost:8080/"
        },
        "outputId": "0b509a42-706d-49aa-db39-d74efd865a30"
      },
      "source": [
        "ner_system.predict(['The patient suffered from bubonic plague and COVID-19 .'.split()])"
      ],
      "execution_count": null,
      "outputs": [
        {
          "output_type": "execute_result",
          "data": {
            "text/plain": [
              "[['O', 'O', 'O', 'O', 'O', 'O', 'O', 'O', 'O']]"
            ]
          },
          "metadata": {},
          "execution_count": 45
        }
      ]
    },
    {
      "cell_type": "code",
      "metadata": {
        "id": "HEMn3Ka6ceCY",
        "colab": {
          "base_uri": "https://localhost:8080/",
          "height": 49
        },
        "outputId": "e01f740e-e916-4cdc-b088-769242328e03"
      },
      "source": [
        "ner_util.show_entities(ner_system, ['The patient suffered from bubonic plague and COVID-19 .'.split()])"
      ],
      "execution_count": null,
      "outputs": [
        {
          "output_type": "display_data",
          "data": {
            "text/plain": [
              "<IPython.core.display.HTML object>"
            ],
            "text/html": [
              "<div style=\"font-size:150%; line-height: 150%;\"><div> The patient suffered from bubonic plague and COVID-19 .</div></div>"
            ]
          },
          "metadata": {}
        }
      ]
    },
    {
      "cell_type": "markdown",
      "source": [
        "### RNN "
      ],
      "metadata": {
        "id": "vr2qMP-8_I2z"
      }
    },
    {
      "cell_type": "code",
      "source": [
        "import torch\n",
        "from torch import nn\n",
        "\n",
        "class RNNSequenceModel(nn.Module):\n",
        "    \n",
        "    def __init__(self, seq_labeler):\n",
        "        super().__init__()\n",
        "        # Here is how you access the NERParameters.\n",
        "        p = seq_labeler.params\n",
        "        # The model consists of just a word embedding layer and a\n",
        "        # linear output unit. We use the vocabulary to create the embedding\n",
        "        # layer.        \n",
        "        self.word_embedding = seq_labeler.word_voc.make_embedding_layer(finetune=p.finetune_word_emb, \n",
        "                                                                        emb_dim=p.word_emb_dim)\n",
        "        # The dimensionality of the word embedding model.\n",
        "        word_emb_dim = self.word_embedding.weight.shape[1]\n",
        "        self.rnn = nn.LSTM(input_size=word_emb_dim, hidden_size=p.hidden_size,\n",
        "                           num_layers=p.lstm_n_layers, batch_first=True,\n",
        "                           bidirectional=True)\n",
        "        # Output unit.\n",
        "        self.top_layer = nn.Linear(p.hidden_size * 2, seq_labeler.n_labels)\n",
        "                        \n",
        "    def forward(self, words):\n",
        "        # The argument words is a tensor of integer-encoded words, with shape\n",
        "        # (batch_size, max_sen_length)\n",
        "        word_repr = self.word_embedding(words)\n",
        "        # After embedding the words, the shape is (batch_size, max_sen_length,\n",
        "        # emb_dim). \n",
        "        x, _ = self.rnn(word_repr)\n",
        "        # The shape of the output is (batch_size, max_sen_length, n_labels),\n",
        "        # where n_labels is the size of the output label vocabulary.\n",
        "        return self.top_layer(x)"
      ],
      "metadata": {
        "id": "J3gPSany_ZES"
      },
      "execution_count": null,
      "outputs": []
    },
    {
      "cell_type": "code",
      "source": [
        "ner_system_rnn = ner_util.SequenceLabeler(NERParameters(), RNNSequenceModel)\n",
        "ner_system_rnn.fit(Xtrain, Ytrain, Xval, Yval)"
      ],
      "metadata": {
        "colab": {
          "base_uri": "https://localhost:8080/"
        },
        "id": "RWvkw3fHAWwz",
        "outputId": "5c126acb-ae0b-404d-c14a-d25df9aaee0f"
      },
      "execution_count": null,
      "outputs": [
        {
          "output_type": "stream",
          "name": "stdout",
          "text": [
            "Epoch 1: train loss = 0.4229, val f1: 0.4505, time = 1.0077\n",
            "Epoch 2: train loss = 0.1560, val f1: 0.5711, time = 0.9890\n",
            "Epoch 3: train loss = 0.0760, val f1: 0.5958, time = 0.9946\n",
            "Epoch 4: train loss = 0.0369, val f1: 0.6016, time = 0.9914\n",
            "Epoch 5: train loss = 0.0240, val f1: 0.6126, time = 1.0220\n",
            "Epoch 6: train loss = 0.0137, val f1: 0.6284, time = 0.9995\n",
            "Epoch 7: train loss = 0.0108, val f1: 0.6252, time = 1.0134\n",
            "Epoch 8: train loss = 0.0100, val f1: 0.6304, time = 0.9938\n",
            "Epoch 9: train loss = 0.0075, val f1: 0.6403, time = 1.0189\n",
            "Epoch 10: train loss = 0.0069, val f1: 0.6386, time = 1.0108\n",
            "Epoch 11: train loss = 0.0054, val f1: 0.6423, time = 1.0003\n",
            "Epoch 12: train loss = 0.0081, val f1: 0.6502, time = 0.9950\n",
            "Epoch 13: train loss = 0.0082, val f1: 0.6210, time = 1.0104\n",
            "Epoch 14: train loss = 0.0087, val f1: 0.6511, time = 0.9885\n",
            "Epoch 15: train loss = 0.0067, val f1: 0.6641, time = 0.9857\n",
            "Epoch 16: train loss = 0.0093, val f1: 0.6488, time = 1.0019\n",
            "Epoch 17: train loss = 0.0085, val f1: 0.6545, time = 0.9997\n",
            "Epoch 18: train loss = 0.0058, val f1: 0.6401, time = 1.0006\n",
            "Epoch 19: train loss = 0.0041, val f1: 0.6605, time = 0.9874\n",
            "Epoch 20: train loss = 0.0011, val f1: 0.6631, time = 1.0450\n",
            "\n",
            "Final evaluation on the validation set:\n",
            "Overall: P = 0.7533, R = 0.5922, F1 = 0.6631\n",
            "Chemical: P = 0.8118, R = 0.5906, F1 = 0.6838\n",
            "Disease: P = 0.6910, R = 0.5942, F1 = 0.6390\n"
          ]
        },
        {
          "output_type": "execute_result",
          "data": {
            "text/plain": [
              "0.6640624999999999"
            ]
          },
          "metadata": {},
          "execution_count": 48
        }
      ]
    },
    {
      "cell_type": "code",
      "source": [
        "import matplotlib.pyplot as plt\n",
        "\n",
        "%config InlineBackend.figure_format = 'retina' \n",
        "plt.style.use('seaborn')\n",
        "\n",
        "fig, ax = plt.subplots(1, 2, figsize=(2*6,1*6))\n",
        "ax[0].plot(ner_system_rnn.history['train_loss']);\n",
        "ax[0].set_title('Training loss')\n",
        "ax[1].plot(ner_system_rnn.history['val_f1']);\n",
        "ax[1].set_title('Validation F-score')\n",
        "plt.show()"
      ],
      "metadata": {
        "colab": {
          "base_uri": "https://localhost:8080/",
          "height": 388
        },
        "id": "hO38Jzu1AbY1",
        "outputId": "202cd13e-8261-4f3a-f86f-d8aced957cf8"
      },
      "execution_count": null,
      "outputs": [
        {
          "output_type": "display_data",
          "data": {
            "text/plain": [
              "<Figure size 864x432 with 2 Axes>"
            ],
            "image/png": "[encoded data removed]"
          },
          "metadata": {
            "image/png": {
              "width": 704,
              "height": 371
            }
          }
        }
      ]
    },
    {
      "cell_type": "code",
      "source": [
        "ner_system_rnn.predict(['The patient suffered from bubonic plague and COVID-19 .'.split()])"
      ],
      "metadata": {
        "colab": {
          "base_uri": "https://localhost:8080/"
        },
        "id": "2SVtUtkqJSBc",
        "outputId": "cdea83c0-595a-4849-b848-f33002605803"
      },
      "execution_count": null,
      "outputs": [
        {
          "output_type": "execute_result",
          "data": {
            "text/plain": [
              "[['O', 'O', 'O', 'O', 'O', 'O', 'O', 'O', 'O']]"
            ]
          },
          "metadata": {},
          "execution_count": 50
        }
      ]
    },
    {
      "cell_type": "code",
      "source": [
        "ner_util.show_entities(ner_system_rnn, ['The patient suffered from bubonic plague and COVID-19 .'.split()])"
      ],
      "metadata": {
        "colab": {
          "base_uri": "https://localhost:8080/",
          "height": 49
        },
        "id": "Q3vvm9iyJkEf",
        "outputId": "889f5757-d563-44eb-be58-6a8427c94395"
      },
      "execution_count": null,
      "outputs": [
        {
          "output_type": "display_data",
          "data": {
            "text/plain": [
              "<IPython.core.display.HTML object>"
            ],
            "text/html": [
              "<div style=\"font-size:150%; line-height: 150%;\"><div> The patient suffered from bubonic plague and COVID-19 .</div></div>"
            ]
          },
          "metadata": {}
        }
      ]
    },
    {
      "cell_type": "markdown",
      "source": [
        "### Investigating the word embedding model"
      ],
      "metadata": {
        "id": "AOt--f-KKarj"
      }
    },
    {
      "cell_type": "code",
      "source": [
        "model_f1_scores = {}"
      ],
      "metadata": {
        "id": "b3SNsCx8sfwi"
      },
      "execution_count": null,
      "outputs": []
    },
    {
      "cell_type": "markdown",
      "source": [
        "#### Repeated experiments"
      ],
      "metadata": {
        "id": "hgJeifXunPaq"
      }
    },
    {
      "cell_type": "code",
      "source": [
        "import random\n",
        "\n",
        "def repeat_train(ner_system, runs=5, verbose=1):\n",
        "    f1_scores = []\n",
        "    for i in range(runs):\n",
        "        ner_system.params.random_seed += i\n",
        "        print(f'{\"-\" * 80}\\nIteration n.{i}\\n{\"-\" * 80}')\n",
        "        f1_scores.append(ner_system.fit(Xtrain, Ytrain, Xval, Yval))\n",
        "        print(f'{\"-\" * 80}\\nIteration n.{i} complete\\n{\"-\" * 80}')\n",
        "    return sum(f1_scores) / len(f1_scores)"
      ],
      "metadata": {
        "id": "sI-EOdigJl3E"
      },
      "execution_count": null,
      "outputs": []
    },
    {
      "cell_type": "code",
      "source": [
        "ner_system = ner_util.SequenceLabeler(NERParameters(), RNNSequenceModel)\n",
        "avg_f1 = repeat_train(ner_system, runs=5)\n",
        "print(f'Average F1 score on 5 runs: {avg_f1}')\n",
        "model_f1_scores['RNN Without Finetuning'] = avg_f1"
      ],
      "metadata": {
        "colab": {
          "base_uri": "https://localhost:8080/"
        },
        "id": "axHvQqPlLrPg",
        "outputId": "8e60797e-9f51-4c96-b7d9-c4fab0b6342d"
      },
      "execution_count": null,
      "outputs": [
        {
          "output_type": "stream",
          "name": "stdout",
          "text": [
            "Epoch 1: train loss = 0.4229, val f1: 0.4505, time = 1.0216\n",
            "Epoch 2: train loss = 0.1560, val f1: 0.5711, time = 1.0025\n",
            "Epoch 3: train loss = 0.0760, val f1: 0.5958, time = 1.0157\n",
            "Epoch 4: train loss = 0.0369, val f1: 0.6016, time = 1.0138\n",
            "Epoch 5: train loss = 0.0240, val f1: 0.6126, time = 1.0164\n",
            "Epoch 6: train loss = 0.0137, val f1: 0.6284, time = 1.0335\n",
            "Epoch 7: train loss = 0.0108, val f1: 0.6252, time = 1.0374\n",
            "Epoch 8: train loss = 0.0100, val f1: 0.6304, time = 1.0176\n",
            "Epoch 9: train loss = 0.0075, val f1: 0.6403, time = 1.0115\n",
            "Epoch 10: train loss = 0.0069, val f1: 0.6386, time = 1.0149\n",
            "Epoch 11: train loss = 0.0054, val f1: 0.6423, time = 1.0286\n",
            "Epoch 12: train loss = 0.0081, val f1: 0.6502, time = 1.0086\n",
            "Epoch 13: train loss = 0.0082, val f1: 0.6210, time = 1.0176\n",
            "Epoch 14: train loss = 0.0087, val f1: 0.6511, time = 1.0163\n",
            "Epoch 15: train loss = 0.0067, val f1: 0.6641, time = 0.9967\n",
            "Epoch 16: train loss = 0.0093, val f1: 0.6488, time = 1.0660\n",
            "Epoch 17: train loss = 0.0085, val f1: 0.6545, time = 0.9958\n",
            "Epoch 18: train loss = 0.0058, val f1: 0.6401, time = 1.0106\n",
            "Epoch 19: train loss = 0.0041, val f1: 0.6605, time = 0.9969\n",
            "Epoch 20: train loss = 0.0011, val f1: 0.6631, time = 1.0080\n",
            "\n",
            "Final evaluation on the validation set:\n",
            "Overall: P = 0.7533, R = 0.5922, F1 = 0.6631\n",
            "Chemical: P = 0.8118, R = 0.5906, F1 = 0.6838\n",
            "Disease: P = 0.6910, R = 0.5942, F1 = 0.6390\n",
            "Epoch 1: train loss = 0.4236, val f1: 0.4572, time = 1.0077\n",
            "Epoch 2: train loss = 0.1557, val f1: 0.6041, time = 1.0100\n",
            "Epoch 3: train loss = 0.0749, val f1: 0.6439, time = 1.0291\n",
            "Epoch 4: train loss = 0.0362, val f1: 0.6435, time = 1.0216\n",
            "Epoch 5: train loss = 0.0212, val f1: 0.6450, time = 1.0145\n",
            "Epoch 6: train loss = 0.0157, val f1: 0.6424, time = 1.0021\n",
            "Epoch 7: train loss = 0.0091, val f1: 0.6368, time = 1.0368\n",
            "Epoch 8: train loss = 0.0050, val f1: 0.6487, time = 1.0028\n",
            "Epoch 9: train loss = 0.0042, val f1: 0.6397, time = 1.0186\n",
            "Epoch 10: train loss = 0.0026, val f1: 0.6522, time = 1.0319\n",
            "Epoch 11: train loss = 0.0015, val f1: 0.6539, time = 1.0570\n",
            "Epoch 12: train loss = 0.0005, val f1: 0.6536, time = 1.0236\n",
            "Epoch 13: train loss = 0.0003, val f1: 0.6554, time = 1.0223\n",
            "Epoch 14: train loss = 0.0002, val f1: 0.6553, time = 1.0023\n",
            "Epoch 15: train loss = 0.0001, val f1: 0.6537, time = 1.0121\n",
            "Epoch 16: train loss = 0.0001, val f1: 0.6555, time = 1.0079\n",
            "Epoch 17: train loss = 0.0001, val f1: 0.6576, time = 1.0186\n",
            "Epoch 18: train loss = 0.0000, val f1: 0.6573, time = 0.9925\n",
            "Epoch 19: train loss = 0.0000, val f1: 0.6569, time = 0.9936\n",
            "Epoch 20: train loss = 0.0000, val f1: 0.6576, time = 1.0302\n",
            "\n",
            "Final evaluation on the validation set:\n",
            "Overall: P = 0.7382, R = 0.5929, F1 = 0.6576\n",
            "Chemical: P = 0.8087, R = 0.5944, F1 = 0.6851\n",
            "Disease: P = 0.6649, R = 0.5911, F1 = 0.6259\n",
            "Epoch 1: train loss = 0.4096, val f1: 0.4286, time = 1.0330\n",
            "Epoch 2: train loss = 0.1505, val f1: 0.6257, time = 1.0107\n",
            "Epoch 3: train loss = 0.0714, val f1: 0.6257, time = 1.0299\n",
            "Epoch 4: train loss = 0.0383, val f1: 0.6237, time = 1.0307\n",
            "Epoch 5: train loss = 0.0242, val f1: 0.6406, time = 1.0257\n",
            "Epoch 6: train loss = 0.0097, val f1: 0.6433, time = 1.0356\n",
            "Epoch 7: train loss = 0.0052, val f1: 0.6559, time = 1.0601\n",
            "Epoch 8: train loss = 0.0022, val f1: 0.6610, time = 1.3427\n",
            "Epoch 9: train loss = 0.0010, val f1: 0.6559, time = 1.5455\n",
            "Epoch 10: train loss = 0.0006, val f1: 0.6662, time = 1.0593\n",
            "Epoch 11: train loss = 0.0003, val f1: 0.6639, time = 1.0195\n",
            "Epoch 12: train loss = 0.0002, val f1: 0.6674, time = 1.0300\n",
            "Epoch 13: train loss = 0.0001, val f1: 0.6669, time = 1.0880\n",
            "Epoch 14: train loss = 0.0001, val f1: 0.6693, time = 1.0336\n",
            "Epoch 15: train loss = 0.0001, val f1: 0.6691, time = 1.0285\n",
            "Epoch 16: train loss = 0.0001, val f1: 0.6691, time = 1.0289\n",
            "Epoch 17: train loss = 0.0001, val f1: 0.6694, time = 1.0556\n",
            "Epoch 18: train loss = 0.0000, val f1: 0.6701, time = 1.0347\n",
            "Epoch 19: train loss = 0.0000, val f1: 0.6696, time = 1.0517\n",
            "Epoch 20: train loss = 0.0000, val f1: 0.6698, time = 1.0216\n",
            "\n",
            "Final evaluation on the validation set:\n",
            "Overall: P = 0.7418, R = 0.6105, F1 = 0.6698\n",
            "Chemical: P = 0.8260, R = 0.6101, F1 = 0.7018\n",
            "Disease: P = 0.6575, R = 0.6112, F1 = 0.6335\n",
            "Epoch 1: train loss = 0.4193, val f1: 0.4146, time = 1.0154\n",
            "Epoch 2: train loss = 0.1471, val f1: 0.5978, time = 1.0045\n",
            "Epoch 3: train loss = 0.0680, val f1: 0.6086, time = 1.0195\n",
            "Epoch 4: train loss = 0.0341, val f1: 0.6315, time = 1.0128\n",
            "Epoch 5: train loss = 0.0214, val f1: 0.6518, time = 1.0300\n",
            "Epoch 6: train loss = 0.0131, val f1: 0.6545, time = 1.0206\n",
            "Epoch 7: train loss = 0.0081, val f1: 0.6479, time = 1.0647\n",
            "Epoch 8: train loss = 0.0054, val f1: 0.6505, time = 1.0019\n",
            "Epoch 9: train loss = 0.0041, val f1: 0.6565, time = 1.0109\n",
            "Epoch 10: train loss = 0.0044, val f1: 0.6565, time = 0.9847\n",
            "Epoch 11: train loss = 0.0050, val f1: 0.6475, time = 1.0097\n",
            "Epoch 12: train loss = 0.0255, val f1: 0.6156, time = 1.0180\n",
            "Epoch 13: train loss = 0.0207, val f1: 0.6386, time = 1.0199\n",
            "Epoch 14: train loss = 0.0089, val f1: 0.6415, time = 1.0611\n",
            "Epoch 15: train loss = 0.0042, val f1: 0.6583, time = 0.9991\n",
            "Epoch 16: train loss = 0.0015, val f1: 0.6625, time = 1.0057\n",
            "Epoch 17: train loss = 0.0004, val f1: 0.6673, time = 0.9866\n",
            "Epoch 18: train loss = 0.0001, val f1: 0.6681, time = 1.0108\n",
            "Epoch 19: train loss = 0.0001, val f1: 0.6697, time = 1.0056\n",
            "Epoch 20: train loss = 0.0001, val f1: 0.6700, time = 0.9986\n",
            "\n",
            "Final evaluation on the validation set:\n",
            "Overall: P = 0.7571, R = 0.6010, F1 = 0.6700\n",
            "Chemical: P = 0.8229, R = 0.5929, F1 = 0.6892\n",
            "Disease: P = 0.6896, R = 0.6112, F1 = 0.6480\n",
            "Epoch 1: train loss = 0.4061, val f1: 0.4607, time = 1.0477\n",
            "Epoch 2: train loss = 0.1516, val f1: 0.5966, time = 1.0141\n",
            "Epoch 3: train loss = 0.0772, val f1: 0.6074, time = 1.0202\n",
            "Epoch 4: train loss = 0.0416, val f1: 0.6450, time = 1.0022\n",
            "Epoch 5: train loss = 0.0195, val f1: 0.6298, time = 1.0034\n",
            "Epoch 6: train loss = 0.0126, val f1: 0.6455, time = 1.0133\n",
            "Epoch 7: train loss = 0.0077, val f1: 0.6401, time = 1.0045\n",
            "Epoch 8: train loss = 0.0063, val f1: 0.6537, time = 1.0274\n",
            "Epoch 9: train loss = 0.0046, val f1: 0.6328, time = 1.0218\n",
            "Epoch 10: train loss = 0.0083, val f1: 0.6156, time = 0.9928\n",
            "Epoch 11: train loss = 0.0213, val f1: 0.6179, time = 1.0086\n",
            "Epoch 12: train loss = 0.0154, val f1: 0.6328, time = 1.0129\n",
            "Epoch 13: train loss = 0.0070, val f1: 0.6450, time = 0.9875\n",
            "Epoch 14: train loss = 0.0022, val f1: 0.6437, time = 0.9969\n",
            "Epoch 15: train loss = 0.0009, val f1: 0.6477, time = 1.0167\n",
            "Epoch 16: train loss = 0.0002, val f1: 0.6478, time = 1.0226\n",
            "Epoch 17: train loss = 0.0002, val f1: 0.6480, time = 1.1920\n",
            "Epoch 18: train loss = 0.0001, val f1: 0.6481, time = 1.4913\n",
            "Epoch 19: train loss = 0.0001, val f1: 0.6480, time = 1.1713\n",
            "Epoch 20: train loss = 0.0001, val f1: 0.6483, time = 0.9988\n",
            "\n",
            "Final evaluation on the validation set:\n",
            "Overall: P = 0.7089, R = 0.5972, F1 = 0.6483\n",
            "Chemical: P = 0.8412, R = 0.5747, F1 = 0.6829\n",
            "Disease: P = 0.5997, R = 0.6255, F1 = 0.6123\n",
            "Average F1 score on 5 runs: 0.6631091835218358\n"
          ]
        }
      ]
    },
    {
      "cell_type": "markdown",
      "source": [
        "#### Fine-tuning the word embedding model"
      ],
      "metadata": {
        "id": "q2AeD74sngjp"
      }
    },
    {
      "cell_type": "code",
      "source": [
        "params = NERParameters()\n",
        "params.finetune_word_emb = True\n",
        "ner_system_finetuned = ner_util.SequenceLabeler(params, RNNSequenceModel)\n",
        "avg_f1 = repeat_train(ner_system_finetuned, runs=5)\n",
        "print(f'Average F1 score on 5 runs: {avg_f1}')\n",
        "model_f1_scores['RNN With Finetuning'] = avg_f1"
      ],
      "metadata": {
        "colab": {
          "base_uri": "https://localhost:8080/"
        },
        "id": "4jUsKE_UoTvr",
        "outputId": "d897b7c2-293f-47d0-81a9-ee0ab69bbf99"
      },
      "execution_count": null,
      "outputs": [
        {
          "output_type": "stream",
          "name": "stdout",
          "text": [
            "Epoch 1: train loss = 0.3856, val f1: 0.5454, time = 1.0544\n",
            "Epoch 2: train loss = 0.1090, val f1: 0.6581, time = 1.0587\n",
            "Epoch 3: train loss = 0.0453, val f1: 0.6828, time = 1.0757\n",
            "Epoch 4: train loss = 0.0195, val f1: 0.6789, time = 1.0501\n",
            "Epoch 5: train loss = 0.0075, val f1: 0.6899, time = 1.0518\n",
            "Epoch 6: train loss = 0.0032, val f1: 0.6929, time = 1.0640\n",
            "Epoch 7: train loss = 0.0014, val f1: 0.6916, time = 1.0645\n",
            "Epoch 8: train loss = 0.0010, val f1: 0.6732, time = 1.0632\n",
            "Epoch 9: train loss = 0.0005, val f1: 0.6849, time = 1.0463\n",
            "Epoch 10: train loss = 0.0002, val f1: 0.6836, time = 1.0315\n",
            "Epoch 11: train loss = 0.0001, val f1: 0.6837, time = 1.0487\n",
            "Epoch 12: train loss = 0.0001, val f1: 0.6843, time = 1.0429\n",
            "Epoch 13: train loss = 0.0001, val f1: 0.6846, time = 1.0256\n",
            "Epoch 14: train loss = 0.0000, val f1: 0.6848, time = 1.0538\n",
            "Epoch 15: train loss = 0.0000, val f1: 0.6851, time = 1.0367\n",
            "Epoch 16: train loss = 0.0000, val f1: 0.6845, time = 1.0424\n",
            "Epoch 17: train loss = 0.0000, val f1: 0.6852, time = 1.0602\n",
            "Epoch 18: train loss = 0.0000, val f1: 0.6858, time = 1.0733\n",
            "Epoch 19: train loss = 0.0000, val f1: 0.6861, time = 1.0408\n",
            "Epoch 20: train loss = 0.0000, val f1: 0.6860, time = 1.0537\n",
            "\n",
            "Final evaluation on the validation set:\n",
            "Overall: P = 0.7294, R = 0.6476, F1 = 0.6860\n",
            "Chemical: P = 0.8713, R = 0.6203, F1 = 0.7247\n",
            "Disease: P = 0.6146, R = 0.6818, F1 = 0.6465\n",
            "Epoch 1: train loss = 0.3852, val f1: 0.5419, time = 1.0310\n",
            "Epoch 2: train loss = 0.1091, val f1: 0.6522, time = 1.0393\n",
            "Epoch 3: train loss = 0.0447, val f1: 0.6568, time = 1.0303\n",
            "Epoch 4: train loss = 0.0187, val f1: 0.6314, time = 1.0141\n",
            "Epoch 5: train loss = 0.0096, val f1: 0.6615, time = 1.0356\n",
            "Epoch 6: train loss = 0.0043, val f1: 0.6721, time = 1.0584\n",
            "Epoch 7: train loss = 0.0016, val f1: 0.6623, time = 1.0487\n",
            "Epoch 8: train loss = 0.0007, val f1: 0.6714, time = 1.0541\n",
            "Epoch 9: train loss = 0.0004, val f1: 0.6847, time = 1.0413\n",
            "Epoch 10: train loss = 0.0002, val f1: 0.6861, time = 1.0318\n",
            "Epoch 11: train loss = 0.0001, val f1: 0.6864, time = 1.0414\n",
            "Epoch 12: train loss = 0.0001, val f1: 0.6873, time = 1.0791\n",
            "Epoch 13: train loss = 0.0001, val f1: 0.6858, time = 1.0422\n",
            "Epoch 14: train loss = 0.0001, val f1: 0.6850, time = 1.0269\n",
            "Epoch 15: train loss = 0.0000, val f1: 0.6897, time = 1.0323\n",
            "Epoch 16: train loss = 0.0000, val f1: 0.6884, time = 1.0806\n",
            "Epoch 17: train loss = 0.0000, val f1: 0.6877, time = 1.0857\n",
            "Epoch 18: train loss = 0.0000, val f1: 0.6878, time = 1.1021\n",
            "Epoch 19: train loss = 0.0000, val f1: 0.6873, time = 1.6039\n",
            "Epoch 20: train loss = 0.0000, val f1: 0.6875, time = 1.6639\n",
            "\n",
            "Final evaluation on the validation set:\n",
            "Overall: P = 0.6765, R = 0.6987, F1 = 0.6875\n",
            "Chemical: P = 0.7876, R = 0.7053, F1 = 0.7442\n",
            "Disease: P = 0.5727, R = 0.6905, F1 = 0.6261\n",
            "Epoch 1: train loss = 0.3740, val f1: 0.5137, time = 1.4866\n",
            "Epoch 2: train loss = 0.1075, val f1: 0.6488, time = 1.0621\n",
            "Epoch 3: train loss = 0.0409, val f1: 0.6668, time = 1.3135\n",
            "Epoch 4: train loss = 0.0181, val f1: 0.6823, time = 1.5618\n",
            "Epoch 5: train loss = 0.0084, val f1: 0.6930, time = 1.1151\n",
            "Epoch 6: train loss = 0.0039, val f1: 0.6915, time = 1.0556\n",
            "Epoch 7: train loss = 0.0010, val f1: 0.6991, time = 1.0584\n",
            "Epoch 8: train loss = 0.0006, val f1: 0.7001, time = 1.0621\n",
            "Epoch 9: train loss = 0.0004, val f1: 0.7013, time = 1.0437\n",
            "Epoch 10: train loss = 0.0002, val f1: 0.7015, time = 1.0613\n",
            "Epoch 11: train loss = 0.0001, val f1: 0.7019, time = 1.0607\n",
            "Epoch 12: train loss = 0.0001, val f1: 0.7017, time = 1.0539\n",
            "Epoch 13: train loss = 0.0001, val f1: 0.7023, time = 1.0661\n",
            "Epoch 14: train loss = 0.0001, val f1: 0.7023, time = 1.0582\n",
            "Epoch 15: train loss = 0.0000, val f1: 0.7026, time = 1.0666\n",
            "Epoch 16: train loss = 0.0000, val f1: 0.7027, time = 1.0736\n",
            "Epoch 17: train loss = 0.0000, val f1: 0.7025, time = 1.0618\n",
            "Epoch 18: train loss = 0.0000, val f1: 0.7031, time = 1.0747\n",
            "Epoch 19: train loss = 0.0000, val f1: 0.7029, time = 1.0435\n",
            "Epoch 20: train loss = 0.0000, val f1: 0.7032, time = 1.0459\n",
            "\n",
            "Final evaluation on the validation set:\n",
            "Overall: P = 0.7934, R = 0.6314, F1 = 0.7032\n",
            "Chemical: P = 0.8622, R = 0.6202, F1 = 0.7214\n",
            "Disease: P = 0.7236, R = 0.6455, F1 = 0.6824\n",
            "Epoch 1: train loss = 0.3822, val f1: 0.5659, time = 1.0403\n",
            "Epoch 2: train loss = 0.1039, val f1: 0.6632, time = 1.0551\n",
            "Epoch 3: train loss = 0.0391, val f1: 0.6656, time = 1.0498\n",
            "Epoch 4: train loss = 0.0171, val f1: 0.6310, time = 1.0546\n",
            "Epoch 5: train loss = 0.0071, val f1: 0.6607, time = 1.0571\n",
            "Epoch 6: train loss = 0.0042, val f1: 0.6206, time = 1.0330\n",
            "Epoch 7: train loss = 0.0021, val f1: 0.6543, time = 1.0541\n",
            "Epoch 8: train loss = 0.0009, val f1: 0.6547, time = 1.0313\n",
            "Epoch 9: train loss = 0.0004, val f1: 0.6588, time = 1.0285\n",
            "Epoch 10: train loss = 0.0002, val f1: 0.6529, time = 1.0315\n",
            "Epoch 11: train loss = 0.0001, val f1: 0.6462, time = 1.0454\n",
            "Epoch 12: train loss = 0.0001, val f1: 0.6486, time = 1.0589\n",
            "Epoch 13: train loss = 0.0001, val f1: 0.6499, time = 1.0226\n",
            "Epoch 14: train loss = 0.0000, val f1: 0.6506, time = 1.0311\n",
            "Epoch 15: train loss = 0.0000, val f1: 0.6520, time = 1.0289\n",
            "Epoch 16: train loss = 0.0000, val f1: 0.6521, time = 1.0576\n",
            "Epoch 17: train loss = 0.0000, val f1: 0.6516, time = 1.0257\n",
            "Epoch 18: train loss = 0.0000, val f1: 0.6525, time = 1.0432\n",
            "Epoch 19: train loss = 0.0000, val f1: 0.6527, time = 1.0294\n",
            "Epoch 20: train loss = 0.0000, val f1: 0.6527, time = 1.0340\n",
            "\n",
            "Final evaluation on the validation set:\n",
            "Overall: P = 0.6045, R = 0.7093, F1 = 0.6527\n",
            "Chemical: P = 0.7764, R = 0.6940, F1 = 0.7329\n",
            "Disease: P = 0.4777, R = 0.7285, F1 = 0.5770\n",
            "Epoch 1: train loss = 0.3717, val f1: 0.5643, time = 1.0809\n",
            "Epoch 2: train loss = 0.1056, val f1: 0.6832, time = 1.0627\n",
            "Epoch 3: train loss = 0.0427, val f1: 0.6897, time = 1.0339\n",
            "Epoch 4: train loss = 0.0178, val f1: 0.6958, time = 1.0512\n",
            "Epoch 5: train loss = 0.0074, val f1: 0.7019, time = 1.0563\n",
            "Epoch 6: train loss = 0.0038, val f1: 0.7002, time = 1.0661\n",
            "Epoch 7: train loss = 0.0019, val f1: 0.7056, time = 1.0810\n",
            "Epoch 8: train loss = 0.0006, val f1: 0.7107, time = 1.0590\n",
            "Epoch 9: train loss = 0.0002, val f1: 0.7111, time = 1.0560\n",
            "Epoch 10: train loss = 0.0001, val f1: 0.7103, time = 1.0777\n",
            "Epoch 11: train loss = 0.0001, val f1: 0.7106, time = 1.1011\n",
            "Epoch 12: train loss = 0.0001, val f1: 0.7108, time = 1.5026\n",
            "Epoch 13: train loss = 0.0001, val f1: 0.7118, time = 1.5090\n",
            "Epoch 14: train loss = 0.0000, val f1: 0.7117, time = 1.0753\n",
            "Epoch 15: train loss = 0.0000, val f1: 0.7119, time = 1.0597\n",
            "Epoch 16: train loss = 0.0000, val f1: 0.7119, time = 1.0506\n",
            "Epoch 17: train loss = 0.0000, val f1: 0.7121, time = 1.0806\n",
            "Epoch 18: train loss = 0.0000, val f1: 0.7127, time = 1.0705\n",
            "Epoch 19: train loss = 0.0000, val f1: 0.7128, time = 1.0794\n",
            "Epoch 20: train loss = 0.0000, val f1: 0.7127, time = 1.1009\n",
            "\n",
            "Final evaluation on the validation set:\n",
            "Overall: P = 0.7333, R = 0.6932, F1 = 0.7127\n",
            "Chemical: P = 0.7469, R = 0.7273, F1 = 0.7370\n",
            "Disease: P = 0.7149, R = 0.6503, F1 = 0.6811\n",
            "Average F1 score on 5 runs: 0.692832948372629\n"
          ]
        }
      ]
    },
    {
      "cell_type": "markdown",
      "source": [
        "#### Loading a pre-trained word embedding model from `gensim`"
      ],
      "metadata": {
        "id": "vUi-Pr43n2fK"
      }
    },
    {
      "cell_type": "markdown",
      "source": [
        "Run the NER system again, this time providing the output from load_gensim_vectors as the input to the tagger via the pretrained_word_emb argument. Compute the mean F1 over 5 runs again, once with a \"frozen\" word embedding model and once with fine-tuning. Record the results in a table. "
      ],
      "metadata": {
        "id": "Y3Q6YBE4QFs9"
      }
    },
    {
      "cell_type": "code",
      "source": [
        "glove = ner_util.load_gensim_vectors(model_file='glove-wiki-gigaword-100', builtin=True)"
      ],
      "metadata": {
        "colab": {
          "base_uri": "https://localhost:8080/"
        },
        "id": "BlirjP3_PW13",
        "outputId": "c1983483-eb64-41fd-a3c1-80806819f173"
      },
      "execution_count": null,
      "outputs": [
        {
          "output_type": "stream",
          "name": "stdout",
          "text": [
            "[==================================================] 100.0% 128.1/128.1MB downloaded\n",
            " done!\n"
          ]
        }
      ]
    },
    {
      "cell_type": "code",
      "source": [
        "params = NERParameters()\n",
        "ner_system = ner_util.SequenceLabeler(params, RNNSequenceModel,\n",
        "                                      pretrained_word_emb=glove)\n",
        "avg_f1 = repeat_train(ner_system, runs=5)\n",
        "print(f'Average F1 score on 5 runs: {avg_f1}')\n",
        "model_f1_scores['RNN using GloVe Without Finetuning'] = avg_f1"
      ],
      "metadata": {
        "colab": {
          "base_uri": "https://localhost:8080/"
        },
        "id": "gehVg7d3OfA-",
        "outputId": "e1ede8a3-aa16-491a-e037-38d69a2be121"
      },
      "execution_count": null,
      "outputs": [
        {
          "output_type": "stream",
          "name": "stdout",
          "text": [
            "Epoch 1: train loss = 0.3215, val f1: 0.6657, time = 1.0212\n",
            "Epoch 2: train loss = 0.1384, val f1: 0.7193, time = 1.0279\n",
            "Epoch 3: train loss = 0.0997, val f1: 0.7300, time = 1.0167\n",
            "Epoch 4: train loss = 0.0759, val f1: 0.7702, time = 1.0174\n",
            "Epoch 5: train loss = 0.0614, val f1: 0.7494, time = 0.9990\n",
            "Epoch 6: train loss = 0.0454, val f1: 0.7696, time = 0.9877\n",
            "Epoch 7: train loss = 0.0331, val f1: 0.7631, time = 0.9963\n",
            "Epoch 8: train loss = 0.0286, val f1: 0.7742, time = 0.9941\n",
            "Epoch 9: train loss = 0.0176, val f1: 0.7734, time = 1.0167\n",
            "Epoch 10: train loss = 0.0157, val f1: 0.7763, time = 1.0062\n",
            "Epoch 11: train loss = 0.0115, val f1: 0.7711, time = 1.0089\n",
            "Epoch 12: train loss = 0.0081, val f1: 0.7630, time = 0.9817\n",
            "Epoch 13: train loss = 0.0090, val f1: 0.7559, time = 0.9867\n",
            "Epoch 14: train loss = 0.0141, val f1: 0.7603, time = 0.9871\n",
            "Epoch 15: train loss = 0.0145, val f1: 0.7735, time = 1.0458\n",
            "Epoch 16: train loss = 0.0115, val f1: 0.7789, time = 1.0206\n",
            "Epoch 17: train loss = 0.0081, val f1: 0.7826, time = 1.0019\n",
            "Epoch 18: train loss = 0.0048, val f1: 0.7778, time = 0.9926\n",
            "Epoch 19: train loss = 0.0029, val f1: 0.7701, time = 1.0012\n",
            "Epoch 20: train loss = 0.0016, val f1: 0.7748, time = 0.9815\n",
            "\n",
            "Final evaluation on the validation set:\n",
            "Overall: P = 0.7773, R = 0.7722, F1 = 0.7748\n",
            "Chemical: P = 0.8183, R = 0.8051, F1 = 0.8117\n",
            "Disease: P = 0.7269, R = 0.7308, F1 = 0.7288\n",
            "Epoch 1: train loss = 0.3186, val f1: 0.6423, time = 1.0091\n",
            "Epoch 2: train loss = 0.1369, val f1: 0.7194, time = 1.0282\n",
            "Epoch 3: train loss = 0.1023, val f1: 0.7359, time = 1.0118\n",
            "Epoch 4: train loss = 0.0794, val f1: 0.7564, time = 1.0227\n",
            "Epoch 5: train loss = 0.0607, val f1: 0.7485, time = 0.9976\n",
            "Epoch 6: train loss = 0.0461, val f1: 0.7704, time = 1.0088\n",
            "Epoch 7: train loss = 0.0323, val f1: 0.7559, time = 1.0063\n",
            "Epoch 8: train loss = 0.0259, val f1: 0.7717, time = 1.0160\n",
            "Epoch 9: train loss = 0.0209, val f1: 0.7702, time = 1.0051\n",
            "Epoch 10: train loss = 0.0126, val f1: 0.7606, time = 1.0176\n",
            "Epoch 11: train loss = 0.0108, val f1: 0.7596, time = 1.0156\n",
            "Epoch 12: train loss = 0.0097, val f1: 0.7778, time = 1.0066\n",
            "Epoch 13: train loss = 0.0163, val f1: 0.7653, time = 1.0044\n",
            "Epoch 14: train loss = 0.0131, val f1: 0.7734, time = 0.9911\n",
            "Epoch 15: train loss = 0.0049, val f1: 0.7771, time = 1.0149\n",
            "Epoch 16: train loss = 0.0022, val f1: 0.7752, time = 0.9929\n",
            "Epoch 17: train loss = 0.0011, val f1: 0.7778, time = 1.0213\n",
            "Epoch 18: train loss = 0.0005, val f1: 0.7794, time = 1.0180\n",
            "Epoch 19: train loss = 0.0003, val f1: 0.7795, time = 1.0290\n",
            "Epoch 20: train loss = 0.0002, val f1: 0.7796, time = 1.3762\n",
            "\n",
            "Final evaluation on the validation set:\n",
            "Overall: P = 0.7854, R = 0.7739, F1 = 0.7796\n",
            "Chemical: P = 0.8177, R = 0.8126, F1 = 0.8151\n",
            "Disease: P = 0.7439, R = 0.7252, F1 = 0.7344\n",
            "Epoch 1: train loss = 0.3207, val f1: 0.6593, time = 1.1312\n",
            "Epoch 2: train loss = 0.1360, val f1: 0.7262, time = 0.9926\n",
            "Epoch 3: train loss = 0.1026, val f1: 0.7370, time = 1.0485\n",
            "Epoch 4: train loss = 0.0813, val f1: 0.7610, time = 1.0122\n",
            "Epoch 5: train loss = 0.0606, val f1: 0.7710, time = 1.0082\n",
            "Epoch 6: train loss = 0.0487, val f1: 0.7766, time = 1.0019\n",
            "Epoch 7: train loss = 0.0411, val f1: 0.7428, time = 1.0348\n",
            "Epoch 8: train loss = 0.0304, val f1: 0.7524, time = 1.0332\n",
            "Epoch 9: train loss = 0.0219, val f1: 0.7724, time = 1.0217\n",
            "Epoch 10: train loss = 0.0155, val f1: 0.7859, time = 1.0084\n",
            "Epoch 11: train loss = 0.0184, val f1: 0.7765, time = 1.0208\n",
            "Epoch 12: train loss = 0.0120, val f1: 0.7780, time = 1.0123\n",
            "Epoch 13: train loss = 0.0083, val f1: 0.7707, time = 0.9960\n",
            "Epoch 14: train loss = 0.0127, val f1: 0.7593, time = 0.9910\n",
            "Epoch 15: train loss = 0.0121, val f1: 0.7684, time = 1.0125\n",
            "Epoch 16: train loss = 0.0076, val f1: 0.7763, time = 1.0459\n",
            "Epoch 17: train loss = 0.0053, val f1: 0.7820, time = 1.0171\n",
            "Epoch 18: train loss = 0.0048, val f1: 0.7786, time = 1.0068\n",
            "Epoch 19: train loss = 0.0019, val f1: 0.7767, time = 1.0126\n",
            "Epoch 20: train loss = 0.0055, val f1: 0.7692, time = 1.0065\n",
            "\n",
            "Final evaluation on the validation set:\n",
            "Overall: P = 0.7819, R = 0.7569, F1 = 0.7692\n",
            "Chemical: P = 0.8189, R = 0.8137, F1 = 0.8163\n",
            "Disease: P = 0.7324, R = 0.6854, F1 = 0.7081\n",
            "Epoch 1: train loss = 0.3294, val f1: 0.6529, time = 0.9869\n",
            "Epoch 2: train loss = 0.1353, val f1: 0.7247, time = 1.0064\n",
            "Epoch 3: train loss = 0.1000, val f1: 0.7605, time = 1.0097\n",
            "Epoch 4: train loss = 0.0762, val f1: 0.7532, time = 1.0024\n",
            "Epoch 5: train loss = 0.0566, val f1: 0.7635, time = 0.9944\n",
            "Epoch 6: train loss = 0.0489, val f1: 0.7751, time = 0.9882\n",
            "Epoch 7: train loss = 0.0343, val f1: 0.7702, time = 1.0117\n",
            "Epoch 8: train loss = 0.0257, val f1: 0.7733, time = 1.0251\n",
            "Epoch 9: train loss = 0.0194, val f1: 0.7698, time = 1.0052\n",
            "Epoch 10: train loss = 0.0137, val f1: 0.7769, time = 1.0151\n",
            "Epoch 11: train loss = 0.0096, val f1: 0.7725, time = 1.0266\n",
            "Epoch 12: train loss = 0.0069, val f1: 0.7811, time = 1.0141\n",
            "Epoch 13: train loss = 0.0073, val f1: 0.7500, time = 1.0004\n",
            "Epoch 14: train loss = 0.0217, val f1: 0.7609, time = 1.0119\n",
            "Epoch 15: train loss = 0.0176, val f1: 0.7684, time = 1.0120\n",
            "Epoch 16: train loss = 0.0099, val f1: 0.7724, time = 1.0151\n",
            "Epoch 17: train loss = 0.0050, val f1: 0.7743, time = 1.0547\n",
            "Epoch 18: train loss = 0.0025, val f1: 0.7769, time = 0.9930\n",
            "Epoch 19: train loss = 0.0014, val f1: 0.7798, time = 0.9998\n",
            "Epoch 20: train loss = 0.0009, val f1: 0.7814, time = 0.9960\n",
            "\n",
            "Final evaluation on the validation set:\n",
            "Overall: P = 0.7748, R = 0.7882, F1 = 0.7814\n",
            "Chemical: P = 0.8051, R = 0.8246, F1 = 0.8147\n",
            "Disease: P = 0.7359, R = 0.7423, F1 = 0.7391\n",
            "Epoch 1: train loss = 0.3278, val f1: 0.6675, time = 1.0507\n",
            "Epoch 2: train loss = 0.1379, val f1: 0.6886, time = 0.9761\n",
            "Epoch 3: train loss = 0.1027, val f1: 0.7432, time = 1.0005\n",
            "Epoch 4: train loss = 0.0767, val f1: 0.7405, time = 1.0028\n",
            "Epoch 5: train loss = 0.0600, val f1: 0.7544, time = 1.0078\n",
            "Epoch 6: train loss = 0.0483, val f1: 0.7649, time = 1.0210\n",
            "Epoch 7: train loss = 0.0349, val f1: 0.7640, time = 1.0222\n",
            "Epoch 8: train loss = 0.0258, val f1: 0.7492, time = 1.3625\n",
            "Epoch 9: train loss = 0.0229, val f1: 0.7631, time = 1.4909\n",
            "Epoch 10: train loss = 0.0160, val f1: 0.7751, time = 0.9883\n",
            "Epoch 11: train loss = 0.0147, val f1: 0.7717, time = 1.0004\n",
            "Epoch 12: train loss = 0.0100, val f1: 0.7766, time = 0.9978\n",
            "Epoch 13: train loss = 0.0063, val f1: 0.7784, time = 0.9900\n",
            "Epoch 14: train loss = 0.0080, val f1: 0.7590, time = 1.0105\n",
            "Epoch 15: train loss = 0.0202, val f1: 0.7549, time = 1.0042\n",
            "Epoch 16: train loss = 0.0116, val f1: 0.7700, time = 1.0267\n",
            "Epoch 17: train loss = 0.0072, val f1: 0.7654, time = 1.0194\n",
            "Epoch 18: train loss = 0.0059, val f1: 0.7706, time = 1.0278\n",
            "Epoch 19: train loss = 0.0078, val f1: 0.7784, time = 1.0150\n",
            "Epoch 20: train loss = 0.0046, val f1: 0.7754, time = 1.0156\n",
            "\n",
            "Final evaluation on the validation set:\n",
            "Overall: P = 0.7834, R = 0.7675, F1 = 0.7754\n",
            "Chemical: P = 0.8249, R = 0.8042, F1 = 0.8144\n",
            "Disease: P = 0.7317, R = 0.7214, F1 = 0.7265\n",
            "Average F1 score on 5 runs: 0.7815799932986593\n"
          ]
        }
      ]
    },
    {
      "cell_type": "code",
      "source": [
        "params = NERParameters()\n",
        "params.finetune_word_emb = True\n",
        "ner_system = ner_util.SequenceLabeler(params, RNNSequenceModel,\n",
        "                                      pretrained_word_emb=glove)\n",
        "avg_f1 = repeat_train(ner_system, runs=5)\n",
        "print(f'Average F1 score on 5 runs: {avg_f1}')\n",
        "model_f1_scores['RNN using GloVe With Finetuning'] = avg_f1"
      ],
      "metadata": {
        "colab": {
          "base_uri": "https://localhost:8080/"
        },
        "id": "MvgxsiP_sYBc",
        "outputId": "d4a52024-0f61-4d00-8110-1006184bbdf8"
      },
      "execution_count": null,
      "outputs": [
        {
          "output_type": "stream",
          "name": "stdout",
          "text": [
            "Epoch 1: train loss = 0.2872, val f1: 0.7300, time = 3.1832\n",
            "Epoch 2: train loss = 0.0846, val f1: 0.7494, time = 3.1639\n",
            "Epoch 3: train loss = 0.0504, val f1: 0.7607, time = 3.1483\n",
            "Epoch 4: train loss = 0.0329, val f1: 0.7864, time = 3.1783\n",
            "Epoch 5: train loss = 0.0217, val f1: 0.7707, time = 3.1607\n",
            "Epoch 6: train loss = 0.0139, val f1: 0.7751, time = 3.1536\n",
            "Epoch 7: train loss = 0.0108, val f1: 0.7777, time = 3.1538\n",
            "Epoch 8: train loss = 0.0061, val f1: 0.7774, time = 3.1517\n",
            "Epoch 9: train loss = 0.0047, val f1: 0.7677, time = 3.1610\n",
            "Epoch 10: train loss = 0.0026, val f1: 0.7720, time = 3.1601\n",
            "Epoch 11: train loss = 0.0018, val f1: 0.7766, time = 3.1853\n",
            "Epoch 12: train loss = 0.0016, val f1: 0.7785, time = 3.4421\n",
            "Epoch 13: train loss = 0.0011, val f1: 0.7802, time = 3.2031\n",
            "Epoch 14: train loss = 0.0018, val f1: 0.7663, time = 3.1608\n",
            "Epoch 15: train loss = 0.0059, val f1: 0.7654, time = 3.1601\n",
            "Epoch 16: train loss = 0.0060, val f1: 0.7660, time = 3.1676\n",
            "Epoch 17: train loss = 0.0067, val f1: 0.7555, time = 3.1662\n",
            "Epoch 18: train loss = 0.0051, val f1: 0.7747, time = 3.1602\n",
            "Epoch 19: train loss = 0.0017, val f1: 0.7832, time = 3.1757\n",
            "Epoch 20: train loss = 0.0005, val f1: 0.7772, time = 3.1588\n",
            "\n",
            "Final evaluation on the validation set:\n",
            "Overall: P = 0.7777, R = 0.7767, F1 = 0.7772\n",
            "Chemical: P = 0.8177, R = 0.8068, F1 = 0.8122\n",
            "Disease: P = 0.7287, R = 0.7388, F1 = 0.7337\n",
            "Epoch 1: train loss = 0.2811, val f1: 0.7097, time = 3.1679\n",
            "Epoch 2: train loss = 0.0828, val f1: 0.7605, time = 3.1683\n",
            "Epoch 3: train loss = 0.0502, val f1: 0.7633, time = 3.1652\n",
            "Epoch 4: train loss = 0.0338, val f1: 0.7830, time = 3.1670\n",
            "Epoch 5: train loss = 0.0221, val f1: 0.7701, time = 3.1548\n",
            "Epoch 6: train loss = 0.0150, val f1: 0.7642, time = 3.1527\n",
            "Epoch 7: train loss = 0.0102, val f1: 0.7679, time = 3.1693\n",
            "Epoch 8: train loss = 0.0078, val f1: 0.7719, time = 3.4810\n",
            "Epoch 9: train loss = 0.0047, val f1: 0.7612, time = 3.1687\n",
            "Epoch 10: train loss = 0.0022, val f1: 0.7610, time = 3.1650\n",
            "Epoch 11: train loss = 0.0030, val f1: 0.7722, time = 3.1635\n",
            "Epoch 12: train loss = 0.0057, val f1: 0.7730, time = 3.1644\n",
            "Epoch 13: train loss = 0.0031, val f1: 0.7709, time = 3.1560\n",
            "Epoch 14: train loss = 0.0022, val f1: 0.7702, time = 3.1569\n",
            "Epoch 15: train loss = 0.0012, val f1: 0.7761, time = 3.1932\n",
            "Epoch 16: train loss = 0.0010, val f1: 0.7793, time = 3.2035\n",
            "Epoch 17: train loss = 0.0051, val f1: 0.7655, time = 3.2120\n",
            "Epoch 18: train loss = 0.0088, val f1: 0.7627, time = 3.2083\n",
            "Epoch 19: train loss = 0.0038, val f1: 0.7596, time = 3.2088\n",
            "Epoch 20: train loss = 0.0017, val f1: 0.7704, time = 3.1745\n",
            "\n",
            "Final evaluation on the validation set:\n",
            "Overall: P = 0.7733, R = 0.7675, F1 = 0.7704\n",
            "Chemical: P = 0.8264, R = 0.7960, F1 = 0.8109\n",
            "Disease: P = 0.7108, R = 0.7317, F1 = 0.7211\n",
            "Epoch 1: train loss = 0.2843, val f1: 0.7289, time = 3.1814\n",
            "Epoch 2: train loss = 0.0850, val f1: 0.7719, time = 3.2019\n",
            "Epoch 3: train loss = 0.0520, val f1: 0.7613, time = 3.1988\n",
            "Epoch 4: train loss = 0.0348, val f1: 0.7789, time = 3.3216\n",
            "Epoch 5: train loss = 0.0209, val f1: 0.7800, time = 3.1818\n",
            "Epoch 6: train loss = 0.0129, val f1: 0.7787, time = 3.2022\n",
            "Epoch 7: train loss = 0.0086, val f1: 0.7655, time = 3.2198\n",
            "Epoch 8: train loss = 0.0076, val f1: 0.7619, time = 3.2110\n",
            "Epoch 9: train loss = 0.0053, val f1: 0.7690, time = 3.1646\n",
            "Epoch 10: train loss = 0.0033, val f1: 0.7695, time = 3.1713\n",
            "Epoch 11: train loss = 0.0017, val f1: 0.7691, time = 3.1544\n",
            "Epoch 12: train loss = 0.0012, val f1: 0.7760, time = 3.1477\n",
            "Epoch 13: train loss = 0.0006, val f1: 0.7669, time = 3.1528\n",
            "Epoch 14: train loss = 0.0004, val f1: 0.7718, time = 3.1690\n",
            "Epoch 15: train loss = 0.0002, val f1: 0.7720, time = 3.1500\n",
            "Epoch 16: train loss = 0.0001, val f1: 0.7729, time = 3.1541\n",
            "Epoch 17: train loss = 0.0001, val f1: 0.7703, time = 3.1598\n",
            "Epoch 18: train loss = 0.0001, val f1: 0.7699, time = 3.1806\n",
            "Epoch 19: train loss = 0.0001, val f1: 0.7712, time = 3.1808\n",
            "Epoch 20: train loss = 0.0001, val f1: 0.7707, time = 3.5497\n",
            "\n",
            "Final evaluation on the validation set:\n",
            "Overall: P = 0.7629, R = 0.7787, F1 = 0.7707\n",
            "Chemical: P = 0.8041, R = 0.8154, F1 = 0.8097\n",
            "Disease: P = 0.7117, R = 0.7325, F1 = 0.7219\n",
            "Epoch 1: train loss = 0.2890, val f1: 0.7261, time = 3.4003\n",
            "Epoch 2: train loss = 0.0837, val f1: 0.7582, time = 3.1629\n",
            "Epoch 3: train loss = 0.0514, val f1: 0.7538, time = 3.1675\n",
            "Epoch 4: train loss = 0.0323, val f1: 0.7831, time = 3.1845\n",
            "Epoch 5: train loss = 0.0216, val f1: 0.7826, time = 3.1905\n",
            "Epoch 6: train loss = 0.0138, val f1: 0.7663, time = 3.1819\n",
            "Epoch 7: train loss = 0.0094, val f1: 0.7740, time = 3.2433\n",
            "Epoch 8: train loss = 0.0053, val f1: 0.7676, time = 3.2051\n",
            "Epoch 9: train loss = 0.0032, val f1: 0.7749, time = 3.2101\n",
            "Epoch 10: train loss = 0.0022, val f1: 0.7742, time = 3.1958\n",
            "Epoch 11: train loss = 0.0032, val f1: 0.7687, time = 3.1862\n",
            "Epoch 12: train loss = 0.0038, val f1: 0.7508, time = 3.1684\n",
            "Epoch 13: train loss = 0.0103, val f1: 0.7627, time = 3.1537\n",
            "Epoch 14: train loss = 0.0079, val f1: 0.7638, time = 3.1441\n",
            "Epoch 15: train loss = 0.0028, val f1: 0.7661, time = 3.1536\n",
            "Epoch 16: train loss = 0.0020, val f1: 0.7725, time = 3.1680\n",
            "Epoch 17: train loss = 0.0013, val f1: 0.7732, time = 3.1749\n",
            "Epoch 18: train loss = 0.0008, val f1: 0.7685, time = 3.3444\n",
            "Epoch 19: train loss = 0.0009, val f1: 0.7701, time = 3.1699\n",
            "Epoch 20: train loss = 0.0027, val f1: 0.7752, time = 3.1465\n",
            "\n",
            "Final evaluation on the validation set:\n",
            "Overall: P = 0.7727, R = 0.7777, F1 = 0.7752\n",
            "Chemical: P = 0.8066, R = 0.8175, F1 = 0.8120\n",
            "Disease: P = 0.7294, R = 0.7275, F1 = 0.7285\n",
            "Epoch 1: train loss = 0.2919, val f1: 0.7263, time = 3.1700\n",
            "Epoch 2: train loss = 0.0847, val f1: 0.7555, time = 3.1503\n",
            "Epoch 3: train loss = 0.0509, val f1: 0.7665, time = 3.1513\n",
            "Epoch 4: train loss = 0.0322, val f1: 0.7600, time = 3.1534\n",
            "Epoch 5: train loss = 0.0202, val f1: 0.7584, time = 3.1557\n",
            "Epoch 6: train loss = 0.0161, val f1: 0.7640, time = 3.1541\n",
            "Epoch 7: train loss = 0.0112, val f1: 0.7660, time = 3.1594\n",
            "Epoch 8: train loss = 0.0084, val f1: 0.7705, time = 3.1679\n",
            "Epoch 9: train loss = 0.0048, val f1: 0.7700, time = 3.1671\n",
            "Epoch 10: train loss = 0.0034, val f1: 0.7743, time = 3.1654\n",
            "Epoch 11: train loss = 0.0021, val f1: 0.7708, time = 3.1664\n",
            "Epoch 12: train loss = 0.0010, val f1: 0.7690, time = 3.1555\n",
            "Epoch 13: train loss = 0.0010, val f1: 0.7678, time = 3.1653\n",
            "Epoch 14: train loss = 0.0006, val f1: 0.7669, time = 3.2804\n",
            "Epoch 15: train loss = 0.0007, val f1: 0.7688, time = 3.1627\n",
            "Epoch 16: train loss = 0.0073, val f1: 0.7543, time = 3.1883\n",
            "Epoch 17: train loss = 0.0068, val f1: 0.7506, time = 3.1797\n",
            "Epoch 18: train loss = 0.0041, val f1: 0.7640, time = 3.1636\n",
            "Epoch 19: train loss = 0.0025, val f1: 0.7615, time = 3.1506\n",
            "Epoch 20: train loss = 0.0010, val f1: 0.7684, time = 3.1598\n",
            "\n",
            "Final evaluation on the validation set:\n",
            "Overall: P = 0.7573, R = 0.7797, F1 = 0.7684\n",
            "Chemical: P = 0.8052, R = 0.8134, F1 = 0.8093\n",
            "Disease: P = 0.6995, R = 0.7374, F1 = 0.7180\n",
            "Average F1 score on 5 runs: 0.7813572010653469\n"
          ]
        }
      ]
    },
    {
      "cell_type": "markdown",
      "source": [
        "#### Domain-specific word embedding model"
      ],
      "metadata": {
        "id": "zTEBeczBn-TC"
      }
    },
    {
      "cell_type": "code",
      "source": [
        "!wget http://www.cse.chalmers.se/~richajo/dat450/assignments/a4/PubMed-and-PMC-w2v-200000.bin\n",
        "pubmed = ner_util.load_gensim_vectors(model_file='PubMed-and-PMC-w2v-200000.bin', builtin=False)"
      ],
      "metadata": {
        "colab": {
          "base_uri": "https://localhost:8080/"
        },
        "id": "Fv1QYPEPR5-P",
        "outputId": "fd76605b-fcd4-4333-9101-1918451c2815"
      },
      "execution_count": null,
      "outputs": [
        {
          "output_type": "stream",
          "name": "stdout",
          "text": [
            "--2022-12-08 17:16:14--  http://www.cse.chalmers.se/~richajo/dat450/assignments/a4/PubMed-and-PMC-w2v-200000.bin\n",
            "Resolving www.cse.chalmers.se (www.cse.chalmers.se)... 129.16.221.33\n",
            "Connecting to www.cse.chalmers.se (www.cse.chalmers.se)|129.16.221.33|:80... connected.\n",
            "HTTP request sent, awaiting response... 200 OK\n",
            "Length: 161848950 (154M) [application/octet-stream]\n",
            "Saving to: ‘PubMed-and-PMC-w2v-200000.bin’\n",
            "\n",
            "PubMed-and-PMC-w2v- 100%[===================>] 154.35M  2.43MB/s    in 8m 2s   \n",
            "\n",
            "2022-12-08 17:24:17 (328 KB/s) - ‘PubMed-and-PMC-w2v-200000.bin’ saved [161848950/161848950]\n",
            "\n",
            "Loading model 'PubMed-and-PMC-w2v-200000.bin' via gensim... done!\n"
          ]
        }
      ]
    },
    {
      "cell_type": "code",
      "source": [
        "params = NERParameters()\n",
        "ner_system = ner_util.SequenceLabeler(params, RNNSequenceModel,\n",
        "                                      pretrained_word_emb=pubmed)\n",
        "avg_f1 = repeat_train(ner_system, runs=5)\n",
        "print(f'Average F1 score on 5 runs: {avg_f1}')\n",
        "model_f1_scores['RNN using Pubmed Without Finetuning'] = avg_f1"
      ],
      "metadata": {
        "id": "LaOL7dt-S7di",
        "colab": {
          "base_uri": "https://localhost:8080/"
        },
        "outputId": "c8c21306-95ac-4a05-9450-ea900b12cd44"
      },
      "execution_count": null,
      "outputs": [
        {
          "output_type": "stream",
          "name": "stdout",
          "text": [
            "Epoch 1: train loss = 0.3204, val f1: 0.7413, time = 1.0681\n",
            "Epoch 2: train loss = 0.1112, val f1: 0.7957, time = 1.0413\n",
            "Epoch 3: train loss = 0.0812, val f1: 0.8121, time = 1.0160\n",
            "Epoch 4: train loss = 0.0629, val f1: 0.8242, time = 1.0174\n",
            "Epoch 5: train loss = 0.0455, val f1: 0.8231, time = 1.0319\n",
            "Epoch 6: train loss = 0.0338, val f1: 0.8274, time = 1.0299\n",
            "Epoch 7: train loss = 0.0268, val f1: 0.8237, time = 1.0747\n",
            "Epoch 8: train loss = 0.0202, val f1: 0.8300, time = 1.0316\n",
            "Epoch 9: train loss = 0.0109, val f1: 0.8379, time = 1.0500\n",
            "Epoch 10: train loss = 0.0135, val f1: 0.8303, time = 1.0818\n",
            "Epoch 11: train loss = 0.0078, val f1: 0.8323, time = 1.4843\n",
            "Epoch 12: train loss = 0.0065, val f1: 0.8335, time = 1.3561\n",
            "Epoch 13: train loss = 0.0043, val f1: 0.8383, time = 1.0129\n",
            "Epoch 14: train loss = 0.0019, val f1: 0.8340, time = 1.0058\n",
            "Epoch 15: train loss = 0.0012, val f1: 0.8378, time = 1.0105\n",
            "Epoch 16: train loss = 0.0014, val f1: 0.8340, time = 1.0690\n",
            "Epoch 17: train loss = 0.0051, val f1: 0.8359, time = 1.0372\n",
            "Epoch 18: train loss = 0.0084, val f1: 0.8184, time = 1.0311\n",
            "Epoch 19: train loss = 0.0062, val f1: 0.8273, time = 1.0513\n",
            "Epoch 20: train loss = 0.0037, val f1: 0.8295, time = 1.0336\n",
            "\n",
            "Final evaluation on the validation set:\n",
            "Overall: P = 0.8173, R = 0.8421, F1 = 0.8295\n",
            "Chemical: P = 0.8707, R = 0.8857, F1 = 0.8782\n",
            "Disease: P = 0.7519, R = 0.7871, F1 = 0.7691\n",
            "Epoch 1: train loss = 0.3172, val f1: 0.7472, time = 1.0318\n",
            "Epoch 2: train loss = 0.1044, val f1: 0.8019, time = 1.0467\n",
            "Epoch 3: train loss = 0.0755, val f1: 0.8073, time = 1.0293\n",
            "Epoch 4: train loss = 0.0588, val f1: 0.8251, time = 1.0324\n",
            "Epoch 5: train loss = 0.0443, val f1: 0.8222, time = 1.0309\n",
            "Epoch 6: train loss = 0.0355, val f1: 0.8265, time = 1.0153\n",
            "Epoch 7: train loss = 0.0235, val f1: 0.8194, time = 1.0317\n",
            "Epoch 8: train loss = 0.0161, val f1: 0.8345, time = 1.0203\n",
            "Epoch 9: train loss = 0.0115, val f1: 0.8364, time = 1.0243\n",
            "Epoch 10: train loss = 0.0079, val f1: 0.8304, time = 1.0142\n",
            "Epoch 11: train loss = 0.0051, val f1: 0.8311, time = 1.0157\n",
            "Epoch 12: train loss = 0.0032, val f1: 0.8364, time = 1.0014\n",
            "Epoch 13: train loss = 0.0027, val f1: 0.8336, time = 1.0131\n",
            "Epoch 14: train loss = 0.0011, val f1: 0.8340, time = 1.0156\n",
            "Epoch 15: train loss = 0.0007, val f1: 0.8346, time = 1.0421\n",
            "Epoch 16: train loss = 0.0003, val f1: 0.8386, time = 1.0227\n",
            "Epoch 17: train loss = 0.0002, val f1: 0.8356, time = 1.0306\n",
            "Epoch 18: train loss = 0.0010, val f1: 0.8291, time = 1.0222\n",
            "Epoch 19: train loss = 0.0085, val f1: 0.8031, time = 1.0299\n",
            "Epoch 20: train loss = 0.0271, val f1: 0.8228, time = 1.0391\n",
            "\n",
            "Final evaluation on the validation set:\n",
            "Overall: P = 0.8179, R = 0.8278, F1 = 0.8228\n",
            "Chemical: P = 0.8833, R = 0.8594, F1 = 0.8712\n",
            "Disease: P = 0.7424, R = 0.7880, F1 = 0.7645\n",
            "Epoch 1: train loss = 0.3170, val f1: 0.7593, time = 1.0384\n",
            "Epoch 2: train loss = 0.1082, val f1: 0.8039, time = 1.0209\n",
            "Epoch 3: train loss = 0.0791, val f1: 0.8061, time = 1.0337\n",
            "Epoch 4: train loss = 0.0606, val f1: 0.8255, time = 1.0061\n",
            "Epoch 5: train loss = 0.0478, val f1: 0.8227, time = 1.0535\n",
            "Epoch 6: train loss = 0.0345, val f1: 0.8159, time = 1.0426\n",
            "Epoch 7: train loss = 0.0248, val f1: 0.8331, time = 1.0218\n",
            "Epoch 8: train loss = 0.0174, val f1: 0.8182, time = 1.0174\n",
            "Epoch 9: train loss = 0.0135, val f1: 0.8274, time = 1.0482\n",
            "Epoch 10: train loss = 0.0090, val f1: 0.8283, time = 1.0414\n",
            "Epoch 11: train loss = 0.0085, val f1: 0.8236, time = 1.0587\n",
            "Epoch 12: train loss = 0.0092, val f1: 0.8274, time = 1.0415\n",
            "Epoch 13: train loss = 0.0037, val f1: 0.8337, time = 1.0148\n",
            "Epoch 14: train loss = 0.0022, val f1: 0.8291, time = 1.0245\n",
            "Epoch 15: train loss = 0.0060, val f1: 0.8152, time = 1.0158\n",
            "Epoch 16: train loss = 0.0084, val f1: 0.8203, time = 1.0552\n",
            "Epoch 17: train loss = 0.0116, val f1: 0.8276, time = 1.0145\n",
            "Epoch 18: train loss = 0.0033, val f1: 0.8369, time = 1.0080\n",
            "Epoch 19: train loss = 0.0022, val f1: 0.8353, time = 1.0064\n",
            "Epoch 20: train loss = 0.0019, val f1: 0.8295, time = 1.0196\n",
            "\n",
            "Final evaluation on the validation set:\n",
            "Overall: P = 0.8320, R = 0.8270, F1 = 0.8295\n",
            "Chemical: P = 0.8769, R = 0.8739, F1 = 0.8754\n",
            "Disease: P = 0.7751, R = 0.7678, F1 = 0.7714\n",
            "Epoch 1: train loss = 0.3210, val f1: 0.7659, time = 0.9982\n",
            "Epoch 2: train loss = 0.1027, val f1: 0.8080, time = 0.9988\n",
            "Epoch 3: train loss = 0.0747, val f1: 0.8088, time = 1.0077\n",
            "Epoch 4: train loss = 0.0565, val f1: 0.8127, time = 1.0385\n",
            "Epoch 5: train loss = 0.0438, val f1: 0.8268, time = 1.0102\n",
            "Epoch 6: train loss = 0.0310, val f1: 0.8335, time = 1.0488\n",
            "Epoch 7: train loss = 0.0229, val f1: 0.8164, time = 1.0260\n",
            "Epoch 8: train loss = 0.0214, val f1: 0.8261, time = 1.7616\n",
            "Epoch 9: train loss = 0.0145, val f1: 0.8313, time = 1.7963\n",
            "Epoch 10: train loss = 0.0106, val f1: 0.8364, time = 1.6456\n",
            "Epoch 11: train loss = 0.0060, val f1: 0.8314, time = 1.6138\n",
            "Epoch 12: train loss = 0.0041, val f1: 0.8323, time = 1.0133\n",
            "Epoch 13: train loss = 0.0028, val f1: 0.8359, time = 1.0028\n",
            "Epoch 14: train loss = 0.0042, val f1: 0.8230, time = 0.9954\n",
            "Epoch 15: train loss = 0.0096, val f1: 0.8301, time = 0.9959\n",
            "Epoch 16: train loss = 0.0052, val f1: 0.8364, time = 1.0215\n",
            "Epoch 17: train loss = 0.0070, val f1: 0.8290, time = 1.0286\n",
            "Epoch 18: train loss = 0.0040, val f1: 0.8326, time = 1.0288\n",
            "Epoch 19: train loss = 0.0120, val f1: 0.8379, time = 1.0309\n",
            "Epoch 20: train loss = 0.0023, val f1: 0.8397, time = 1.0470\n",
            "\n",
            "Final evaluation on the validation set:\n",
            "Overall: P = 0.8432, R = 0.8362, F1 = 0.8397\n",
            "Chemical: P = 0.8734, R = 0.8840, F1 = 0.8787\n",
            "Disease: P = 0.8033, R = 0.7760, F1 = 0.7894\n",
            "Epoch 1: train loss = 0.3126, val f1: 0.7551, time = 1.0483\n",
            "Epoch 2: train loss = 0.1059, val f1: 0.8100, time = 1.0577\n",
            "Epoch 3: train loss = 0.0767, val f1: 0.8234, time = 1.0396\n",
            "Epoch 4: train loss = 0.0564, val f1: 0.8288, time = 1.0614\n",
            "Epoch 5: train loss = 0.0427, val f1: 0.8219, time = 1.0173\n",
            "Epoch 6: train loss = 0.0313, val f1: 0.8305, time = 1.0114\n",
            "Epoch 7: train loss = 0.0226, val f1: 0.8334, time = 1.0266\n",
            "Epoch 8: train loss = 0.0169, val f1: 0.8270, time = 1.0273\n",
            "Epoch 9: train loss = 0.0093, val f1: 0.8318, time = 1.0456\n",
            "Epoch 10: train loss = 0.0103, val f1: 0.8373, time = 1.0319\n",
            "Epoch 11: train loss = 0.0066, val f1: 0.8319, time = 1.0354\n",
            "Epoch 12: train loss = 0.0087, val f1: 0.8178, time = 1.0089\n",
            "Epoch 13: train loss = 0.0103, val f1: 0.8264, time = 0.9985\n",
            "Epoch 14: train loss = 0.0034, val f1: 0.8299, time = 1.0148\n",
            "Epoch 15: train loss = 0.0050, val f1: 0.8282, time = 1.0361\n",
            "Epoch 16: train loss = 0.0040, val f1: 0.8366, time = 1.0395\n",
            "Epoch 17: train loss = 0.0037, val f1: 0.8366, time = 1.0346\n",
            "Epoch 18: train loss = 0.0026, val f1: 0.8325, time = 1.0308\n",
            "Epoch 19: train loss = 0.0018, val f1: 0.8187, time = 1.0267\n",
            "Epoch 20: train loss = 0.0108, val f1: 0.8300, time = 1.0277\n",
            "\n",
            "Final evaluation on the validation set:\n",
            "Overall: P = 0.8387, R = 0.8215, F1 = 0.8300\n",
            "Chemical: P = 0.8902, R = 0.8625, F1 = 0.8761\n",
            "Disease: P = 0.7754, R = 0.7699, F1 = 0.7726\n",
            "Average F1 score on 5 runs: 0.8381356503487772\n"
          ]
        }
      ]
    },
    {
      "cell_type": "code",
      "source": [
        "params = NERParameters()\n",
        "params.finetune_word_emb = True\n",
        "ner_system = ner_util.SequenceLabeler(params, RNNSequenceModel,\n",
        "                                      pretrained_word_emb=pubmed)\n",
        "avg_f1 = repeat_train(ner_system, runs=5)\n",
        "print(f'Average F1 score on 5 runs: {avg_f1}')\n",
        "model_f1_scores['RNN using Pubmed With Finetuning'] = avg_f1"
      ],
      "metadata": {
        "colab": {
          "base_uri": "https://localhost:8080/"
        },
        "id": "3hKocdywtKxu",
        "outputId": "83b1dd06-f513-448e-c2e2-1e5e97571cb0"
      },
      "execution_count": null,
      "outputs": [
        {
          "output_type": "stream",
          "name": "stdout",
          "text": [
            "Epoch 1: train loss = 0.2817, val f1: 0.7799, time = 3.1964\n",
            "Epoch 2: train loss = 0.0629, val f1: 0.8035, time = 3.1922\n",
            "Epoch 3: train loss = 0.0329, val f1: 0.8141, time = 3.1948\n",
            "Epoch 4: train loss = 0.0188, val f1: 0.8006, time = 3.1866\n",
            "Epoch 5: train loss = 0.0121, val f1: 0.7966, time = 3.1840\n",
            "Epoch 6: train loss = 0.0081, val f1: 0.8063, time = 3.1937\n",
            "Epoch 7: train loss = 0.0047, val f1: 0.8004, time = 3.3920\n",
            "Epoch 8: train loss = 0.0039, val f1: 0.7943, time = 3.2219\n",
            "Epoch 9: train loss = 0.0029, val f1: 0.7997, time = 3.1886\n",
            "Epoch 10: train loss = 0.0018, val f1: 0.7924, time = 3.1854\n",
            "Epoch 11: train loss = 0.0018, val f1: 0.8003, time = 3.1645\n",
            "Epoch 12: train loss = 0.0017, val f1: 0.7893, time = 3.1771\n",
            "Epoch 13: train loss = 0.0054, val f1: 0.7922, time = 3.1892\n",
            "Epoch 14: train loss = 0.0032, val f1: 0.7646, time = 3.1878\n",
            "Epoch 15: train loss = 0.0043, val f1: 0.7988, time = 3.1976\n",
            "Epoch 16: train loss = 0.0022, val f1: 0.8013, time = 3.1968\n",
            "Epoch 17: train loss = 0.0009, val f1: 0.8032, time = 3.1886\n",
            "Epoch 18: train loss = 0.0004, val f1: 0.8051, time = 3.1878\n",
            "Epoch 19: train loss = 0.0001, val f1: 0.8033, time = 3.2132\n",
            "Epoch 20: train loss = 0.0001, val f1: 0.8027, time = 3.1836\n",
            "\n",
            "Final evaluation on the validation set:\n",
            "Overall: P = 0.8182, R = 0.7878, F1 = 0.8027\n",
            "Chemical: P = 0.8917, R = 0.8190, F1 = 0.8538\n",
            "Disease: P = 0.7348, R = 0.7485, F1 = 0.7416\n",
            "Epoch 1: train loss = 0.2832, val f1: 0.7836, time = 3.1891\n",
            "Epoch 2: train loss = 0.0638, val f1: 0.8075, time = 3.3326\n",
            "Epoch 3: train loss = 0.0327, val f1: 0.7988, time = 3.2643\n",
            "Epoch 4: train loss = 0.0222, val f1: 0.8153, time = 3.1890\n",
            "Epoch 5: train loss = 0.0128, val f1: 0.8038, time = 3.2139\n",
            "Epoch 6: train loss = 0.0074, val f1: 0.8134, time = 3.1800\n",
            "Epoch 7: train loss = 0.0048, val f1: 0.8052, time = 3.1786\n",
            "Epoch 8: train loss = 0.0019, val f1: 0.8080, time = 3.1788\n",
            "Epoch 9: train loss = 0.0013, val f1: 0.8096, time = 3.1927\n",
            "Epoch 10: train loss = 0.0004, val f1: 0.8082, time = 3.1808\n",
            "Epoch 11: train loss = 0.0003, val f1: 0.8108, time = 3.2022\n",
            "Epoch 12: train loss = 0.0001, val f1: 0.8114, time = 3.1957\n",
            "Epoch 13: train loss = 0.0001, val f1: 0.8110, time = 3.1804\n",
            "Epoch 14: train loss = 0.0001, val f1: 0.8117, time = 3.1766\n",
            "Epoch 15: train loss = 0.0000, val f1: 0.8116, time = 3.1905\n",
            "Epoch 16: train loss = 0.0000, val f1: 0.8115, time = 3.1963\n",
            "Epoch 17: train loss = 0.0000, val f1: 0.8117, time = 3.1798\n",
            "Epoch 18: train loss = 0.0000, val f1: 0.8117, time = 3.4698\n",
            "Epoch 19: train loss = 0.0000, val f1: 0.8116, time = 3.2417\n",
            "Epoch 20: train loss = 0.0000, val f1: 0.8114, time = 3.1980\n",
            "\n",
            "Final evaluation on the validation set:\n",
            "Overall: P = 0.8192, R = 0.8037, F1 = 0.8114\n",
            "Chemical: P = 0.8766, R = 0.8422, F1 = 0.8590\n",
            "Disease: P = 0.7502, R = 0.7553, F1 = 0.7527\n",
            "Epoch 1: train loss = 0.2793, val f1: 0.7882, time = 3.1974\n",
            "Epoch 2: train loss = 0.0611, val f1: 0.8142, time = 3.2000\n",
            "Epoch 3: train loss = 0.0306, val f1: 0.7696, time = 3.1842\n",
            "Epoch 4: train loss = 0.0201, val f1: 0.8088, time = 3.1824\n",
            "Epoch 5: train loss = 0.0121, val f1: 0.8097, time = 3.1844\n",
            "Epoch 6: train loss = 0.0057, val f1: 0.8106, time = 3.1797\n",
            "Epoch 7: train loss = 0.0038, val f1: 0.8083, time = 3.2056\n",
            "Epoch 8: train loss = 0.0024, val f1: 0.8137, time = 3.1952\n",
            "Epoch 9: train loss = 0.0020, val f1: 0.8043, time = 3.1769\n",
            "Epoch 10: train loss = 0.0013, val f1: 0.8157, time = 3.1772\n",
            "Epoch 11: train loss = 0.0004, val f1: 0.8105, time = 3.1905\n",
            "Epoch 12: train loss = 0.0004, val f1: 0.8093, time = 3.1795\n",
            "Epoch 13: train loss = 0.0012, val f1: 0.8114, time = 3.1858\n",
            "Epoch 14: train loss = 0.0051, val f1: 0.7970, time = 3.2840\n",
            "Epoch 15: train loss = 0.0042, val f1: 0.7976, time = 3.2043\n",
            "Epoch 16: train loss = 0.0040, val f1: 0.7947, time = 3.1979\n",
            "Epoch 17: train loss = 0.0040, val f1: 0.8108, time = 3.1998\n",
            "Epoch 18: train loss = 0.0019, val f1: 0.8077, time = 3.1970\n",
            "Epoch 19: train loss = 0.0009, val f1: 0.8069, time = 3.1926\n",
            "Epoch 20: train loss = 0.0008, val f1: 0.8043, time = 3.1922\n",
            "\n",
            "Final evaluation on the validation set:\n",
            "Overall: P = 0.8272, R = 0.7828, F1 = 0.8043\n",
            "Chemical: P = 0.8889, R = 0.8154, F1 = 0.8506\n",
            "Disease: P = 0.7546, R = 0.7416, F1 = 0.7481\n",
            "Epoch 1: train loss = 0.2839, val f1: 0.7896, time = 3.1899\n",
            "Epoch 2: train loss = 0.0620, val f1: 0.8077, time = 3.1821\n",
            "Epoch 3: train loss = 0.0309, val f1: 0.8080, time = 3.1774\n",
            "Epoch 4: train loss = 0.0173, val f1: 0.8143, time = 3.1994\n",
            "Epoch 5: train loss = 0.0106, val f1: 0.8119, time = 3.2006\n",
            "Epoch 6: train loss = 0.0056, val f1: 0.8109, time = 3.2071\n",
            "Epoch 7: train loss = 0.0044, val f1: 0.8057, time = 3.1833\n",
            "Epoch 8: train loss = 0.0038, val f1: 0.8135, time = 3.1907\n",
            "Epoch 9: train loss = 0.0018, val f1: 0.8071, time = 3.4305\n",
            "Epoch 10: train loss = 0.0012, val f1: 0.8099, time = 3.2451\n",
            "Epoch 11: train loss = 0.0005, val f1: 0.8088, time = 3.2090\n",
            "Epoch 12: train loss = 0.0004, val f1: 0.8129, time = 3.1949\n",
            "Epoch 13: train loss = 0.0001, val f1: 0.8141, time = 3.1834\n",
            "Epoch 14: train loss = 0.0001, val f1: 0.8155, time = 3.1764\n",
            "Epoch 15: train loss = 0.0000, val f1: 0.8147, time = 3.1820\n",
            "Epoch 16: train loss = 0.0000, val f1: 0.8151, time = 3.1828\n",
            "Epoch 17: train loss = 0.0000, val f1: 0.8149, time = 3.1816\n",
            "Epoch 18: train loss = 0.0000, val f1: 0.8148, time = 3.1940\n",
            "Epoch 19: train loss = 0.0000, val f1: 0.8149, time = 3.1944\n",
            "Epoch 20: train loss = 0.0000, val f1: 0.8143, time = 3.1938\n",
            "\n",
            "Final evaluation on the validation set:\n",
            "Overall: P = 0.8199, R = 0.8087, F1 = 0.8143\n",
            "Chemical: P = 0.8709, R = 0.8401, F1 = 0.8552\n",
            "Disease: P = 0.7588, R = 0.7692, F1 = 0.7640\n",
            "Epoch 1: train loss = 0.2758, val f1: 0.7865, time = 3.2002\n",
            "Epoch 2: train loss = 0.0594, val f1: 0.8140, time = 3.1966\n",
            "Epoch 3: train loss = 0.0329, val f1: 0.8120, time = 3.2076\n",
            "Epoch 4: train loss = 0.0180, val f1: 0.8027, time = 3.1837\n",
            "Epoch 5: train loss = 0.0099, val f1: 0.8124, time = 3.3822\n",
            "Epoch 6: train loss = 0.0077, val f1: 0.8137, time = 3.1909\n",
            "Epoch 7: train loss = 0.0045, val f1: 0.8012, time = 3.1963\n",
            "Epoch 8: train loss = 0.0031, val f1: 0.8109, time = 3.1943\n",
            "Epoch 9: train loss = 0.0022, val f1: 0.8075, time = 3.2071\n",
            "Epoch 10: train loss = 0.0015, val f1: 0.8124, time = 3.1968\n",
            "Epoch 11: train loss = 0.0010, val f1: 0.8103, time = 3.1944\n",
            "Epoch 12: train loss = 0.0005, val f1: 0.8116, time = 3.2031\n",
            "Epoch 13: train loss = 0.0002, val f1: 0.8136, time = 3.1876\n",
            "Epoch 14: train loss = 0.0001, val f1: 0.8091, time = 3.2022\n",
            "Epoch 15: train loss = 0.0004, val f1: 0.8096, time = 3.1846\n",
            "Epoch 16: train loss = 0.0010, val f1: 0.8078, time = 3.1923\n",
            "Epoch 17: train loss = 0.0068, val f1: 0.7948, time = 3.1983\n",
            "Epoch 18: train loss = 0.0069, val f1: 0.8047, time = 3.1856\n",
            "Epoch 19: train loss = 0.0053, val f1: 0.8078, time = 3.1879\n",
            "Epoch 20: train loss = 0.0022, val f1: 0.8011, time = 3.1893\n",
            "\n",
            "Final evaluation on the validation set:\n",
            "Overall: P = 0.8272, R = 0.7767, F1 = 0.8011\n",
            "Chemical: P = 0.8980, R = 0.8087, F1 = 0.8510\n",
            "Disease: P = 0.7458, R = 0.7365, F1 = 0.7411\n",
            "Average F1 score on 5 runs: 0.8149051426832289\n"
          ]
        }
      ]
    },
    {
      "cell_type": "markdown",
      "source": [
        "#### Summary"
      ],
      "metadata": {
        "id": "9nrqtYGFoJTa"
      }
    },
    {
      "cell_type": "code",
      "source": [
        "print(f'Model Type | F1 score')\n",
        "for model_type in model_f1_scores.keys():\n",
        "    f1score = model_f1_scores[model_type]\n",
        "    print(f'| {model_type}\\t{f1score}')"
      ],
      "metadata": {
        "colab": {
          "base_uri": "https://localhost:8080/"
        },
        "id": "9EQw44B2tR41",
        "outputId": "0db2eb92-236b-4d79-c56c-698b947adef6"
      },
      "execution_count": null,
      "outputs": [
        {
          "output_type": "stream",
          "name": "stdout",
          "text": [
            "Model Type | F1 score\n",
            "| RNN Without Finetuning\t0.6631091835218358\n",
            "| RNN With Finetuning\t0.692832948372629\n",
            "| RNN using GloVe Without Finetuning\t0.7815799932986593\n",
            "| RNN using GloVe With Finetuning\t0.7813572010653469\n",
            "| RNN using Pubmed Without Finetuning\t0.8381356503487772\n",
            "| RNN using Pubmed With Finetuning\t0.8149051426832289\n"
          ]
        }
      ]
    },
    {
      "cell_type": "markdown",
      "source": [
        "> Summary. What conclusions can you draw from the results of these six experiments? Write a brief comment in the notebook summarizing your findings. "
      ],
      "metadata": {
        "id": "wgHOPjMBUJta"
      }
    },
    {
      "cell_type": "markdown",
      "source": [
        "One obvious finding is that a large and domain specific model performs better than a general, standard RNN. We can see that the model with GloVe embeddings have higher F1 score (10%-unit increase) than a model with \"self-created\" embeddings. Moreover, when using a pre-trained model that has been trained on domain specific data (Pubmed) we increase the performance by approximately 5 %-units.\n",
        "\n",
        "However, we can see the finetuning is only helpful for the standard RNN model (LSTM). In the other cases, the finetuning decreased the F1 score slightly. This may be because of catastrophic forgetting. If trained, the embeddings might lose its ability to efficiently encode words. This might be fixed by increasing the learning rate."
      ],
      "metadata": {
        "id": "d5AAgA4GGJQZ"
      }
    },
    {
      "cell_type": "markdown",
      "source": [
        "# Optional task: Character-based word representations"
      ],
      "metadata": {
        "id": "jCrKBZtRkrrQ"
      }
    },
    {
      "cell_type": "code",
      "source": [
        "import torch\n",
        "from torch import nn\n",
        "\n",
        "class RNNCharSequenceModel(nn.Module):\n",
        "    \n",
        "    def __init__(self, seq_labeler):\n",
        "        super().__init__()\n",
        "        # Here is how you access the NERParameters.\n",
        "        p = seq_labeler.params\n",
        "        self.word_embedding = seq_labeler.word_voc.make_embedding_layer(finetune=p.finetune_word_emb, \n",
        "                                                                        emb_dim=p.word_emb_dim)\n",
        "        self.char_embedding = seq_labeler.char_voc.make_embedding_layer(finetune=p.finetune_word_emb, \n",
        "                                                                        emb_dim=p.word_emb_dim)\n",
        "        # The dimensionality of the word embedding model.\n",
        "        char_emb_dim = self.char_embedding.weight.shape[1]\n",
        "        self.rnn = nn.LSTM(input_size=char_emb_dim, hidden_size=p.hidden_size,\n",
        "                           num_layers=p.lstm_n_layers, batch_first=True,\n",
        "                           bidirectional=True)\n",
        "        # Output unit.\n",
        "        # NOTE: The first *2 comes from the use of a BiLSTM, the second from\n",
        "        # concatenating the two embeddings (last char and word)\n",
        "        linear_dim = (p.hidden_size * 2) * 2\n",
        "        self.top_layer = nn.Linear(linear_dim, seq_labeler.n_labels)\n",
        "                        \n",
        "    def forward(self, words, characters):\n",
        "        \"\"\"\n",
        "        Arguments:\n",
        "            words: (batch_size, max_sen_length)\n",
        "                Tensor of integer-encoded words.\n",
        "            characters: (batch_size, max_sen_length, max_word_length)\n",
        "                Tensor of integer-encoded characters.\n",
        "        \"\"\"\n",
        "        # Get character embeddings\n",
        "        char_repr = self.char_embedding(characters)\n",
        "        # Save max sentence and word embedding dims for current batch\n",
        "        char_repr_shape = char_repr.shape\n",
        "        # Flatten accross max sentence and word dimensions then pass through RNN\n",
        "        char_repr, _ = self.rnn(char_repr.flatten(start_dim=1, end_dim=2))\n",
        "        # Return to original dimensions: (batch_sz, max_sen_len, max_word_len, emb_dim)\n",
        "        char_repr = torch.reshape(char_repr, char_repr_shape)\n",
        "        # Get word embeddings\n",
        "        word_repr = self.word_embedding(words)\n",
        "        # Remove the max_word dimension and concatenate embeddings\n",
        "        x = torch.cat((char_repr[:, :, -1, :], word_repr), dim=2)\n",
        "        return self.top_layer(x)"
      ],
      "metadata": {
        "id": "ZNs8oW5Y65o9"
      },
      "execution_count": null,
      "outputs": []
    },
    {
      "cell_type": "code",
      "source": [
        "p = NERParameters()\n",
        "p.use_characters = True\n",
        "p.n_epochs = 20\n",
        "# The paper states that dropout is good for character-based LSTM implementations\n",
        "# Adding dropout alone increases val f1 from 0.66 -> 0.76 \n",
        "p.word_dropout_prob = 0.5\n",
        "ner_system_charrnn = ner_util.SequenceLabeler(p, RNNCharSequenceModel)\n",
        "avg_f1 = repeat_train(ner_system, runs=5)\n",
        "print(f'Average F1 score on 5 runs: {avg_f1}')\n",
        "try:\n",
        "    model_f1_scores['CharRNN Without Finetuning'] = avg_f1\n",
        "except:\n",
        "    model_f1_scores = {}\n",
        "    model_f1_scores['CharRNN Without Finetuning'] = avg_f1"
      ],
      "metadata": {
        "colab": {
          "base_uri": "https://localhost:8080/"
        },
        "id": "j8-S7dVH8hza",
        "outputId": "7b7d81c9-811d-44a2-cf5c-818f3041048d"
      },
      "execution_count": null,
      "outputs": [
        {
          "output_type": "stream",
          "name": "stdout",
          "text": [
            "Epoch 1: train loss = 0.2758, val f1: 0.7865, time = 3.2104\n",
            "Epoch 2: train loss = 0.0594, val f1: 0.8140, time = 3.1934\n",
            "Epoch 3: train loss = 0.0329, val f1: 0.8120, time = 3.1941\n",
            "Epoch 4: train loss = 0.0180, val f1: 0.8027, time = 3.1888\n",
            "Epoch 5: train loss = 0.0099, val f1: 0.8124, time = 3.2001\n",
            "Epoch 6: train loss = 0.0077, val f1: 0.8137, time = 3.1740\n",
            "Epoch 7: train loss = 0.0045, val f1: 0.8012, time = 3.2244\n",
            "Epoch 8: train loss = 0.0031, val f1: 0.8109, time = 3.1866\n",
            "Epoch 9: train loss = 0.0022, val f1: 0.8075, time = 3.1835\n",
            "Epoch 10: train loss = 0.0015, val f1: 0.8124, time = 3.1884\n",
            "Epoch 11: train loss = 0.0010, val f1: 0.8103, time = 3.1886\n",
            "Epoch 12: train loss = 0.0005, val f1: 0.8116, time = 3.1859\n",
            "Epoch 13: train loss = 0.0002, val f1: 0.8136, time = 3.1856\n",
            "Epoch 14: train loss = 0.0001, val f1: 0.8091, time = 3.1962\n",
            "Epoch 15: train loss = 0.0004, val f1: 0.8096, time = 3.4520\n",
            "Epoch 16: train loss = 0.0010, val f1: 0.8078, time = 3.2365\n",
            "Epoch 17: train loss = 0.0068, val f1: 0.7948, time = 3.1936\n",
            "Epoch 18: train loss = 0.0069, val f1: 0.8047, time = 3.1949\n",
            "Epoch 19: train loss = 0.0053, val f1: 0.8078, time = 3.2160\n",
            "Epoch 20: train loss = 0.0022, val f1: 0.8011, time = 3.1830\n",
            "\n",
            "Final evaluation on the validation set:\n",
            "Overall: P = 0.8272, R = 0.7767, F1 = 0.8011\n",
            "Chemical: P = 0.8980, R = 0.8087, F1 = 0.8510\n",
            "Disease: P = 0.7458, R = 0.7365, F1 = 0.7411\n",
            "Epoch 1: train loss = 0.2822, val f1: 0.7845, time = 3.1887\n",
            "Epoch 2: train loss = 0.0630, val f1: 0.8001, time = 3.1885\n",
            "Epoch 3: train loss = 0.0349, val f1: 0.8135, time = 3.1811\n",
            "Epoch 4: train loss = 0.0183, val f1: 0.8103, time = 3.1879\n",
            "Epoch 5: train loss = 0.0121, val f1: 0.8128, time = 3.1841\n",
            "Epoch 6: train loss = 0.0069, val f1: 0.8066, time = 3.1823\n",
            "Epoch 7: train loss = 0.0042, val f1: 0.8136, time = 3.1889\n",
            "Epoch 8: train loss = 0.0020, val f1: 0.8065, time = 3.1834\n",
            "Epoch 9: train loss = 0.0013, val f1: 0.8138, time = 3.1829\n",
            "Epoch 10: train loss = 0.0007, val f1: 0.8026, time = 3.1955\n",
            "Epoch 11: train loss = 0.0007, val f1: 0.8091, time = 3.4296\n",
            "Epoch 12: train loss = 0.0005, val f1: 0.8108, time = 3.1807\n",
            "Epoch 13: train loss = 0.0014, val f1: 0.7969, time = 3.1905\n",
            "Epoch 14: train loss = 0.0031, val f1: 0.8039, time = 3.1913\n",
            "Epoch 15: train loss = 0.0066, val f1: 0.7868, time = 3.1879\n",
            "Epoch 16: train loss = 0.0059, val f1: 0.8053, time = 3.1870\n",
            "Epoch 17: train loss = 0.0030, val f1: 0.7973, time = 3.1878\n",
            "Epoch 18: train loss = 0.0019, val f1: 0.8056, time = 3.1872\n",
            "Epoch 19: train loss = 0.0007, val f1: 0.8042, time = 3.2000\n",
            "Epoch 20: train loss = 0.0004, val f1: 0.8101, time = 3.1803\n",
            "\n",
            "Final evaluation on the validation set:\n",
            "Overall: P = 0.8249, R = 0.7958, F1 = 0.8101\n",
            "Chemical: P = 0.8771, R = 0.8345, F1 = 0.8553\n",
            "Disease: P = 0.7610, R = 0.7471, F1 = 0.7540\n",
            "Epoch 1: train loss = 0.2742, val f1: 0.7727, time = 3.2121\n",
            "Epoch 2: train loss = 0.0617, val f1: 0.8073, time = 3.1898\n",
            "Epoch 3: train loss = 0.0330, val f1: 0.8151, time = 3.1831\n",
            "Epoch 4: train loss = 0.0204, val f1: 0.8108, time = 3.1844\n",
            "Epoch 5: train loss = 0.0109, val f1: 0.8093, time = 3.1905\n",
            "Epoch 6: train loss = 0.0078, val f1: 0.8105, time = 3.1994\n",
            "Epoch 7: train loss = 0.0076, val f1: 0.8173, time = 3.2872\n",
            "Epoch 8: train loss = 0.0038, val f1: 0.8103, time = 3.1801\n",
            "Epoch 9: train loss = 0.0018, val f1: 0.8098, time = 3.1854\n",
            "Epoch 10: train loss = 0.0011, val f1: 0.8102, time = 3.2015\n",
            "Epoch 11: train loss = 0.0005, val f1: 0.8083, time = 3.2029\n",
            "Epoch 12: train loss = 0.0002, val f1: 0.8107, time = 3.1914\n",
            "Epoch 13: train loss = 0.0001, val f1: 0.8109, time = 3.1995\n",
            "Epoch 14: train loss = 0.0001, val f1: 0.8108, time = 3.2033\n",
            "Epoch 15: train loss = 0.0001, val f1: 0.8107, time = 3.1888\n",
            "Epoch 16: train loss = 0.0000, val f1: 0.8111, time = 3.1832\n",
            "Epoch 17: train loss = 0.0000, val f1: 0.8107, time = 3.1890\n",
            "Epoch 18: train loss = 0.0000, val f1: 0.8108, time = 3.2048\n",
            "Epoch 19: train loss = 0.0000, val f1: 0.8115, time = 3.1914\n",
            "Epoch 20: train loss = 0.0000, val f1: 0.8118, time = 3.2197\n",
            "\n",
            "Final evaluation on the validation set:\n",
            "Overall: P = 0.8183, R = 0.8055, F1 = 0.8118\n",
            "Chemical: P = 0.8721, R = 0.8369, F1 = 0.8542\n",
            "Disease: P = 0.7542, R = 0.7659, F1 = 0.7600\n",
            "Epoch 1: train loss = 0.2816, val f1: 0.7837, time = 3.1954\n",
            "Epoch 2: train loss = 0.0615, val f1: 0.8089, time = 3.4867\n",
            "Epoch 3: train loss = 0.0339, val f1: 0.8109, time = 3.2573\n",
            "Epoch 4: train loss = 0.0174, val f1: 0.8017, time = 3.1885\n",
            "Epoch 5: train loss = 0.0119, val f1: 0.8082, time = 3.1947\n",
            "Epoch 6: train loss = 0.0062, val f1: 0.8122, time = 3.1939\n",
            "Epoch 7: train loss = 0.0044, val f1: 0.8029, time = 3.1775\n",
            "Epoch 8: train loss = 0.0023, val f1: 0.8080, time = 3.2001\n",
            "Epoch 9: train loss = 0.0010, val f1: 0.8105, time = 3.1852\n",
            "Epoch 10: train loss = 0.0006, val f1: 0.8111, time = 3.1971\n",
            "Epoch 11: train loss = 0.0005, val f1: 0.8040, time = 3.1829\n",
            "Epoch 12: train loss = 0.0014, val f1: 0.8046, time = 3.1835\n",
            "Epoch 13: train loss = 0.0045, val f1: 0.7820, time = 3.2054\n",
            "Epoch 14: train loss = 0.0103, val f1: 0.7990, time = 3.1895\n",
            "Epoch 15: train loss = 0.0057, val f1: 0.8068, time = 3.1870\n",
            "Epoch 16: train loss = 0.0020, val f1: 0.8032, time = 3.1877\n",
            "Epoch 17: train loss = 0.0009, val f1: 0.8090, time = 3.1956\n",
            "Epoch 18: train loss = 0.0002, val f1: 0.8069, time = 3.4787\n",
            "Epoch 19: train loss = 0.0004, val f1: 0.8074, time = 3.1937\n",
            "Epoch 20: train loss = 0.0002, val f1: 0.8079, time = 3.1906\n",
            "\n",
            "Final evaluation on the validation set:\n",
            "Overall: P = 0.8140, R = 0.8019, F1 = 0.8079\n",
            "Chemical: P = 0.8683, R = 0.8371, F1 = 0.8524\n",
            "Disease: P = 0.7488, R = 0.7577, F1 = 0.7532\n",
            "Epoch 1: train loss = 0.2850, val f1: 0.7861, time = 3.1903\n",
            "Epoch 2: train loss = 0.0611, val f1: 0.8027, time = 3.1970\n",
            "Epoch 3: train loss = 0.0332, val f1: 0.8167, time = 3.1936\n",
            "Epoch 4: train loss = 0.0198, val f1: 0.8139, time = 3.1942\n",
            "Epoch 5: train loss = 0.0109, val f1: 0.8101, time = 3.1918\n",
            "Epoch 6: train loss = 0.0059, val f1: 0.8156, time = 3.1996\n",
            "Epoch 7: train loss = 0.0038, val f1: 0.8129, time = 3.1897\n",
            "Epoch 8: train loss = 0.0025, val f1: 0.8049, time = 3.1965\n",
            "Epoch 9: train loss = 0.0017, val f1: 0.8076, time = 3.4018\n",
            "Epoch 10: train loss = 0.0039, val f1: 0.7937, time = 3.5662\n",
            "Epoch 11: train loss = 0.0039, val f1: 0.8027, time = 3.1968\n",
            "Epoch 12: train loss = 0.0027, val f1: 0.8116, time = 3.1893\n",
            "Epoch 13: train loss = 0.0021, val f1: 0.8085, time = 3.2015\n",
            "Epoch 14: train loss = 0.0015, val f1: 0.8019, time = 3.4864\n",
            "Epoch 15: train loss = 0.0007, val f1: 0.7971, time = 3.1902\n",
            "Epoch 16: train loss = 0.0027, val f1: 0.7910, time = 3.1987\n",
            "Epoch 17: train loss = 0.0024, val f1: 0.7988, time = 3.2048\n",
            "Epoch 18: train loss = 0.0016, val f1: 0.8024, time = 3.2131\n",
            "Epoch 19: train loss = 0.0012, val f1: 0.7996, time = 3.1937\n",
            "Epoch 20: train loss = 0.0004, val f1: 0.8049, time = 3.1918\n",
            "\n",
            "Final evaluation on the validation set:\n",
            "Overall: P = 0.8153, R = 0.7947, F1 = 0.8049\n",
            "Chemical: P = 0.8656, R = 0.8337, F1 = 0.8494\n",
            "Disease: P = 0.7536, R = 0.7456, F1 = 0.7496\n",
            "Average F1 score on 5 runs: 0.8147928382929803\n"
          ]
        }
      ]
    },
    {
      "cell_type": "code",
      "source": [
        "p = NERParameters()\n",
        "p.use_characters = True\n",
        "p.n_epochs = 20\n",
        "# The paper states that dropout is good for character-based LSTM implementations\n",
        "# Adding dropout alone increases val f1 from 0.66 -> 0.76 \n",
        "p.word_dropout_prob = 0.5\n",
        "params.finetune_word_emb = True\n",
        "\n",
        "ner_system_charrnn = ner_util.SequenceLabeler(p, RNNCharSequenceModel)\n",
        "avg_f1 = repeat_train(ner_system, runs=5)\n",
        "print(f'Average F1 score on 5 runs: {avg_f1}')\n",
        "model_f1_scores['CharRNN With Finetuning'] = avg_f1"
      ],
      "metadata": {
        "colab": {
          "base_uri": "https://localhost:8080/"
        },
        "id": "HZuGaxSIvQr4",
        "outputId": "8893a9c4-506d-472b-be3d-efde87603914"
      },
      "execution_count": null,
      "outputs": [
        {
          "output_type": "stream",
          "name": "stdout",
          "text": [
            "Epoch 1: train loss = 0.2850, val f1: 0.7861, time = 3.2029\n",
            "Epoch 2: train loss = 0.0611, val f1: 0.8027, time = 3.1779\n",
            "Epoch 3: train loss = 0.0332, val f1: 0.8167, time = 3.1788\n",
            "Epoch 4: train loss = 0.0198, val f1: 0.8139, time = 3.1856\n",
            "Epoch 5: train loss = 0.0109, val f1: 0.8101, time = 3.1891\n",
            "Epoch 6: train loss = 0.0059, val f1: 0.8156, time = 3.2117\n",
            "Epoch 7: train loss = 0.0038, val f1: 0.8129, time = 3.1823\n",
            "Epoch 8: train loss = 0.0025, val f1: 0.8049, time = 3.1812\n",
            "Epoch 9: train loss = 0.0017, val f1: 0.8076, time = 3.4714\n",
            "Epoch 10: train loss = 0.0039, val f1: 0.7937, time = 3.2140\n",
            "Epoch 11: train loss = 0.0039, val f1: 0.8027, time = 3.2129\n",
            "Epoch 12: train loss = 0.0027, val f1: 0.8116, time = 3.2023\n",
            "Epoch 13: train loss = 0.0021, val f1: 0.8085, time = 3.1819\n",
            "Epoch 14: train loss = 0.0015, val f1: 0.8019, time = 3.1966\n",
            "Epoch 15: train loss = 0.0007, val f1: 0.7971, time = 3.1745\n",
            "Epoch 16: train loss = 0.0027, val f1: 0.7910, time = 3.1901\n",
            "Epoch 17: train loss = 0.0024, val f1: 0.7988, time = 3.1890\n",
            "Epoch 18: train loss = 0.0016, val f1: 0.8024, time = 3.1972\n",
            "Epoch 19: train loss = 0.0012, val f1: 0.7996, time = 3.1902\n",
            "Epoch 20: train loss = 0.0004, val f1: 0.8049, time = 3.1862\n",
            "\n",
            "Final evaluation on the validation set:\n",
            "Overall: P = 0.8153, R = 0.7947, F1 = 0.8049\n",
            "Chemical: P = 0.8656, R = 0.8337, F1 = 0.8494\n",
            "Disease: P = 0.7536, R = 0.7456, F1 = 0.7496\n",
            "Epoch 1: train loss = 0.2630, val f1: 0.7950, time = 3.1920\n",
            "Epoch 2: train loss = 0.0595, val f1: 0.8134, time = 3.2024\n",
            "Epoch 3: train loss = 0.0321, val f1: 0.8170, time = 3.1824\n",
            "Epoch 4: train loss = 0.0195, val f1: 0.8031, time = 3.1815\n",
            "Epoch 5: train loss = 0.0115, val f1: 0.8117, time = 3.2908\n",
            "Epoch 6: train loss = 0.0069, val f1: 0.8165, time = 3.1835\n",
            "Epoch 7: train loss = 0.0034, val f1: 0.7989, time = 3.2075\n",
            "Epoch 8: train loss = 0.0028, val f1: 0.8135, time = 3.1924\n",
            "Epoch 9: train loss = 0.0013, val f1: 0.8125, time = 3.1960\n",
            "Epoch 10: train loss = 0.0010, val f1: 0.8118, time = 3.1912\n",
            "Epoch 11: train loss = 0.0022, val f1: 0.7948, time = 3.1829\n",
            "Epoch 12: train loss = 0.0032, val f1: 0.7958, time = 3.1788\n",
            "Epoch 13: train loss = 0.0070, val f1: 0.8029, time = 3.2084\n",
            "Epoch 14: train loss = 0.0040, val f1: 0.8027, time = 3.1916\n",
            "Epoch 15: train loss = 0.0013, val f1: 0.8124, time = 3.2026\n",
            "Epoch 16: train loss = 0.0005, val f1: 0.8086, time = 3.2076\n",
            "Epoch 17: train loss = 0.0002, val f1: 0.8094, time = 3.2031\n",
            "Epoch 18: train loss = 0.0003, val f1: 0.8034, time = 3.2172\n",
            "Epoch 19: train loss = 0.0001, val f1: 0.8070, time = 3.2144\n",
            "Epoch 20: train loss = 0.0000, val f1: 0.8086, time = 3.1790\n",
            "\n",
            "Final evaluation on the validation set:\n",
            "Overall: P = 0.8148, R = 0.8026, F1 = 0.8086\n",
            "Chemical: P = 0.8699, R = 0.8367, F1 = 0.8530\n",
            "Disease: P = 0.7490, R = 0.7595, F1 = 0.7542\n",
            "Epoch 1: train loss = 0.2624, val f1: 0.7857, time = 3.2636\n",
            "Epoch 2: train loss = 0.0586, val f1: 0.8034, time = 3.1835\n",
            "Epoch 3: train loss = 0.0308, val f1: 0.8132, time = 3.1903\n",
            "Epoch 4: train loss = 0.0181, val f1: 0.8046, time = 3.1934\n",
            "Epoch 5: train loss = 0.0143, val f1: 0.8149, time = 3.1802\n",
            "Epoch 6: train loss = 0.0075, val f1: 0.8133, time = 3.1898\n",
            "Epoch 7: train loss = 0.0046, val f1: 0.8125, time = 3.1941\n",
            "Epoch 8: train loss = 0.0021, val f1: 0.8175, time = 3.1991\n",
            "Epoch 9: train loss = 0.0010, val f1: 0.8099, time = 3.1846\n",
            "Epoch 10: train loss = 0.0008, val f1: 0.8167, time = 3.2080\n",
            "Epoch 11: train loss = 0.0005, val f1: 0.8183, time = 3.1896\n",
            "Epoch 12: train loss = 0.0004, val f1: 0.8124, time = 3.1899\n",
            "Epoch 13: train loss = 0.0013, val f1: 0.8021, time = 3.1971\n",
            "Epoch 14: train loss = 0.0041, val f1: 0.7935, time = 3.1998\n",
            "Epoch 15: train loss = 0.0071, val f1: 0.7872, time = 3.1861\n",
            "Epoch 16: train loss = 0.0052, val f1: 0.8085, time = 3.4409\n",
            "Epoch 17: train loss = 0.0034, val f1: 0.8081, time = 3.2547\n",
            "Epoch 18: train loss = 0.0016, val f1: 0.8077, time = 3.1873\n",
            "Epoch 19: train loss = 0.0010, val f1: 0.8157, time = 3.1838\n",
            "Epoch 20: train loss = 0.0007, val f1: 0.8192, time = 3.2005\n",
            "\n",
            "Final evaluation on the validation set:\n",
            "Overall: P = 0.8281, R = 0.8105, F1 = 0.8192\n",
            "Chemical: P = 0.8771, R = 0.8474, F1 = 0.8620\n",
            "Disease: P = 0.7682, R = 0.7640, F1 = 0.7661\n",
            "Epoch 1: train loss = 0.2668, val f1: 0.7979, time = 3.1863\n",
            "Epoch 2: train loss = 0.0588, val f1: 0.8123, time = 3.1796\n",
            "Epoch 3: train loss = 0.0301, val f1: 0.8179, time = 3.1874\n",
            "Epoch 4: train loss = 0.0162, val f1: 0.8159, time = 3.1855\n",
            "Epoch 5: train loss = 0.0115, val f1: 0.8042, time = 3.1751\n",
            "Epoch 6: train loss = 0.0071, val f1: 0.8170, time = 3.1931\n",
            "Epoch 7: train loss = 0.0030, val f1: 0.8144, time = 3.1961\n",
            "Epoch 8: train loss = 0.0017, val f1: 0.8116, time = 3.2004\n",
            "Epoch 9: train loss = 0.0013, val f1: 0.8116, time = 3.2024\n",
            "Epoch 10: train loss = 0.0008, val f1: 0.8094, time = 3.1802\n",
            "Epoch 11: train loss = 0.0006, val f1: 0.8147, time = 3.1851\n",
            "Epoch 12: train loss = 0.0005, val f1: 0.8113, time = 3.4962\n",
            "Epoch 13: train loss = 0.0006, val f1: 0.8105, time = 3.2018\n",
            "Epoch 14: train loss = 0.0021, val f1: 0.7924, time = 3.1846\n",
            "Epoch 15: train loss = 0.0055, val f1: 0.7931, time = 3.2053\n",
            "Epoch 16: train loss = 0.0070, val f1: 0.8015, time = 3.1945\n",
            "Epoch 17: train loss = 0.0052, val f1: 0.8100, time = 3.1929\n",
            "Epoch 18: train loss = 0.0023, val f1: 0.8117, time = 3.1847\n",
            "Epoch 19: train loss = 0.0011, val f1: 0.8094, time = 3.2035\n",
            "Epoch 20: train loss = 0.0010, val f1: 0.8158, time = 3.1874\n",
            "\n",
            "Final evaluation on the validation set:\n",
            "Overall: P = 0.8329, R = 0.7994, F1 = 0.8158\n",
            "Chemical: P = 0.8914, R = 0.8365, F1 = 0.8631\n",
            "Disease: P = 0.7628, R = 0.7527, F1 = 0.7577\n",
            "Epoch 1: train loss = 0.2732, val f1: 0.7737, time = 3.1801\n",
            "Epoch 2: train loss = 0.0629, val f1: 0.8073, time = 3.1836\n",
            "Epoch 3: train loss = 0.0321, val f1: 0.7956, time = 3.1942\n",
            "Epoch 4: train loss = 0.0191, val f1: 0.8003, time = 3.1832\n",
            "Epoch 5: train loss = 0.0122, val f1: 0.8040, time = 3.1916\n",
            "Epoch 6: train loss = 0.0072, val f1: 0.8085, time = 3.1824\n",
            "Epoch 7: train loss = 0.0044, val f1: 0.8020, time = 3.1892\n",
            "Epoch 8: train loss = 0.0037, val f1: 0.8034, time = 3.4669\n",
            "Epoch 9: train loss = 0.0027, val f1: 0.7944, time = 3.2034\n",
            "Epoch 10: train loss = 0.0022, val f1: 0.8019, time = 3.1879\n",
            "Epoch 11: train loss = 0.0013, val f1: 0.8024, time = 3.1975\n",
            "Epoch 12: train loss = 0.0010, val f1: 0.8041, time = 3.2119\n",
            "Epoch 13: train loss = 0.0006, val f1: 0.8032, time = 3.1936\n",
            "Epoch 14: train loss = 0.0006, val f1: 0.8004, time = 3.1830\n",
            "Epoch 15: train loss = 0.0003, val f1: 0.8065, time = 3.5695\n",
            "Epoch 16: train loss = 0.0001, val f1: 0.8070, time = 3.3617\n",
            "Epoch 17: train loss = 0.0001, val f1: 0.8100, time = 3.1830\n",
            "Epoch 18: train loss = 0.0013, val f1: 0.7813, time = 3.1854\n",
            "Epoch 19: train loss = 0.0070, val f1: 0.7988, time = 3.2026\n",
            "Epoch 20: train loss = 0.0067, val f1: 0.7930, time = 3.1886\n",
            "\n",
            "Final evaluation on the validation set:\n",
            "Overall: P = 0.7922, R = 0.7937, F1 = 0.7930\n",
            "Chemical: P = 0.8539, R = 0.8266, F1 = 0.8401\n",
            "Disease: P = 0.7202, R = 0.7522, F1 = 0.7359\n",
            "Average F1 score on 5 runs: 0.816165740259137\n"
          ]
        }
      ]
    },
    {
      "cell_type": "code",
      "source": [
        "print(f'Model Type | F1 score')\n",
        "for model_type in model_f1_scores.keys():\n",
        "    f1score = model_f1_scores[model_type]\n",
        "    print(f'| {model_type}\\t{f1score}')"
      ],
      "metadata": {
        "colab": {
          "base_uri": "https://localhost:8080/"
        },
        "id": "sJS0I5SCvcIw",
        "outputId": "219fbc57-8b8b-47e5-b47a-342939fb77c0"
      },
      "execution_count": null,
      "outputs": [
        {
          "output_type": "stream",
          "name": "stdout",
          "text": [
            "Model Type | F1 score\n",
            "| RNN Without Finetuning\t0.6631091835218358\n",
            "| RNN With Finetuning\t0.692832948372629\n",
            "| RNN using GloVe Without Finetuning\t0.7815799932986593\n",
            "| RNN using GloVe With Finetuning\t0.7813572010653469\n",
            "| RNN using Pubmed Without Finetuning\t0.8381356503487772\n",
            "| RNN using Pubmed With Finetuning\t0.8149051426832289\n",
            "| CharRNN Without Finetuning\t0.8147928382929803\n",
            "| CharRNN With Finetuning\t0.816165740259137\n"
          ]
        }
      ]
    },
    {
      "cell_type": "markdown",
      "source": [
        "It seems that utilizing charecter embeddings along side with word embeddings greatly improves the F1 score of the model. As we can see in the table above, in our experiments the Char-RNN model achieved a significant F1 score, around 81%, close to the model exploiting the embeddings trained on Pubmed. The result is even more impressive considering that the Char-RNN model embeddings were trained \"from scratch\", _i.e._ with random initialization."
      ],
      "metadata": {
        "id": "6BnYZfd5fHwg"
      }
    },
    {
      "cell_type": "markdown",
      "source": [
        "# Optional task: Using BERT or other transformer-based models"
      ],
      "metadata": {
        "id": "ocjW3yjqkx2L"
      }
    },
    {
      "cell_type": "code",
      "source": [
        "!pip install transformers"
      ],
      "metadata": {
        "colab": {
          "base_uri": "https://localhost:8080/"
        },
        "id": "MvGIlTV8n67i",
        "outputId": "c276a327-a89e-4fca-855f-3dba640b1ef7"
      },
      "execution_count": null,
      "outputs": [
        {
          "output_type": "stream",
          "name": "stdout",
          "text": [
            "Looking in indexes: https://pypi.org/simple, https://us-python.pkg.dev/colab-wheels/public/simple/\n",
            "Requirement already satisfied: transformers in /usr/local/lib/python3.8/dist-packages (4.25.1)\n",
            "Requirement already satisfied: packaging>=20.0 in /usr/local/lib/python3.8/dist-packages (from transformers) (21.3)\n",
            "Requirement already satisfied: filelock in /usr/local/lib/python3.8/dist-packages (from transformers) (3.8.0)\n",
            "Requirement already satisfied: pyyaml>=5.1 in /usr/local/lib/python3.8/dist-packages (from transformers) (6.0)\n",
            "Requirement already satisfied: regex!=2019.12.17 in /usr/local/lib/python3.8/dist-packages (from transformers) (2022.6.2)\n",
            "Requirement already satisfied: huggingface-hub<1.0,>=0.10.0 in /usr/local/lib/python3.8/dist-packages (from transformers) (0.11.1)\n",
            "Requirement already satisfied: requests in /usr/local/lib/python3.8/dist-packages (from transformers) (2.23.0)\n",
            "Requirement already satisfied: tqdm>=4.27 in /usr/local/lib/python3.8/dist-packages (from transformers) (4.64.1)\n",
            "Requirement already satisfied: numpy>=1.17 in /usr/local/lib/python3.8/dist-packages (from transformers) (1.21.6)\n",
            "Requirement already satisfied: tokenizers!=0.11.3,<0.14,>=0.11.1 in /usr/local/lib/python3.8/dist-packages (from transformers) (0.13.2)\n",
            "Requirement already satisfied: typing-extensions>=3.7.4.3 in /usr/local/lib/python3.8/dist-packages (from huggingface-hub<1.0,>=0.10.0->transformers) (4.4.0)\n",
            "Requirement already satisfied: pyparsing!=3.0.5,>=2.0.2 in /usr/local/lib/python3.8/dist-packages (from packaging>=20.0->transformers) (3.0.9)\n",
            "Requirement already satisfied: chardet<4,>=3.0.2 in /usr/local/lib/python3.8/dist-packages (from requests->transformers) (3.0.4)\n",
            "Requirement already satisfied: certifi>=2017.4.17 in /usr/local/lib/python3.8/dist-packages (from requests->transformers) (2022.9.24)\n",
            "Requirement already satisfied: idna<3,>=2.5 in /usr/local/lib/python3.8/dist-packages (from requests->transformers) (2.10)\n",
            "Requirement already satisfied: urllib3!=1.25.0,!=1.25.1,<1.26,>=1.21.1 in /usr/local/lib/python3.8/dist-packages (from requests->transformers) (1.24.3)\n"
          ]
        }
      ]
    },
    {
      "cell_type": "code",
      "source": [
        "from transformers import AutoTokenizer\n",
        "from transformers import AutoModel"
      ],
      "metadata": {
        "id": "TjT2Eyh_n0-l"
      },
      "execution_count": null,
      "outputs": []
    },
    {
      "cell_type": "code",
      "source": [
        "### Parameters taken partly from BERT exercise notebook given in this course. \n",
        "\n",
        "class BERTParameters():\n",
        "    random_seed=0\n",
        "    word_dropout_prob=0.3\n",
        "    weight_decay=1e-6\n",
        "    val_size = 0.2\n",
        "    device = 'cuda'\n",
        "    n_epochs = 10\n",
        "    batch_size = 32\n",
        "    bert_max_len = 128   \n",
        "    use_characters=False \n",
        "    #bert_model_name = 'distilbert-base-uncased'\n",
        "    \n",
        "    # The BERT paper recommends learning rates 5e-5, 3e-5, or 2e-5\n",
        "    learning_rate = 2e-5 "
      ],
      "metadata": {
        "id": "yrzPtZII5j8f"
      },
      "execution_count": null,
      "outputs": []
    },
    {
      "cell_type": "code",
      "source": [
        "import torch\n",
        "from torch import nn\n",
        "\n",
        "class BERTSequenceModel(nn.Module):\n",
        "    \n",
        "    def __init__(self, seq_labeler):\n",
        "        super().__init__()                \n",
        "        \n",
        "        # Here is how you access the NERParameters.\n",
        "        p = seq_labeler.params\n",
        "        \n",
        "        self.bert = bert_model\n",
        "\n",
        "        hidden_size = self.bert.config.hidden_size\n",
        "        # Output unit.\n",
        "        self.top_layer = nn.Linear(hidden_size, seq_labeler.n_labels)\n",
        "                        \n",
        "    def forward(self, words):\n",
        "        # words is a tensor of integer-encoded words, with shape (batch_size, max_sen_length)\n",
        "                \n",
        "        x = self.bert(words)[0]\n",
        "        \n",
        "        # The shape of the output is (batch_size, max_sen_length, n_labels),\n",
        "        # where n_labels is the size of the output label vocabulary.\n",
        "        return self.top_layer(x)"
      ],
      "metadata": {
        "id": "AcuJwqq3pDoN"
      },
      "execution_count": null,
      "outputs": []
    },
    {
      "cell_type": "code",
      "source": [
        "model_name = 'distilbert-base-uncased'\n",
        "tokenizer = AutoTokenizer.from_pretrained(model_name)\n",
        "bert_model = AutoModel.from_pretrained(model_name)\n",
        "ner_system = ner_util.SequenceLabeler(BERTParameters(), BERTSequenceModel,\n",
        "                                      bert_tokenizer=tokenizer)\n",
        "ner_system.fit(Xtrain, Ytrain, Xval, Yval)"
      ],
      "metadata": {
        "colab": {
          "base_uri": "https://localhost:8080/",
          "height": 1000,
          "referenced_widgets": [
            "ac47def4f8df4cd8824187703be1bc56",
            "cb5c67bc764640b4a620abdea115cad8",
            "b62325876be04615ac113847a05a4e9a",
            "d70ff5ee66d24165b06e82c37cdb150e",
            "6e236122626b408ba63a1b7f80496168",
            "17393cb2a8964f758e24981cdb075c58",
            "95e61c410a8d415ea65e4bbfa2e102aa",
            "649c7ff8048e4b54ba47a7a4fc3258d5",
            "5f523014449f4bd08b12d44eb9a94881",
            "e748231e25a642ca8f60312cbc657b44",
            "1976de2cbb214d66ae05bad1cdbf1fc0",
            "a483bfb5d0c44a5b80e1dbb468a0288b",
            "71769eeaa3884f08859fd7f14b8e116e",
            "eb41b97461594665817f4017287d0604",
            "5406b872633f4ec3b2c38c40e3caabc3",
            "94833754de1a4b0eaf6d07724d81b1a1",
            "1a0461821d414a7ebb582c8c9c226e4c",
            "a393a75496684cd3a96d496ac7377bc0",
            "cd5b3818397542239451cf2eb08cb835",
            "108850e4cb6d402fb282c173eb862f69",
            "e150c6f5692045268e79796982a13a8e",
            "ce18ac5c1e164b69b6bef964a503429a",
            "5bb74a215f344107b9554ec57af984c8",
            "6016c7e1ae5745758cb79372266a57ac",
            "f6963d550ba249b4a82a44e5d950b367",
            "255c39ba99f440e090f856b5713f148e",
            "f2050261d02143aa9b9def0326ee809f",
            "4c4069154c254dc88b25352c1aef2570",
            "aba64669a0644507944bf64e30d4e279",
            "532936d8abd44abe8a5fd0cc5cbe4b54",
            "87255445266d4e8d898aa7de3bdb9134",
            "98a0cbf5dd904bdfaff5d44c38e8c3ed",
            "7834b2e997674b03a2760ed08a430acd",
            "e086c085922d464d95749d8815c3eb9a",
            "c784e5ea051c41e1a4a5f1eef4a2fa27",
            "b2a9fde79a3d48a38d75fbd92615dca1",
            "52ba6d65841049a2a6d9cba9844f948f",
            "4f4c6ff3c37345bda15e2424a8be1cfe",
            "08d9ec44d2c5407ca74f4484e9f27fe3",
            "f6e6b54be8914f1ea88c7482008a7df8",
            "4ad59c53cda0429c8bcfa8fcf0d1ebbd",
            "c9d46c50ab894f57a4a77eafb0d5d797",
            "b6aec911e41041ee995dae427ea60fa0",
            "cbf5e670586b44119fb8937b111d97cc",
            "304699a636f74718aecd8ace860fb57e",
            "dba57b5f54a74eb282a2f6f4db6874a0",
            "02bcba36deff42bcb8b02152f3c98abf",
            "6bec1d7f93f6485481d7fda09f9745d3",
            "e08840386d8047c699f668e46824e1f9",
            "aeb2ef4cead8458ab75f5b5398490728",
            "3771b17865014486afc885c882218344",
            "736aa6112ca94ff6896f0005ad28425b",
            "9c6d426d9c6d45e594a8a8aeedc57db1",
            "1d40354c16c44e2fa4574e40ab77bf96",
            "a6fb43497480438ebf6ef6af3e1709ac"
          ]
        },
        "id": "iks6ITtjwVsv",
        "outputId": "738e59d2-30e9-4b6f-9ba2-815a0697215f"
      },
      "execution_count": null,
      "outputs": [
        {
          "output_type": "display_data",
          "data": {
            "text/plain": [
              "Downloading:   0%|          | 0.00/28.0 [00:00<?, ?B/s]"
            ],
            "application/vnd.jupyter.widget-view+json": {
              "version_major": 2,
              "version_minor": 0,
              "model_id": "ac47def4f8df4cd8824187703be1bc56"
            }
          },
          "metadata": {}
        },
        {
          "output_type": "display_data",
          "data": {
            "text/plain": [
              "Downloading:   0%|          | 0.00/483 [00:00<?, ?B/s]"
            ],
            "application/vnd.jupyter.widget-view+json": {
              "version_major": 2,
              "version_minor": 0,
              "model_id": "a483bfb5d0c44a5b80e1dbb468a0288b"
            }
          },
          "metadata": {}
        },
        {
          "output_type": "display_data",
          "data": {
            "text/plain": [
              "Downloading:   0%|          | 0.00/232k [00:00<?, ?B/s]"
            ],
            "application/vnd.jupyter.widget-view+json": {
              "version_major": 2,
              "version_minor": 0,
              "model_id": "5bb74a215f344107b9554ec57af984c8"
            }
          },
          "metadata": {}
        },
        {
          "output_type": "display_data",
          "data": {
            "text/plain": [
              "Downloading:   0%|          | 0.00/466k [00:00<?, ?B/s]"
            ],
            "application/vnd.jupyter.widget-view+json": {
              "version_major": 2,
              "version_minor": 0,
              "model_id": "e086c085922d464d95749d8815c3eb9a"
            }
          },
          "metadata": {}
        },
        {
          "output_type": "display_data",
          "data": {
            "text/plain": [
              "Downloading:   0%|          | 0.00/268M [00:00<?, ?B/s]"
            ],
            "application/vnd.jupyter.widget-view+json": {
              "version_major": 2,
              "version_minor": 0,
              "model_id": "304699a636f74718aecd8ace860fb57e"
            }
          },
          "metadata": {}
        },
        {
          "output_type": "stream",
          "name": "stderr",
          "text": [
            "Some weights of the model checkpoint at distilbert-base-uncased were not used when initializing DistilBertModel: ['vocab_transform.bias', 'vocab_projector.bias', 'vocab_layer_norm.weight', 'vocab_layer_norm.bias', 'vocab_projector.weight', 'vocab_transform.weight']\n",
            "- This IS expected if you are initializing DistilBertModel from the checkpoint of a model trained on another task or with another architecture (e.g. initializing a BertForSequenceClassification model from a BertForPreTraining model).\n",
            "- This IS NOT expected if you are initializing DistilBertModel from the checkpoint of a model that you expect to be exactly identical (initializing a BertForSequenceClassification model from a BertForSequenceClassification model).\n"
          ]
        },
        {
          "output_type": "stream",
          "name": "stdout",
          "text": [
            ".................................................. (50)\n",
            ".................................................. (100)\n",
            "...........................................\n",
            ".................................................. (50)\n",
            ".................................................. (100)\n",
            "............................................\n",
            "Epoch 1: train loss = 0.5440, val f1: 0.6837, time = 49.2169\n",
            ".................................................. (50)\n",
            ".................................................. (100)\n",
            "...........................................\n",
            ".................................................. (50)\n",
            ".................................................. (100)\n",
            "............................................\n",
            "Epoch 2: train loss = 0.2447, val f1: 0.7440, time = 47.5394\n",
            ".................................................. (50)\n",
            ".................................................. (100)\n",
            "...........................................\n",
            ".................................................. (50)\n",
            ".................................................. (100)\n",
            "............................................\n",
            "Epoch 3: train loss = 0.2012, val f1: 0.7697, time = 48.1883\n",
            ".................................................. (50)\n",
            ".................................................. (100)\n",
            "...........................................\n",
            ".................................................. (50)\n",
            ".................................................. (100)\n",
            "............................................\n",
            "Epoch 4: train loss = 0.1739, val f1: 0.7788, time = 47.6368\n",
            ".................................................. (50)\n",
            ".................................................. (100)\n",
            "...........................................\n",
            ".................................................. (50)\n",
            ".................................................. (100)\n",
            "............................................\n",
            "Epoch 5: train loss = 0.1557, val f1: 0.8042, time = 48.4193\n",
            ".................................................. (50)\n",
            ".................................................. (100)\n",
            "...........................................\n",
            ".................................................. (50)\n",
            ".................................................. (100)\n",
            "............................................\n",
            "Epoch 6: train loss = 0.1496, val f1: 0.7992, time = 47.8798\n",
            ".................................................. (50)\n",
            ".................................................. (100)\n",
            "...........................................\n",
            ".................................................. (50)\n",
            ".................................................. (100)\n",
            "............................................\n",
            "Epoch 7: train loss = 0.1321, val f1: 0.8057, time = 47.9704\n",
            ".................................................. (50)\n",
            ".................................................. (100)\n",
            "...........................................\n",
            ".................................................. (50)\n",
            ".................................................. (100)\n",
            "............................................\n",
            "Epoch 8: train loss = 0.1272, val f1: 0.8128, time = 47.8572\n",
            ".................................................. (50)\n",
            ".................................................. (100)\n",
            "...........................................\n",
            ".................................................. (50)\n",
            ".................................................. (100)\n",
            "............................................\n",
            "Epoch 9: train loss = 0.1159, val f1: 0.8244, time = 48.4509\n",
            ".................................................. (50)\n",
            ".................................................. (100)\n",
            "...........................................\n",
            ".................................................. (50)\n",
            ".................................................. (100)\n",
            "............................................\n",
            "Epoch 10: train loss = 0.1052, val f1: 0.8163, time = 47.7485\n",
            "\n",
            "Final evaluation on the validation set:\n",
            "Overall: P = 0.7869, R = 0.8480, F1 = 0.8163\n",
            "Chemical: P = 0.8818, R = 0.8866, F1 = 0.8842\n",
            "Disease: P = 0.6842, R = 0.7996, F1 = 0.7374\n"
          ]
        },
        {
          "output_type": "execute_result",
          "data": {
            "text/plain": [
              "0.8243690525444768"
            ]
          },
          "metadata": {},
          "execution_count": 14
        }
      ]
    },
    {
      "cell_type": "code",
      "source": [
        "import matplotlib.pyplot as plt\n",
        "\n",
        "%config InlineBackend.figure_format = 'retina' \n",
        "plt.style.use('seaborn')\n",
        "\n",
        "fig, ax = plt.subplots(1, 2, figsize=(2*6,1*6))\n",
        "ax[0].plot(ner_system_bert.history['train_loss']);\n",
        "ax[0].set_title('Training loss')\n",
        "ax[1].plot(ner_system_bert.history['val_f1']);\n",
        "ax[1].set_title('Validation F-score')\n",
        "plt.show()"
      ],
      "metadata": {
        "colab": {
          "base_uri": "https://localhost:8080/",
          "height": 388
        },
        "id": "M8QVF_acJRAb",
        "outputId": "a134497b-e653-4cc7-cef8-8d5b85169f95"
      },
      "execution_count": null,
      "outputs": [
        {
          "output_type": "display_data",
          "data": {
            "text/plain": [
              "<Figure size 864x432 with 2 Axes>"
            ],
            "image/png": "[encoded data removed]"
          },
          "metadata": {
            "image/png": {
              "width": 704,
              "height": 371
            }
          }
        }
      ]
    },
    {
      "cell_type": "code",
      "source": [
        "ner_system_bert.predict(['The patient suffered from bubonic plague and COVID-19 .'.split()])"
      ],
      "metadata": {
        "colab": {
          "base_uri": "https://localhost:8080/"
        },
        "id": "0hy_9eMzJRAd",
        "outputId": "2764d053-84a0-4918-da53-c57cffee9dca"
      },
      "execution_count": null,
      "outputs": [
        {
          "output_type": "execute_result",
          "data": {
            "text/plain": [
              "[['O',\n",
              "  'O',\n",
              "  'O',\n",
              "  'O',\n",
              "  'B-Disease',\n",
              "  'I-Disease',\n",
              "  'I-Disease',\n",
              "  'I-Disease',\n",
              "  'O',\n",
              "  'B-Disease',\n",
              "  'O',\n",
              "  'O',\n",
              "  'O',\n",
              "  'O',\n",
              "  'O']]"
            ]
          },
          "metadata": {},
          "execution_count": 20
        }
      ]
    },
    {
      "cell_type": "code",
      "source": [
        "ner_util.show_entities(ner_system_bert, ['The patient suffered from bubonic plague and COVID-19 .'.split()])"
      ],
      "metadata": {
        "colab": {
          "base_uri": "https://localhost:8080/",
          "height": 53
        },
        "id": "debbwQ2eJRAf",
        "outputId": "d40edfcd-0173-47d8-8eec-0f5930b66896"
      },
      "execution_count": null,
      "outputs": [
        {
          "output_type": "display_data",
          "data": {
            "text/plain": [
              "<IPython.core.display.HTML object>"
            ],
            "text/html": [
              "<div style=\"font-size:150%; line-height: 150%;\"><div> The patient suffered from <b style=\"background-color: #ff3333; color: white; border-radius: 3px; padding: 3px;\"><sup style=font-size:small;><tt>Disease</tt></sup> b ##ub ##onic plague</b> and <b style=\"background-color: #ff3333; color: white; border-radius: 3px; padding: 3px;\"><sup style=font-size:small;><tt>Disease</tt></sup> CO</b> ##VI ##D - 19 .</div></div>"
            ]
          },
          "metadata": {}
        }
      ]
    },
    {
      "cell_type": "markdown",
      "source": [
        "### A domain-specific BERT model"
      ],
      "metadata": {
        "id": "dGENEGVLJT6a"
      }
    },
    {
      "cell_type": "code",
      "source": [
        "model_name = 'dmis-lab/biobert-v1.1'\n",
        "tokenizer = AutoTokenizer.from_pretrained(model_name)\n",
        "bert_model = AutoModel.from_pretrained(model_name)\n",
        "ner_system_bio = ner_util.SequenceLabeler(BERTParameters(), BERTSequenceModel,\n",
        "                                      bert_tokenizer=tokenizer)\n",
        "ner_system_bio.fit(Xtrain, Ytrain, Xval, Yval)"
      ],
      "metadata": {
        "colab": {
          "base_uri": "https://localhost:8080/"
        },
        "id": "1W_9stdbEuJ8",
        "outputId": "61e2b6ef-c09a-4f00-96da-750d231b2dba"
      },
      "execution_count": null,
      "outputs": [
        {
          "output_type": "stream",
          "name": "stdout",
          "text": [
            ".................................................. (50)\n",
            ".................................................. (100)\n",
            "...........................................\n",
            ".................................................. (50)\n",
            ".................................................. (100)\n",
            "............................................\n",
            "Epoch 1: train loss = 0.6881, val f1: 0.7457, time = 93.6903\n",
            ".................................................. (50)\n",
            ".................................................. (100)\n",
            "...........................................\n",
            ".................................................. (50)\n",
            ".................................................. (100)\n",
            "............................................\n",
            "Epoch 2: train loss = 0.2295, val f1: 0.8065, time = 94.1224\n",
            ".................................................. (50)\n",
            ".................................................. (100)\n",
            "...........................................\n",
            ".................................................. (50)\n",
            ".................................................. (100)\n",
            "............................................\n",
            "Epoch 3: train loss = 0.1767, val f1: 0.8376, time = 93.4919\n",
            ".................................................. (50)\n",
            ".................................................. (100)\n",
            "...........................................\n",
            ".................................................. (50)\n",
            ".................................................. (100)\n",
            "............................................\n",
            "Epoch 4: train loss = 0.1496, val f1: 0.8461, time = 93.4112\n",
            ".................................................. (50)\n",
            ".................................................. (100)\n",
            "...........................................\n",
            ".................................................. (50)\n",
            ".................................................. (100)\n",
            "............................................\n",
            "Epoch 5: train loss = 0.1334, val f1: 0.8581, time = 94.3464\n",
            ".................................................. (50)\n",
            ".................................................. (100)\n",
            "...........................................\n",
            ".................................................. (50)\n",
            ".................................................. (100)\n",
            "............................................\n",
            "Epoch 6: train loss = 0.1204, val f1: 0.8600, time = 93.6235\n",
            ".................................................. (50)\n",
            ".................................................. (100)\n",
            "...........................................\n",
            ".................................................. (50)\n",
            ".................................................. (100)\n",
            "............................................\n",
            "Epoch 7: train loss = 0.1126, val f1: 0.8654, time = 94.0832\n",
            ".................................................. (50)\n",
            ".................................................. (100)\n",
            "...........................................\n",
            ".................................................. (50)\n",
            ".................................................. (100)\n",
            "............................................\n",
            "Epoch 8: train loss = 0.1044, val f1: 0.8702, time = 93.9069\n",
            ".................................................. (50)\n",
            ".................................................. (100)\n",
            "...........................................\n",
            ".................................................. (50)\n",
            ".................................................. (100)\n",
            "............................................\n",
            "Epoch 9: train loss = 0.0962, val f1: 0.8724, time = 94.9918\n",
            ".................................................. (50)\n",
            ".................................................. (100)\n",
            "...........................................\n",
            ".................................................. (50)\n",
            ".................................................. (100)\n",
            "............................................\n",
            "Epoch 10: train loss = 0.0938, val f1: 0.8786, time = 93.1141\n",
            "\n",
            "Final evaluation on the validation set:\n",
            "Overall: P = 0.8605, R = 0.8975, F1 = 0.8786\n",
            "Chemical: P = 0.9143, R = 0.9492, F1 = 0.9314\n",
            "Disease: P = 0.7936, R = 0.8325, F1 = 0.8126\n"
          ]
        },
        {
          "output_type": "execute_result",
          "data": {
            "text/plain": [
              "0.8786375492251828"
            ]
          },
          "metadata": {},
          "execution_count": 26
        }
      ]
    },
    {
      "cell_type": "code",
      "source": [
        "import matplotlib.pyplot as plt\n",
        "\n",
        "%config InlineBackend.figure_format = 'retina' \n",
        "plt.style.use('seaborn')\n",
        "\n",
        "fig, ax = plt.subplots(1, 2, figsize=(2*6,1*6))\n",
        "ax[0].plot(ner_system_bio.history['train_loss']);\n",
        "ax[0].set_title('Training loss')\n",
        "ax[1].plot(ner_system_bio.history['val_f1']);\n",
        "ax[1].set_title('Validation F-score')\n",
        "plt.show()"
      ],
      "metadata": {
        "colab": {
          "base_uri": "https://localhost:8080/",
          "height": 388
        },
        "id": "yuLjmrTyLjEI",
        "outputId": "9e08ca09-522d-4c72-e617-835682930928"
      },
      "execution_count": null,
      "outputs": [
        {
          "output_type": "display_data",
          "data": {
            "text/plain": [
              "<Figure size 864x432 with 2 Axes>"
            ],
            "image/png": "[encoded data removed]"
          },
          "metadata": {
            "image/png": {
              "width": 704,
              "height": 371
            }
          }
        }
      ]
    },
    {
      "cell_type": "code",
      "source": [
        "ner_system_bio.predict(['The patient suffered from bubonic plague and COVID-19 .'.split()])"
      ],
      "metadata": {
        "colab": {
          "base_uri": "https://localhost:8080/"
        },
        "outputId": "fdee595f-4f29-45c5-a6dd-e243c22b5047",
        "id": "lwagVxBhHn6F"
      },
      "execution_count": null,
      "outputs": [
        {
          "output_type": "execute_result",
          "data": {
            "text/plain": [
              "[['O',\n",
              "  'O',\n",
              "  'O',\n",
              "  'O',\n",
              "  'B-Disease',\n",
              "  'I-Disease',\n",
              "  'I-Disease',\n",
              "  'I-Disease',\n",
              "  'O',\n",
              "  'O',\n",
              "  'O',\n",
              "  'O',\n",
              "  'O',\n",
              "  'O',\n",
              "  'O']]"
            ]
          },
          "metadata": {},
          "execution_count": 28
        }
      ]
    },
    {
      "cell_type": "code",
      "source": [
        "ner_util.show_entities(ner_system_bio, ['The patient suffered from bubonic plague and COVID-19 .'.split()])"
      ],
      "metadata": {
        "colab": {
          "base_uri": "https://localhost:8080/",
          "height": 53
        },
        "outputId": "2a09624c-f679-4779-9419-f85b93514e41",
        "id": "LOxja4LxHn6H"
      },
      "execution_count": null,
      "outputs": [
        {
          "output_type": "display_data",
          "data": {
            "text/plain": [
              "<IPython.core.display.HTML object>"
            ],
            "text/html": [
              "<div style=\"font-size:150%; line-height: 150%;\"><div> The patient suffered from <b style=\"background-color: #ff3333; color: white; border-radius: 3px; padding: 3px;\"><sup style=font-size:small;><tt>Disease</tt></sup> b ##ub ##onic plague</b> and CO ##VI ##D - 19 .</div></div>"
            ]
          },
          "metadata": {}
        }
      ]
    },
    {
      "cell_type": "markdown",
      "source": [
        "### Comparison\n",
        "\n",
        ">  Compare the result to what you got when using the standard BERT model. "
      ],
      "metadata": {
        "id": "X8XbnvPzv0pw"
      }
    },
    {
      "cell_type": "markdown",
      "source": [
        "As we can see in the results above and in the Table below, we can see a significant difference between a BERT model trained \"from scratch\" and a domain-specific one.\n",
        "In our experiments, we see a difference in F1 score of around 5.4% points.\n",
        "\n",
        "| Model | F1 Score |\n",
        "| --- | --- |\n",
        "| bert | 0.8244 |\n",
        "| bio | 0.8786 |"
      ],
      "metadata": {
        "id": "PR8vkrr3jrVU"
      }
    },
    {
      "cell_type": "markdown",
      "source": [
        "# Conclusions\n",
        "\n",
        ">  Run the biomedical entity recognizer interactively on some test sentences. What are your impressions? "
      ],
      "metadata": {
        "id": "ZKExz-eiv3vh"
      }
    },
    {
      "cell_type": "code",
      "source": [
        "ner_util.show_entities(ner_system_bio, ['The doctor prescribed an aspirin to be taken against the headache.'.split()])"
      ],
      "metadata": {
        "id": "57ROl4RNHnrT",
        "colab": {
          "base_uri": "https://localhost:8080/",
          "height": 53
        },
        "outputId": "852c62da-5615-4881-daa3-444758b26947"
      },
      "execution_count": null,
      "outputs": [
        {
          "output_type": "display_data",
          "data": {
            "text/plain": [
              "<IPython.core.display.HTML object>"
            ],
            "text/html": [
              "<div style=\"font-size:150%; line-height: 150%;\"><div> The doctor prescribed an <b style=\"background-color: #44bbff; color: white; border-radius: 3px; padding: 3px;\"><sup style=font-size:small;><tt>Chemical</tt></sup> as ##pi ##rin</b> to be taken against the <b style=\"background-color: #ff3333; color: white; border-radius: 3px; padding: 3px;\"><sup style=font-size:small;><tt>Disease</tt></sup> headache</b> .</div></div>"
            ]
          },
          "metadata": {}
        }
      ]
    },
    {
      "cell_type": "code",
      "source": [
        "ner_util.show_entities(ner_system_bio, ['COVID-19 cannot be fought with Aciclovir.'.split()])"
      ],
      "metadata": {
        "colab": {
          "base_uri": "https://localhost:8080/",
          "height": 53
        },
        "id": "7rWjtoTXxZkk",
        "outputId": "63853342-c342-441d-cb3d-ee2f6d1d62c7"
      },
      "execution_count": null,
      "outputs": [
        {
          "output_type": "display_data",
          "data": {
            "text/plain": [
              "<IPython.core.display.HTML object>"
            ],
            "text/html": [
              "<div style=\"font-size:150%; line-height: 150%;\"><div> CO ##VI ##D - 19 cannot be fought with <b style=\"background-color: #44bbff; color: white; border-radius: 3px; padding: 3px;\"><sup style=font-size:small;><tt>Chemical</tt></sup> A ##ci ##c ##lov ##ir</b> .</div></div>"
            ]
          },
          "metadata": {}
        }
      ]
    },
    {
      "cell_type": "code",
      "source": [
        "ner_util.show_entities(ner_system_bio, ['COVID-19 cannot be fought with Beclometasone inhalers.'.split()])"
      ],
      "metadata": {
        "colab": {
          "base_uri": "https://localhost:8080/",
          "height": 53
        },
        "id": "cMHMvP_N1gHX",
        "outputId": "cbb1c623-5790-42ba-a667-dbc56a63243c"
      },
      "execution_count": null,
      "outputs": [
        {
          "output_type": "display_data",
          "data": {
            "text/plain": [
              "<IPython.core.display.HTML object>"
            ],
            "text/html": [
              "<div style=\"font-size:150%; line-height: 150%;\"><div> CO ##VI ##D - 19 cannot be fought with <b style=\"background-color: #44bbff; color: white; border-radius: 3px; padding: 3px;\"><sup style=font-size:small;><tt>Chemical</tt></sup> Be ##c ##lo ##met ##as ##one</b> in ##hale ##rs .</div></div>"
            ]
          },
          "metadata": {}
        }
      ]
    },
    {
      "cell_type": "markdown",
      "source": [
        "The model is really impressive, and able to recognize most of the deseases and drugs. However, it seems unable to recognize more recent deseases like COVID-19, even when it appears in a sentence using words like \"fought\" and a recognized drug. Sorprizingly, the context is still not enough for the model to correctly label the \"COVID-19\" tokens."
      ],
      "metadata": {
        "id": "Jz5VP501gaqZ"
      }
    }
  ]
}