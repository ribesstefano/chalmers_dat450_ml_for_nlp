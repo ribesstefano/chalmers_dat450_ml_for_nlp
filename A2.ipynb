{
  "nbformat": 4,
  "nbformat_minor": 0,
  "metadata": {
    "colab": {
      "provenance": [],
      "collapsed_sections": [],
      "authorship_tag": "ABX9TyOBpcqfnsoKwnLENSp10gx4",
      "include_colab_link": true
    },
    "kernelspec": {
      "name": "python3",
      "display_name": "Python 3"
    },
    "language_info": {
      "name": "python"
    }
  },
  "cells": [
    {
      "cell_type": "markdown",
      "metadata": {
        "id": "view-in-github",
        "colab_type": "text"
      },
      "source": [
        "<a href=\"https://colab.research.google.com/github/ribesstefano/chalmers_dat450_ml_for_nlp/blob/main/A2.ipynb\" target=\"_parent\"><img src=\"https://colab.research.google.com/assets/colab-badge.svg\" alt=\"Open In Colab\"/></a>"
      ]
    },
    {
      "cell_type": "markdown",
      "source": [
        "This notebook could be found at this link: https://colab.research.google.com/drive/1f2nRQyfELRy0H8q0i5dFrVinJeuiTvz9?usp=sharing\n",
        "\n",
        "Group N - Authors:\n",
        "\n",
        "* Stefano Ribes\n",
        "* -\n",
        "* -"
      ],
      "metadata": {
        "id": "Z92Kf5zRdAlA"
      }
    },
    {
      "cell_type": "markdown",
      "source": [
        "# Assignment 2: Topic Modeling"
      ],
      "metadata": {
        "id": "lbTppIpgdTuc"
      }
    },
    {
      "cell_type": "markdown",
      "source": [
        "## Setup and Imports"
      ],
      "metadata": {
        "id": "G8Os8hyYdZF4"
      }
    },
    {
      "cell_type": "code",
      "execution_count": 1,
      "metadata": {
        "colab": {
          "base_uri": "https://localhost:8080/"
        },
        "id": "X6x-MnPJpJGJ",
        "outputId": "cb1c8edb-7439-464e-8fdf-a93d9d479619"
      },
      "outputs": [
        {
          "output_type": "stream",
          "name": "stderr",
          "text": [
            "[nltk_data] Downloading package stopwords to /root/nltk_data...\n",
            "[nltk_data]   Unzipping corpora/stopwords.zip.\n",
            "[nltk_data] Downloading package punkt to /root/nltk_data...\n",
            "[nltk_data]   Unzipping tokenizers/punkt.zip.\n",
            "[nltk_data] Downloading package reuters to /root/nltk_data...\n",
            "[nltk_data] Downloading package brown to /root/nltk_data...\n",
            "[nltk_data]   Unzipping corpora/brown.zip.\n"
          ]
        }
      ],
      "source": [
        "import numpy as np\n",
        "import pandas as pd\n",
        "import nltk\n",
        "\n",
        "nltk.download('stopwords')\n",
        "nltk.download('punkt')\n",
        "nltk.download('reuters')\n",
        "nltk.download('brown')\n",
        "from nltk.corpus import reuters, brown, stopwords\n",
        "from nltk.tokenize import word_tokenize\n",
        "from collections import Counter\n",
        "from tqdm import tqdm\n",
        "from sklearn.preprocessing import LabelEncoder # optional\n",
        "from scipy.special import gammaln\n",
        "\n",
        "import spacy\n",
        "nlp = spacy.load(\"en_core_web_sm\")\n",
        "\n",
        "le = LabelEncoder()"
      ]
    },
    {
      "cell_type": "markdown",
      "source": [
        "## Corpus Download and Cleaning"
      ],
      "metadata": {
        "id": "EceHbBh5db4V"
      }
    },
    {
      "cell_type": "code",
      "source": [
        "def tokenize(text, lowercase=True):\n",
        "    if lowercase:\n",
        "        return [t.text.lower() for t in nlp.tokenizer(text)]\n",
        "    else:\n",
        "        return [t.text for t in nlp.tokenizer(text)]"
      ],
      "metadata": {
        "id": "ZSL53JjeJUm0"
      },
      "execution_count": 2,
      "outputs": []
    },
    {
      "cell_type": "code",
      "source": [
        "def build_raw_df(corpus, n_files: int) -> pd.DataFrame:\n",
        "    \"\"\"Read raw text from corpus files and store in pandas DataFrame\"\"\"\n",
        "    raw_text = []\n",
        "    for file_id in corpus.fileids()[0:n_files]:\n",
        "        raw_text.append(corpus.raw(file_id))\n",
        "    return pd.DataFrame(raw_text, columns=['text'])\n",
        "\n",
        "\n",
        "def process_corpus(df: pd.DataFrame, stop_words: set) -> list:\n",
        "    \"\"\"Remove capitalizations and stop-words from raw_df, store in long-format DataFrame\"\"\"\n",
        "    token_doc_tups = []\n",
        "    for document in df.text:\n",
        "        tokens = tokenize(document.lower())\n",
        "        tokens_clean = [t.lower() for t in tokens if t.lower() not in stop_words and t.isalpha()]\n",
        "        token_doc_tups.append(tokens_clean)\n",
        "    return token_doc_tups"
      ],
      "metadata": {
        "id": "GF47-5SOpTOt"
      },
      "execution_count": 3,
      "outputs": []
    },
    {
      "cell_type": "code",
      "source": [
        "# Load nltk stop-words\n",
        "stop_words = set(stopwords.words('english'))\n",
        "# Gen df with raw corpus\n",
        "df_raw = build_raw_df(reuters, n_files=4000)\n",
        "# df_raw = build_raw_df(brown, n_files=1000)\n",
        "# Loop corpus to find uncommon words (less than 10 occurances)\n",
        "corpus_freqs = Counter(t.lower() for x in df_raw['text'] for t in tokenize(x) if t.isalpha())\n",
        "uncommon = set([word for (word, freq) in corpus_freqs.items() if freq < 10])\n",
        "# Update stop_words to include uncommon words\n",
        "stop_words.update(uncommon)\n",
        "# Get list of documents\n",
        "cleaned_corpus = process_corpus(df_raw, stop_words)\n",
        "max_documents = 8000\n",
        "cleaned_corpus = cleaned_corpus[:max_documents]\n",
        "\n",
        "n_words = 0\n",
        "for document in cleaned_corpus:\n",
        "    n_words += len(document)\n",
        "print(f'Number of words in (tokenized) corpus: {n_words}')"
      ],
      "metadata": {
        "colab": {
          "base_uri": "https://localhost:8080/"
        },
        "id": "XDl7r1p_pVfs",
        "outputId": "00a6fc5b-9621-4160-c1d7-d304b0893b80"
      },
      "execution_count": 31,
      "outputs": [
        {
          "output_type": "stream",
          "name": "stdout",
          "text": [
            "Number of words in (tokenized) corpus: 274494\n"
          ]
        }
      ]
    },
    {
      "cell_type": "code",
      "source": [
        "for i in range(32):\n",
        "    print(f'Document n.{i}: {\" \".join(word for word in cleaned_corpus[i])}')"
      ],
      "metadata": {
        "colab": {
          "base_uri": "https://localhost:8080/"
        },
        "id": "46zl5mKRpzLi",
        "outputId": "1fc16a15-45cf-4806-9394-4c7898a803db"
      },
      "execution_count": 69,
      "outputs": [
        {
          "output_type": "stream",
          "name": "stdout",
          "text": [
            "Document n.0: asian exporters fear damage mounting trade friction japan raised fears among many asia exporting nations row could far reaching economic damage businessmen officials said told reuter asian move japan might boost protectionist sentiment lead curbs american imports products exporters said conflict would hurt long run short term tokyo loss might gain said impose mln dlrs tariffs imports japanese electronics goods april retaliation japan alleged failure pact sell semiconductors world markets cost japanese estimates put impact tariffs billion dlrs major electronics firms said would virtually halt exports products hit new taxes would able business said spokesman leading japanese electronics firm electric industrial co ltd tariffs remain place time beyond months mean complete exports goods subject tariffs said stock analyst tokyo office broker co taiwan businessmen officials also worried aware threat japan serves warning us said senior trade official asked named taiwan trade trade surplus billion dlrs last year pct surplus helped taiwan foreign exchange reserves billion dlrs among world largest must quickly open markets remove trade barriers cut import tariffs allow imports products want problems possible retaliation said paul chairman textile exporters group senior official south korea trade promotion association said trade dispute japan might also lead pressure south korea whose chief exports similar japan last year south korea trade surplus billion dlrs billion dlrs malaysia trade officers businessmen said tough curbs japan might allow hard hit producers semiconductors third countries expand sales hong kong newspapers alleged japan selling cost semiconductors electronics manufacturers share view businessmen said short term commercial advantage would pressure block imports short term view said mills director general federation hong kong industry whole purpose prevent imports one day extended sources much serious hong kong action trade said last year hong kong biggest export market accounting pct domestically produced exports australian government awaiting outcome trade talks japan interest concern industry minister john said last friday kind deterioration trade relations two countries major trading partners serious matter said said australia concerns coal beef australia two largest exports japan also significant exports country meanwhile diplomatic solve trade stand continue japan ruling liberal democratic party yesterday outlined package economic measures boost japanese economy measures proposed include large budget record public works spending first half financial year also call spending emergency measure stimulate economy despite prime minister yasuhiro nakasone fiscal reform program deputy trade representative michael smith japan deputy minister international trade industry miti due meet washington week effort end dispute\n",
            "Document n.1: china daily says pct grain stocks survey seven showed seven pct china grain stocks china daily said also said year mln tonnes pct china output left mln tonnes pct paper blamed waste inadequate storage bad methods said government launched national programme reduce waste calling improved technology storage greater production paper gave details\n",
            "Document n.2: japan revise long term energy demand ministry international trade industry miti revise long term energy supply demand outlook august meet forecast japanese energy demand ministry officials said miti expected lower primary energy supplies year mln mln said decision follows structural changes japanese industry following rise value yen decline domestic electric power demand miti planning work revised energy supply demand outlook committee meetings agency natural resources energy officials said said miti also review breakdown energy supply sources including oil nuclear coal natural gas nuclear energy provided bulk japan electric power fiscal year ended march estimated pct hour basis followed oil pct natural gas pct noted\n",
            "Document n.3: thai trade deficit first quarter thailand trade deficit widened billion first quarter billion year ago business economics department said said march imports rose billion billion thailand improved business climate year resulted pct increase imports raw materials semi finished products country oil import bill however fell pct first quarter due lower oil prices department said first quarter exports expanded billion billion export growth smaller expected due lower earnings many key commodities including rice whose earnings declined pct maize pct sugar pct tin pct seven pct products high export growth pct pct rubber pct\n",
            "Document n.4: indonesia sees price rising sharply indonesia expects crude palm oil prices rise sharply dlrs tonne fob year better european demand fall malaysian output minister crops told indonesian reporters prices malaysian around dlrs tonne cif delivery rotterdam traders said said indonesia would maintain exports despite making recent palm oil purchases malaysia could possibly increase international market share indonesia world second largest producer palm oil malaysia forced import palm oil ensure supplies month said better import cover temporary shortage lose export markets indonesian exports calendar tonnes according central bank figures\n",
            "Document n.5: australian foreign ship ban ends nsw ports hit new south nsw western australia yesterday lifted ban foreign flag ships carrying nsw ports still separate dispute shipping sources said ban imposed week ago pay claim movement port nearly vessels said pay dispute went hearing commission today meanwhile began today cargo handling ports sydney port said industrial action nsw ports part week action called nsw trades labour council protest changes state workers compensation laws shipping sources said various port unions appear taking turn work short time start shift cargo handling ports container movements affected stopped said said could say long go effect shipping movements\n",
            "Document n.6: indonesian commodity exchange may expand indonesian commodity exchange likely start trading least one new commodity possibly two calendar exchange chairman said told reuters telephone interview trading palm oil tobacco considered trading either crude palm oil refined palm oil may also introduced said question still considered trade minister decision go ahead made exchange currently trades coffee rubber open system four days week several factors make us move said want move slowly make confidence exchange physical rubber trading launched coffee added january rubber contracts traded fob five months forward coffee grades four five traded delivery five months forward exchange officials said trade ministry exchange board considering introduction futures trading later rubber one official said feasibility study needed first decisions likely indonesia elections april traders said trade minister said monday indonesia world second largest producer natural rubber expand rubber marketing effort hoped development exchange would help said exchange trying boost overseas interest building contacts end users said already south korea taiwan encourage direct use exchange delegation would also visit europe mexico latin american states encourage participation officials say exchange made good start although trading coffee transactions rubber start trading april december totalled tonnes worth mln dlrs fob plus mln rubber delivered latest exchange report said trading coffee calendar amounted tonnes valued billion total membership exchange nine brokers traders\n",
            "Document n.7: sri lanka gets usda approval wheat price food department officials said department agriculture approved continental grain co sale tonnes soft wheat dlrs tonne c f pacific northwest colombo said shipment april delivery\n",
            "Document n.8: western mining open new gold mine australia western mining corp holdings ltd said establish new joint venture gold mine northern cost mln dlrs mine known project owned pct pct local grace co unit located east river mt said statement said open mine treatment plant expected produce ounces gold first year production annual ore capacity tonnes\n",
            "Document n.9: sumitomo bank aims quick recovery merger sumitomo bank ltd certain lose status japan profitable bank result merger bank financial analysts said based sumitomo around yen merged small bank estimated billion dlrs loans october despite link sumitomo president told reuters confident bank quickly position back position first place within three years said interview said merger initially reduce sumitomo profitability efficiency expand sumitomo branch network tokyo metropolitan area relatively weak financial analysts divided whether quickly pay said sumitomo may paid much view smaller bank large debts others merger cost effective comparable branch network analysts agreed bank aggressive expanded overseas entered securities business domestic competition questioned moves made moves put place largely hands said kleinwort ltd financial analyst simon among sumitomo problems limits placed move enter securities business taking share american investment bank sachs sumitomo last august agreed pay mln dlrs pct limited partnership bank time least federal reserve board exchange personnel increase business widely fed sumitomo expected said one analyst said move pay time regulations change near future various things wait two three years century said also willing possible securities business home article securities exchange act japan glass act commercial investment banking two said hopes deregulation create new opportunities need find new business chances said cases securities related cases trust bank related kind deregulation want changes occur sumitomo focus domestic securities business profitable government bond dealing strengthening relations securities co ltd holds five pct share said said sumitomo optimistic entering securities business swiss universal bank subsidiary del finance ministry expected grant licences securities subsidiaries commercial banks soon following similar decision subsidiaries european universal banks parent holds less pct reluctant push hard similar decision subsidiary want make expect allowed two three years said like city banks sumitomo also pushing expand lending small medium businesses replace demand big business added analysts said sumitomo lot time recent including merger sumitomo said kleinwort question around next decade see strategy right\n",
            "Document n.10: subroto says indonesia supports tin pact extension mines energy minister subroto confirmed indonesian support extension sixth international tin agreement said new pact necessary asked reuters statement monday said pact allowed subroto said indonesia ready back extension support extension sixth agreement said accord believe sixth expire end june unless two thirds majority members vote extension\n",
            "Document n.11: bundesbank billion marks tender bundesbank accepted bids billion marks today tender day securities repurchase pact fixed rate pct central bank spokesman said banks bid total billion marks liquidity funds allocated today must buy back securities pledged may billion marks drain market today earlier pact expires bundesbank effectively net billion marks market today allocation bundesbank spokesman said withdrawal funds reflect tightening credit policy seen liquidity banking system banks held average billion marks bundesbank first six days month well clear likely april minimum reserve requirement billion marks bundesbank spokesman noted bidding billion marks billion banks shown felt liquidity dealers said bundesbank prevent much liquidity market would security repurchase agreement main open market instrument market interest rates two pacts likely month next two weeks bundesbank currently call money pct although short term fluctuations outside range possible dealers said\n",
            "Document n.12: bond corp still considering atlas mining bond corp holdings ltd atlas consolidated mining development corp still holding talks package mining firm atlas statement said atlas philippines biggest copper producer said hit depressed world copper prices reported net loss mln pesos year ending december compared net loss billion company said able cut losses copper operations central island started second half atlas said negotiations continuing acquisition bond company existing bank loans restructuring gold loan understanding signed two sides october last year said bond would acquire atlas total loans mln dlrs mining company gold atlas said two sides also equity atlas development fund exploration development company gold properties central province wilson banks general manager corp international ltd hong kong told reuters atlas statement negotiations banks said bond corp seriously considering several investments philippines give details statement atlas said development pre world war two mines ore tonnage increased extending operation life least\n",
            "Document n.13: china industrial output rises first quarter china industrial output rose pct first quarter period people daily said overseas said growth rate compares target seven pct whole rather high base first quarter low side industrial output grew pct first quarter said china industrial production year normal product quality efficiency need improvement gave details\n",
            "Document n.14: japan ministry says open farm trade would hit japan agriculture ministry angered demands japan open farm products market tell officials talks later month liberalisation would harm existing farm exports japan senior ministry official said imports would drop due active sales suppliers official declined named said japan largest customer farm products reasonable demand japan farm import market said agriculture minister kato said japan open protected rice market also open wheat market volume origin protect local farmers australia canada could increase wheat exports competitive said end users would also buy origins grain traders said agriculture secretary richard lyng due visit japan talks april said ask japan offer share rice market suppliers remove quotas beef citrus imports countries already cutting market share australia largest beef supplier japan trying boost exports prior four year beef accord next march imports corn fallen due increased sales china south america japanese soybean imports brazil expected rise sharply year although remain largest supplier sales also drop japan opens beef imports since japan depends almost entirely imports mainly japanese officials said indication position came last december secretary agriculture daniel said japan potential provide one largest agricultural exports beef market alone representing one billion dlrs new business also asked general agreement tariffs trade japanese import controls farm products including juice prepared beef products beans help calm trade relations japan top business group urged government remove import restrictions agricultural products agriculture minister kato ruled reaction senior ministry official said farm issue become trade pressure industrial sector japan largest buyer farm products issues discussed official said\n",
            "Document n.15: two five bonus share issue ltd said make two five bonus issue revaluation reserve shareholders registered may shareholders asked approve issue increase authorised capital mln shares mln general meeting may said statement new shares rank dividends declared october industries plc holds pct stake said expect maintain latest annual dividend rate cents share capital\n",
            "Document n.16: pretax profits rise mln stg shr vs div vs making vs turnover billion stg vs billion pretax profit mln vs mln tax mln vs mln company name industries plc trading profit mln vs mln trading profit includes associated products mln vs mln services mln vs mln products mln vs mln interest debit mln vs mln minority interests mln debit vs mln debit extraordinary items mln credit vs mln debit\n",
            "Document n.17: money market deficit forecast mln stg bank england said forecast shortage around mln stg money market today among main factors affecting liquidity bills maturing official hands take treasury bills drain mln stg bills repurchase market remove around mln addition rise note circulation bankers balances target drain around mln stg partly exchequer transactions add mln stg system today\n",
            "Document n.18: south korea moves slow growth trade surplus south korea trade surplus growing fast government started taking steps slow deputy prime minister kim said told press conference government planned increase investment speed opening local market foreign imports gradually currency hold surplus level said government would allow much short period time south korea pressure washington wants south korea cut trade surplus rose billion dlrs billion dlrs kim also economic planning minister said prospects south korean economy government would try hold current account surplus around five billion dlrs year next five years government projections eight pct gnp growth five billion dlrs current account surplus pct growth exports seemed reasonable early year surplus growing faster expected said trade ministry officials said south korea exports rose pct billion dlrs first three months year imports rose pct billion dlrs kim said south korea current account surplus billion dlrs mln dlr deficit significant surplus country reduce foreign debt last year first time south korea foreign debt fell billion dlrs billion still among largest asia huge amount foreign debt one major development last year major turning point korean economy kim said kim said government reduce ratio foreign debt country gnp pct pct government however want reducing debt making excessive trade surplus said kim said rise surplus would cause inflation lead trade friction seoul major trading partners particularly united states need surplus reduce debt taking measures hold size surplus level kim said\n",
            "Document n.19: study production plant finland national oil company said statement agreed canadian firms study feasibility building plant edmonton canada produce lead petrol prospective plant would cost estimated mln canadian dlrs would produce raw materials available said partners study canada inc corporation trade pipe line company ltd vancouver edmonton site suitable raw materials pipeline transportation important capital operating gained existing canada site statement said partners would look feasibility plant producing tonnes per octane replace lead would targeted united states lead levels gasoline lowered health concerns statement added canadian lead limits currently times high limit lead scheduled elimination canada create canadian demand said finland whose turnover last year five billion dlrs extensive experience major investment plant saudi arabia edmonton alberta plant would scheduled go late statement said\n",
            "Document n.20: sold gold mln dlrs consolidated said consortium leading pay mln dlrs acquisition ltd gold pty ltd unit reported yesterday disclose price yesterday hold pct consortium resources hold pct mining pct said statement reported gold owns two mines western australia producing combined ounces gold year also owns gold project\n",
            "Document n.21: german industrial employment seen number workers west german industrial sector last quarter increase overall employment services branch diw economic institute said diw report added general downturn economy since last negative effect willingness firms take workers marked downturn number workers taken capital goods sector new orders manufacturing industry goods mostly fallen recent months data february finally showed trend pct rise\n",
            "Document n.22: industries profit exceed expectations industries plc pretax profits mln stg market expectations around mln pushed company shares sharply high last night dealers said shares later eased back reported mln stg profit company said statement results underlying trend showed improvement intended expand developing existing businesses seeking new opportunities added david currently managing director redland plc new chief executive analysts noted profits mln stg mln previously given boost pension benefits mln stg profit australia far east showed percentage rise pct mln mln profit operations rose pct mln europe pct mln\n",
            "Document n.23: citibank norway unit six mln crowns citibank norwegian subsidiary bank said made net loss six mln crowns although foreign bankers said expect show profits two years citibank treasury head told reuters citibank one seven foreign bank subsidiaries operating norway lost money restructuring investment banking away commercial banking economic norway following last year plunge oil prices foreign banks allowed operate norway since foreign banking analysts said access norway second hand securities equities markets approved later spring lower primary reserve requirements would make profit year citibank lost crowns norway said profit likely year planned liberalisation better economic performance helped oil price around dlrs barrel earlier year chase manhattan bank subsidiary decided stop foreign exchange trading heavy losses focus instead fee based merchant banking\n",
            "Document n.24: says conditions sharp fall dollar price zinc depreciation currency created economic conditions sa said statement two factors led refining margins pct fall sales services income despite unchanged level activity actively restructuring program reported mln franc net loss mln francs provisions closure plant compared mln franc net profit\n",
            "Document n.25: reports loss dividend nil year net loss exceptional charges mln francs vs profit mln exceptional provisions closure plant mln francs vs exceptional gain mln sales services billion francs vs billion proposed net dividend ordinary shares nil vs francs company full name sa\n",
            "Document n.26: ec mainly tin extension stand taken european community ec members international tin council except britain said prepared back extension international tin agreement ec spokesman said said meeting ec states representatives yesterday britain decision partners today said ready yesterday take stand say added nine ec states backed extension spain portugal members international tin council raised objections common ec stance favour\n",
            "Document n.27: japan given little hope sanctions top official said japan little chance drop threatened trade sanctions despite efforts japanese team left washington today michael secretary state political affairs asked press conference whether japan moves boost domestic economy open markets could persuade impose tariffs japanese imports said replied probably early figures situation turned around permit result described said hopes japan take steps lift domestic economy reduce dependence exports remove barriers imports settle outstanding trade issues obvious problems moment trade area problems attention important areas cooperation continue security political issues said question whether cooperative actions governments reduce trade imbalance whether congress takes action reduce protectionist legislation said\n",
            "Document n.28: thai zinc exports fall march thai zinc exports fell tonnes march february march mineral resources department said spokesman industry co ltd country exporter attributed decline company lower stocks averaged tonnes first quarter tonnes late began exporting department said major buyers included china japan philippines south korea singapore taiwan thailand exported tonnes zinc first quarter year ago\n",
            "Document n.29: ec sugar tender hard predict london trade outcome today european community ec white sugar tender extremely difficult predict last week substantial award tonnes highest ever rebate european currency units ecus per kilos traders said said believed tonnage would probably smaller around tonnes declined give view likely last week european commission accepted tonnes sugar intervention operators low might factor today result added\n",
            "Document n.30: north calls sugar buying tender trade north called buying tender saturday purchase tonnes white sugar arrival june traders said\n",
            "Document n.31: bid san miguel companies inc joined several foreign bidders shares philippines largest food beverage maker san miguel corp head government panel controls shares told reuters secretary presidential commission good government said told government interested buying mln b shares san miguel disclose offered price said australian alan bond bond corp holdings ltd offered pesos per share b shares said new york investment bank co inc earlier said interested buying mln shares told reuters last month elders ltd based company also bid b shares hong kong economic last month quoted spokesman australian stock broker ltd saying ltd australian firm owned pct australia ltd planning branch order buy entire block mln shares last year made mln dlr bid buy miguel ltd hong kong listed company pct owned corp ltd san miguel corp subsidiary talks broke last june two sides said could agree terms sale\n"
          ]
        }
      ]
    },
    {
      "cell_type": "markdown",
      "source": [
        "## NumBa Acceleration\n",
        "\n",
        "We target two functions for acceleration:\n",
        "* `initialiaze`: given a document, _i.e._ a matrix of (`n_docs`, `n_words`) containing the indexes of words in the vocabulary, populates the topic and count matrixes\n",
        "* `sweep`: given the aforementioned topic and count matrixes, update conditional distribution, sample the new topics, and finally update the count matrixes. The `sweep` is called for each sample to be performed. "
      ],
      "metadata": {
        "id": "rLr2aqgNc8MV"
      }
    },
    {
      "cell_type": "code",
      "source": [
        "from numba import jit, float32\n",
        "\n",
        "@jit(cache=True)\n",
        "def initialize(n_topics, n_docs, documents, topics, nmz, nzw, nz):\n",
        "    for m in range(n_docs):\n",
        "        # Retrieve vocab index for i-th word in document m.\n",
        "        for w in documents[m]:\n",
        "            # PAD tokens, assigned to -1, are skipped\n",
        "            if w < 0:\n",
        "                continue\n",
        "            # Get random topic assignment, i.e. z = ...\n",
        "            z = np.random.choice(n_topics) # Uniform distribution at init\n",
        "            # Increment count matrices\n",
        "            nmz[m, z] += 1\n",
        "            nzw[z, w] += 1\n",
        "            nz[z] += 1\n",
        "            # Store topic assignment, i.e. topics[(m,i)]=z\n",
        "            topics[m, w] = int(z)\n",
        "\n",
        "\n",
        "@jit(cache=True)\n",
        "def conditional(alpha, beta, nmz, nzw, nz, n_words, m, w):\n",
        "    dist = (nmz[m, :] + alpha) * (nzw[:, w] + beta) / (nz + beta * n_words)\n",
        "    return dist / np.sum(dist)\n",
        "\n",
        "\n",
        "@jit(cache=True)\n",
        "def sample_topic(n_topics, p):\n",
        "    return np.random.choice(n_topics, p=p)\n",
        "\n",
        "\n",
        "@jit(cache=True)\n",
        "def sweep(alpha, beta, n_words, n_docs, n_topics, documents, topics, nmz, nzw, nz):\n",
        "    for m in range(n_docs):\n",
        "        # Retrieve vocab index for i-th word in document m.\n",
        "        for w in documents[m]:\n",
        "            # Skip PAD words, assigned to index -1\n",
        "            if w < 0:\n",
        "                continue\n",
        "            # Retrieve topic assignment for i-th word in document m.\n",
        "            z = topics[m, w]\n",
        "            # Decrement count matrices.\n",
        "            nmz[m, z] -= 1\n",
        "            nzw[z, w] -= 1\n",
        "            nz[z] -= 1\n",
        "            # Get conditional distribution.\n",
        "            p = conditional(alpha, beta, nmz, nzw, nz, n_words, m, w)\n",
        "            # Sample new topic assignment.\n",
        "            z = sample_topic(n_topics, p)\n",
        "            # Increment count matrices.\n",
        "            nmz[m, z] += 1\n",
        "            nzw[z, w] += 1\n",
        "            nz[z] += 1\n",
        "            # Store new topic assignment.\n",
        "            topics[m, w] = z"
      ],
      "metadata": {
        "id": "fntH15Oo0AYS"
      },
      "execution_count": 32,
      "outputs": []
    },
    {
      "cell_type": "markdown",
      "source": [
        "Once defined, the functions are compiled, cached, and tested with random data."
      ],
      "metadata": {
        "id": "OOv8oKsnhiD_"
      }
    },
    {
      "cell_type": "code",
      "source": [
        "alpha = 0.1\n",
        "beta = 0.01\n",
        "n_docs = 3000\n",
        "n_topics = 10\n",
        "n_words = 2000\n",
        "doc_max_len = 1000\n",
        "documents = np.random.choice(n_words, size=(n_docs, doc_max_len)).astype(np.int32)\n",
        "topics = np.zeros((n_docs, n_words)).astype(np.int32)\n",
        "nmz = np.zeros((n_docs, n_topics)).astype(np.int32)\n",
        "nzw = np.zeros((n_topics, n_words)).astype(np.int32)\n",
        "nz = np.zeros((n_topics)).astype(np.int32)\n",
        "\n",
        "initialize(n_topics, n_docs, documents, topics, nmz, nzw, nz)\n",
        "sweep(alpha, beta, n_words, n_docs, n_topics, documents, topics, nmz, nzw, nz)\n",
        "nmz"
      ],
      "metadata": {
        "colab": {
          "base_uri": "https://localhost:8080/"
        },
        "id": "QeE5EwIpcBmx",
        "outputId": "080766e4-ea9b-4b50-a5e7-caf1b30681b7"
      },
      "execution_count": 33,
      "outputs": [
        {
          "output_type": "stream",
          "name": "stderr",
          "text": [
            "<ipython-input-32-7311f01f3dba>:14: NumbaWarning: \n",
            "Compilation is falling back to object mode WITH looplifting enabled because Function \"sweep\" failed type inference due to: Invalid use of type(CPUDispatcher(<function sample_topic at 0x7febb83d3170>)) with parameters (int64, array(float64, 1d, C))\n",
            "\n",
            "During: resolving callee type: type(CPUDispatcher(<function sample_topic at 0x7febb83d3170>))\n",
            "During: typing of call at <ipython-input-32-7311f01f3dba> (31)\n",
            "\n",
            "\n",
            "File \"<ipython-input-32-7311f01f3dba>\", line 31:\n",
            "def sweep(alpha, beta, n_words, n_docs, n_topics, documents, topics, nmz, nzw, nz):\n",
            "    <source elided>\n",
            "            # Sample new topic assignment.\n",
            "            z = sample_topic(n_topics, p) # np.random.choice(n_topics, p=p)\n",
            "            ^\n",
            "\n",
            "  @jit(cache=True)\n",
            "<ipython-input-32-7311f01f3dba>:14: NumbaWarning: \n",
            "Compilation is falling back to object mode WITHOUT looplifting enabled because Function \"sweep\" failed type inference due to: Cannot determine Numba type of <class 'numba.core.dispatcher.LiftedLoop'>\n",
            "\n",
            "File \"<ipython-input-32-7311f01f3dba>\", line 16:\n",
            "def sweep(alpha, beta, n_words, n_docs, n_topics, documents, topics, nmz, nzw, nz):\n",
            "    for m in range(n_docs):\n",
            "    ^\n",
            "\n",
            "  @jit(cache=True)\n",
            "/usr/local/lib/python3.7/dist-packages/numba/core/object_mode_passes.py:152: NumbaWarning: Function \"sweep\" was compiled in object mode without forceobj=True, but has lifted loops.\n",
            "\n",
            "File \"<ipython-input-32-7311f01f3dba>\", line 16:\n",
            "def sweep(alpha, beta, n_words, n_docs, n_topics, documents, topics, nmz, nzw, nz):\n",
            "    for m in range(n_docs):\n",
            "    ^\n",
            "\n",
            "  state.func_ir.loc))\n",
            "/usr/local/lib/python3.7/dist-packages/numba/core/object_mode_passes.py:162: NumbaDeprecationWarning: \n",
            "Fall-back from the nopython compilation path to the object mode compilation path has been detected, this is deprecated behaviour.\n",
            "\n",
            "For more information visit https://numba.readthedocs.io/en/stable/reference/deprecation.html#deprecation-of-object-mode-fall-back-behaviour-when-using-jit\n",
            "\n",
            "File \"<ipython-input-32-7311f01f3dba>\", line 16:\n",
            "def sweep(alpha, beta, n_words, n_docs, n_topics, documents, topics, nmz, nzw, nz):\n",
            "    for m in range(n_docs):\n",
            "    ^\n",
            "\n",
            "  state.func_ir.loc))\n",
            "<ipython-input-32-7311f01f3dba>:14: NumbaWarning: Cannot cache compiled function \"sweep\" as it uses lifted code\n",
            "  @jit(cache=True)\n",
            "<ipython-input-32-7311f01f3dba>:14: NumbaWarning: \n",
            "Compilation is falling back to object mode WITHOUT looplifting enabled because Function \"sweep\" failed type inference due to: Invalid use of type(CPUDispatcher(<function sample_topic at 0x7febb83d3170>)) with parameters (int64, array(float64, 1d, C))\n",
            "\n",
            "During: resolving callee type: type(CPUDispatcher(<function sample_topic at 0x7febb83d3170>))\n",
            "During: typing of call at <ipython-input-32-7311f01f3dba> (31)\n",
            "\n",
            "\n",
            "File \"<ipython-input-32-7311f01f3dba>\", line 31:\n",
            "def sweep(alpha, beta, n_words, n_docs, n_topics, documents, topics, nmz, nzw, nz):\n",
            "    <source elided>\n",
            "            # Sample new topic assignment.\n",
            "            z = sample_topic(n_topics, p) # np.random.choice(n_topics, p=p)\n",
            "            ^\n",
            "\n",
            "  @jit(cache=True)\n",
            "/usr/local/lib/python3.7/dist-packages/numba/core/object_mode_passes.py:152: NumbaWarning: Function \"sweep\" was compiled in object mode without forceobj=True.\n",
            "\n",
            "File \"<ipython-input-32-7311f01f3dba>\", line 16:\n",
            "def sweep(alpha, beta, n_words, n_docs, n_topics, documents, topics, nmz, nzw, nz):\n",
            "    for m in range(n_docs):\n",
            "    ^\n",
            "\n",
            "  state.func_ir.loc))\n",
            "/usr/local/lib/python3.7/dist-packages/numba/core/object_mode_passes.py:162: NumbaDeprecationWarning: \n",
            "Fall-back from the nopython compilation path to the object mode compilation path has been detected, this is deprecated behaviour.\n",
            "\n",
            "For more information visit https://numba.readthedocs.io/en/stable/reference/deprecation.html#deprecation-of-object-mode-fall-back-behaviour-when-using-jit\n",
            "\n",
            "File \"<ipython-input-32-7311f01f3dba>\", line 16:\n",
            "def sweep(alpha, beta, n_words, n_docs, n_topics, documents, topics, nmz, nzw, nz):\n",
            "    for m in range(n_docs):\n",
            "    ^\n",
            "\n",
            "  state.func_ir.loc))\n"
          ]
        },
        {
          "output_type": "execute_result",
          "data": {
            "text/plain": [
              "array([[ 88, 105, 122, ...,  97,  97, 100],\n",
              "       [ 97,  92,  94, ..., 118, 109, 100],\n",
              "       [ 85, 111,  88, ...,  96,  94, 114],\n",
              "       ...,\n",
              "       [ 97, 107,  95, ..., 106, 122,  90],\n",
              "       [ 89,  95,  85, ..., 106, 105,  90],\n",
              "       [111,  98,  98, ...,  84,  98, 103]], dtype=int32)"
            ]
          },
          "metadata": {},
          "execution_count": 33
        }
      ]
    },
    {
      "cell_type": "markdown",
      "source": [
        "## LDA With Collapsed Gibbs Sampling"
      ],
      "metadata": {
        "id": "968urZcacDSL"
      }
    },
    {
      "cell_type": "code",
      "source": [
        "class LDACGS:\n",
        "    \"\"\"Do LDA with Collapsed Gibbs Sampling.\"\"\"\n",
        "    def __init__(self, n_topics=2, alpha=0.1, beta=0.01):\n",
        "        \"\"\"Initialize system parameters.\"\"\"\n",
        "        self.n_topics = n_topics\n",
        "        self.alpha = alpha\n",
        "        self.beta = beta\n",
        "        self.corpus_built = False\n",
        "\n",
        "    def buildCorpus(self, doclines=None, filename=None, stopwords_file=None):\n",
        "        \"\"\"Read the given filename and build the vocabulary.\"\"\"\n",
        "        if doclines:\n",
        "            if type(doclines[0] == list):\n",
        "                doclines = [' '.join(w for w in line).rstrip('.,\\n').lower().split(' ') for line in doclines]\n",
        "            else:\n",
        "                doclines = [line.rstrip('.,\\n').lower().split(' ') for line in doclines]\n",
        "        elif filename:\n",
        "            with open(filename, 'r') as infile:\n",
        "                doclines = [line.rstrip('.,\\n').lower().split(' ') for line in infile]\n",
        "        elif not filename and not doclines:\n",
        "            raise ValueError('Either filename or doclines must be supplied.')\n",
        "        self.doclines = doclines\n",
        "        n_docs = len(doclines)\n",
        "        self.vocab = list({v for doc in doclines for v in doc})\n",
        "        # NOTE: We are assuming that the stop words have already been removed.\n",
        "        if stopwords_file:\n",
        "            with open(stopwords_file, 'r') as stopfile:\n",
        "                stops = stopfile.read().split()\n",
        "            self.vocab = [x for x in self.vocab if x not in stops]\n",
        "            self.vocab.sort()\n",
        "        self.documents = []\n",
        "        self.doc_max_len = 0\n",
        "        for i in range(n_docs):\n",
        "            self.documents.append({})\n",
        "            for j in range(len(doclines[i])):\n",
        "                if doclines[i][j] in self.vocab:\n",
        "                    self.documents[i][j] = self.vocab.index(doclines[i][j])\n",
        "            if len(self.documents[i]) > self.doc_max_len:\n",
        "                self.doc_max_len = len(self.documents[i])\n",
        "        print(f'INFO. Vocabulary size: {len(self.vocab)}')\n",
        "        print(f'INFO. Number of documents in corpus: {len(self.documents)}')\n",
        "        self.corpus_built = True\n",
        "\n",
        "    def initialize(self, n_topics=None):\n",
        "        \"\"\"Initialize the three count matrices.\"\"\"\n",
        "        if n_topics:\n",
        "            self.n_topics = n_topics    \n",
        "        self.n_words = len(self.vocab)\n",
        "        self.n_docs = len(self.documents)\n",
        "        # ======================================================================\n",
        "        # Convert list of dictionaries to pure numpy arrays\n",
        "        # ======================================================================\n",
        "        # NOTE: Init PAD tokens to -1\n",
        "        self.documents_np = -np.ones((self.n_docs, self.doc_max_len),\n",
        "                                     dtype=np.int32)\n",
        "        for i in range(self.n_docs):\n",
        "            vals = list(self.documents[i].values())\n",
        "            for j in range(self.doc_max_len):\n",
        "                if j < len(vals):\n",
        "                    self.documents_np[i][j] = int(vals[j])\n",
        "        # ======================================================================\n",
        "        # Instantiate the three count matrices.\n",
        "        # ======================================================================\n",
        "        # The (i,j) entry of self.nmz is the number of words in document i\n",
        "        # assigned to topic j.\n",
        "        self.nmz = np.zeros((self.n_docs, self.n_topics), dtype=np.int32)\n",
        "        # The (i,j) entry of self.nzw is the number of times term j is\n",
        "        # assigned to topic i.\n",
        "        self.nzw = np.zeros((self.n_topics, self.n_words), dtype=np.int32)\n",
        "        # The (i)-th entry is the number of times topic i is assigned in the\n",
        "        # corpus.\n",
        "        self.nz = np.zeros(self.n_topics, dtype=np.int32)\n",
        "        # Initialize the topic assignment dictionary.\n",
        "        self.topics = {} # key-value pairs of form (m,i):z\n",
        "        self.topics_np = -np.ones((self.n_docs, self.n_words), dtype=np.int32)\n",
        "        # ======================================================================\n",
        "        # Initialize the topics and the three count matrices.\n",
        "        # ======================================================================\n",
        "        initialize(self.n_topics, self.n_docs, self.documents_np,\n",
        "                   self.topics_np, self.nmz, self.nzw, self.nz)\n",
        "\n",
        "    def sample(self, doclines=None, filename=None, burnin=100, sample_rate=10,\n",
        "               n_samples=10, stopwords=None, n_topics=None, alpha=None,\n",
        "               beta=None, verbose=0):\n",
        "        if alpha:\n",
        "            self.alpha = alpha\n",
        "        if beta:\n",
        "            self.beta = beta\n",
        "        if not self.corpus_built:\n",
        "            if verbose:\n",
        "                print(f'INFO. Building corpus.')\n",
        "            self.buildCorpus(doclines, filename, stopwords)\n",
        "        if verbose:\n",
        "            print(f'INFO. Corpus built. Initializing.')\n",
        "        self.initialize(n_topics)\n",
        "        self.total_nzw = np.zeros((self.n_topics, self.n_words))\n",
        "        self.total_nmz = np.zeros((self.n_docs, self.n_topics))\n",
        "        self.logprobs = np.zeros(burnin + sample_rate * n_samples)\n",
        "        if verbose:\n",
        "            print(f'INFO. Starting Burn-in sampling.')\n",
        "        for i in tqdm(range(burnin)):\n",
        "            # Sweep and store log likelihood.\n",
        "            sweep(self.alpha, self.beta, self.n_words, self.n_docs,\n",
        "                  self.n_topics, self.documents_np, self.topics_np, self.nmz,\n",
        "                  self.nzw, self.nz)\n",
        "            self.logprobs[i] = self._loglikelihood()\n",
        "        if verbose:\n",
        "            print(f'INFO. Burn-in sampling complete.')\n",
        "        for i in tqdm(range(n_samples * sample_rate)):\n",
        "            # Sweep and store log likelihood\n",
        "            sweep(self.alpha, self.beta, self.n_words, self.n_docs,\n",
        "                  self.n_topics, self.documents_np, self.topics_np, self.nmz,\n",
        "                  self.nzw, self.nz)\n",
        "            self.logprobs[burnin + i] = self._loglikelihood()\n",
        "            if not i % sample_rate:\n",
        "                # Accumulate counts\n",
        "                self.total_nzw += self.nzw\n",
        "                self.total_nmz += self.nmz\n",
        "            else:\n",
        "                if verbose:\n",
        "                    print(f'INFO. Sampling n.{burnin + i} complete.')\n",
        "\n",
        "    def phi(self):\n",
        "        phi = self.total_nzw + self.beta\n",
        "        self._phi = phi / (np.sum(phi, axis=1)[:, np.newaxis] + self.beta * self.n_words)\n",
        "\n",
        "    def theta(self):\n",
        "        theta = self.total_nmz + self.alpha\n",
        "        self._theta = theta / (np.sum(theta, axis=1)[:, np.newaxis] + self.alpha + self.n_topics)\n",
        "\n",
        "    def topterms(self, n_terms=10):\n",
        "        self.phi()\n",
        "        self.theta()\n",
        "        vec = np.atleast_2d(np.arange(0, self.n_words))\n",
        "        topics = []\n",
        "        for k in range(self.n_topics):\n",
        "            probs = np.atleast_2d(self._phi[k, :])\n",
        "            mat = np.append(probs, vec, 0)\n",
        "            sind = np.array([mat[:, i] for i in np.argsort(mat[0])]).T\n",
        "            topics.append([self.vocab[int(sind[1, self.n_words - 1 - i])] for i in range(n_terms)])\n",
        "        return topics\n",
        "\n",
        "    def toplines(self, n_lines=5, convert=True):\n",
        "        lines = np.zeros((self.n_topics, n_lines), dtype=np.int32)\n",
        "        for i in range(self.n_topics):\n",
        "            args = np.argsort(self._theta[:, i]).tolist()\n",
        "            args.reverse()\n",
        "            lines[i, :] = np.array(args)[0:n_lines] + 1\n",
        "        if convert:\n",
        "            ret = []\n",
        "            for line in lines:\n",
        "                ret.append([self.doclines[d] for d in line])\n",
        "            lines = ret\n",
        "        return lines\n",
        "\n",
        "    def _removeStopwords(self, stopwords):\n",
        "        return [x for x in self.vocab if x not in stopwords]\n",
        "\n",
        "    def _conditional(self, m, w):\n",
        "        dist = (self.nmz[m, :] + self.alpha) * (self.nzw[:, w] + self.beta) / (self.nz + self.beta * self.n_words)\n",
        "        return dist / np.sum(dist)\n",
        "\n",
        "    def _loglikelihood(self):\n",
        "        lik = 0\n",
        "        for z in range(self.n_topics):\n",
        "            lik += np.sum(gammaln(self.nzw[z,:] + self.beta)) - gammaln(np.sum(self.nzw[z,:] + self.beta))\n",
        "            lik -= self.n_words * gammaln(self.beta) - gammaln(self.n_words * self.beta)\n",
        "        for m in range(self.n_docs):\n",
        "            lik += np.sum(gammaln(self.nmz[m,:] + self.alpha)) - gammaln(np.sum(self.nmz[m,:] + self.alpha))\n",
        "            lik -= self.n_topics * gammaln(self.alpha) - gammaln(self.n_topics * self.alpha)\n",
        "        return lik"
      ],
      "metadata": {
        "id": "puBDXUpap61E"
      },
      "execution_count": 109,
      "outputs": []
    },
    {
      "cell_type": "code",
      "source": [
        "ldacgs = LDACGS()\n",
        "ldacgs.buildCorpus(cleaned_corpus)"
      ],
      "metadata": {
        "colab": {
          "base_uri": "https://localhost:8080/"
        },
        "id": "K6dMmilYtoC4",
        "outputId": "be4bcb37-ad9b-489f-97cf-a02ac8d5188c"
      },
      "execution_count": 108,
      "outputs": [
        {
          "output_type": "stream",
          "name": "stdout",
          "text": [
            "INFO. Vocabulary size: 3643\n",
            "INFO. Number of documents in corpus: 4000\n"
          ]
        }
      ]
    },
    {
      "cell_type": "code",
      "source": [
        "n_topics = 50 # 10 or 50\n",
        "burnin = 100 # 100 or 200\n",
        "ldacgs.sample(burnin=burnin, sample_rate=1, n_samples=1, n_topics=n_topics, verbose=0)"
      ],
      "metadata": {
        "colab": {
          "base_uri": "https://localhost:8080/"
        },
        "id": "i1aCf6uYmQ7A",
        "outputId": "b969711e-b938-47c2-f1ca-8275bd61b2a2"
      },
      "execution_count": 70,
      "outputs": [
        {
          "output_type": "stream",
          "name": "stderr",
          "text": [
            "100%|██████████| 100/100 [00:12<00:00,  8.28it/s]\n",
            "100%|██████████| 1/1 [00:00<00:00,  5.79it/s]\n"
          ]
        }
      ]
    },
    {
      "cell_type": "code",
      "source": [
        "n_topics = 10 # 10 or 50\n",
        "burnin = 100 # 100 or 200\n",
        "ldacgs.sample(burnin=burnin, sample_rate=1, n_samples=1, n_topics=n_topics, verbose=0)"
      ],
      "metadata": {
        "colab": {
          "base_uri": "https://localhost:8080/"
        },
        "id": "qckjcJuyF1rS",
        "outputId": "c6c34d11-a1b7-4c9a-cd41-534cc54ea063"
      },
      "execution_count": 78,
      "outputs": [
        {
          "output_type": "stream",
          "name": "stderr",
          "text": [
            "100%|██████████| 100/100 [00:09<00:00, 10.31it/s]\n",
            "100%|██████████| 1/1 [00:00<00:00, 12.30it/s]\n"
          ]
        }
      ]
    },
    {
      "cell_type": "code",
      "source": [
        "topics = ldacgs.topterms(n_terms=20)\n",
        "for i, topic in enumerate(topics):\n",
        "    print(f'Topic n.{i}: {\", \".join(t for t in topic)}')"
      ],
      "metadata": {
        "colab": {
          "base_uri": "https://localhost:8080/"
        },
        "id": "z4MUFnUet7H1",
        "outputId": "4386d4c7-4671-4e2b-ff1c-043f2a71b6b9"
      },
      "execution_count": 79,
      "outputs": [
        {
          "output_type": "stream",
          "name": "stdout",
          "text": [
            "Topic n.0: said, mln, vs, dlrs, pct, net, cts, billion, year, shr, inc, would, company, loss, corp, oil, market, last, qtr, share\n",
            "Topic n.1: said, mln, vs, dlrs, cts, pct, net, billion, year, loss, shr, would, company, inc, share, trade, corp, qtr, shares, bank\n",
            "Topic n.2: said, mln, vs, dlrs, pct, cts, net, year, billion, company, shr, loss, would, inc, trade, qtr, corp, oil, market, shares\n",
            "Topic n.3: said, mln, vs, dlrs, cts, pct, net, year, billion, shr, would, inc, company, loss, corp, last, trade, oil, share, qtr\n",
            "Topic n.4: said, mln, vs, dlrs, pct, net, cts, year, billion, would, shr, company, loss, inc, corp, oil, trade, share, profit, qtr\n",
            "Topic n.5: said, mln, vs, dlrs, cts, pct, net, year, billion, company, would, shr, inc, bank, loss, qtr, corp, last, trade, share\n",
            "Topic n.6: said, mln, vs, dlrs, pct, cts, net, year, billion, company, would, shr, loss, inc, corp, oil, bank, last, share, trade\n",
            "Topic n.7: said, mln, vs, dlrs, pct, cts, net, year, billion, shr, would, loss, company, inc, bank, oil, one, qtr, corp, market\n",
            "Topic n.8: said, mln, vs, dlrs, cts, pct, net, billion, year, shr, loss, would, company, inc, qtr, last, new, oil, trade, corp\n",
            "Topic n.9: said, mln, vs, dlrs, pct, cts, net, year, billion, shr, would, company, inc, loss, last, corp, share, bank, trade, qtr\n"
          ]
        }
      ]
    },
    {
      "cell_type": "code",
      "source": [
        "lines = ldacgs.toplines(n_lines=5)\n",
        "for i, l in enumerate(lines):\n",
        "    print(f'Line n.{i}:')\n",
        "    for d in l:\n",
        "        print(f\"{str(' '.join([w for w in d]))}\")\n",
        "    print('')"
      ],
      "metadata": {
        "colab": {
          "base_uri": "https://localhost:8080/"
        },
        "id": "VfTEKRHzt9_g",
        "outputId": "21d6d2fa-6550-40fb-b73d-f7b0987558a3"
      },
      "execution_count": 85,
      "outputs": [
        {
          "output_type": "stream",
          "name": "stdout",
          "text": [
            "Line n.0:\n",
            "gte corp qtr net shr cts vs cts net mln vs mln revs billion vs billion nine mths shr dlrs vs dlrs net mln vs mln revs billion vs billion note share results restated stock split january net periods includes business gains mln dlrs five cts share gains early retirement programs mln dlrs cts share nine months net also includes pre tax charge mln dlrs gte share special write sprint reduced tax net mln dlrs cts share net periods includes business gains mln dlrs cts per share\n",
            "eastern utilities associates ups payout qtly div cts vs cts prior qtr pay may record may\n",
            "inc qtr oper oper shr dlrs vs cts oper net mln vs mln revs mln vs mln nine mths oper shr dlrs vs dlrs oper net mln vs mln revs mln vs mln note qtr nine mths oper net excludes gains tax loss carryforwards dlrs dlrs respectively qtr nine mths oper net excludes tax carryforward gains dlrs dlrs respectively\n",
            "bell group standard chartered stake bell group ltd said holds pct issued capital standard chartered plc acquiring shares one statement bell confirmed brokers warburg securities told reuters london yesterday bell previously held pct standard bell chairman robert court also director standard available comment company intentions boosting holding company officials reuters declined comment\n",
            "bank qtr net oper shr three cts vs cts oper net vs nine mths oper shr dlrs vs dlrs oper net vs note operating net excludes extraordinary gains dlrs four cts share vs dlrs cts share quarter dlrs cts share vs dlrs cts share nine months\n",
            "\n",
            "Line n.1:\n",
            "american brands sees higher qtr net american brands inc said expects first quarter net earnings exceed record mln dlrs dlrs share earned year ago quarter company also said believes sales first quarter record sales billion dlrs last year company said unit sales american tobacco strike line rose pct last year led gain american brands said new low priced brand called company ltd unit strong performance became second largest operating earnings american brands said\n",
            "australian foreign ship ban ends nsw ports hit new south nsw western australia yesterday lifted ban foreign flag ships carrying nsw ports still separate dispute shipping sources said ban imposed week ago pay claim movement port nearly vessels said pay dispute went hearing commission today meanwhile began today cargo handling ports sydney port said industrial action nsw ports part week action called nsw trades labour council protest changes state workers compensation laws shipping sources said various port unions appear taking turn work short time start shift cargo handling ports container movements affected stopped said said could say long go effect shipping movements\n",
            "bp cuts north sea propane price unchanged british petroleum lp gas international said cut north sea lpg petroleum gas posted price propane dlrs dlrs tonne effective june move follows similar cut dlrs tonne announced shell ltd friday also fob north sea effective june notice companies left prices unchanged dlrs tonne bp statement said cut came result price review substantial changes lpg market bp last lowered posted propane price dlrs tonne march shell last change dlrs may\n",
            "oil gas ltd qtr net shr two cts vs seven cts net vs revs vs\n",
            "financial corp america qtr loss shr loss dlrs vs profit cts net loss mln vs profit mln avg shrs primary mln vs mln avg shrs diluted mln vs mln nine mths shr primary loss dlrs vs profit dlrs shr diluted loss dlrs vs profit dlrs avg shrs primary mln vs mln avg shrs diluted mln vs mln net loss mln vs profit mln assets billion vs billion loans billion vs billion deposits billion vs billion note net includes loss vs qtr vs mln vs mln nine mths vs net includes gain sale mortgage backed securities loans mln vs mln mln vs mln nine mths vs net includes gain sale investments qtr vs nine mths vs net includes provision losses discounts mln vs mln qtr vs mln vs mln nine mths vs nine mths included write reserve mln\n",
            "\n",
            "Line n.2:\n",
            "data corp qtr shr cts vs cts net vs revs mln vs mln note shrs reflect stock split\n",
            "rubber prices colombo auction prices firmed good demand colombo rubber auction brokers said one x brown traded rupees per kg cents last rates grades also showed rise attributed shortage rubber available type prices unchanged best one x selling rupees one traded two rupees sheet firm previous weeks averaging rupees previously total rubber offered sale tonnes\n",
            "labor reports real earnings rose pct feb unchanged jan labor reports real earnings rose pct feb unchanged jan\n",
            "northern trust net hurt brazil loans northern trust corp said first quarter earnings reduced dlrs mln dlrs loans brazil six mln dlrs loans ecuador cash basis loans remain basis rest net income year cut mln dlrs bank said earlier posted net income period mln dlrs cts share mln dlrs cts share total assets mln dlrs march mln dlrs december mln dlrs march bank said provision loan losses first quarter eight mln dlrs compared mln year ago net loan charge offs six mln dlrs mln dlrs year ago reserve loan losses mln dlrs two pct outstanding loans higher mln dlrs pct loans outstanding march\n",
            "us study dropped contel merger congressional study today said proposed apparently abandoned merger communications satellite corp contel corp would legal could law setting two weeks ago study completed contel announced would seek proposed merger study non congressional research service said proposed merger appears comply letter may spirit law created act congress contel corporation local telephone communications firms filed federal communications commission last november application merger several firms proposed merger law research service issued several critical comments structure new firm said apparent contel would broken spirit law setting arm international satellite communications firm reuter\n",
            "\n",
            "Line n.3:\n",
            "corp qtr net shr profit three cts vs profit nine cts net profit vs profit revs vs nine mths shr loss cts vs profit cts net loss vs profit revs mln vs mln\n",
            "first florida banks qtr net shr cts vs cts net mln vs mln nine mths shr dlrs vs dlrs net mln vs mln assets billion vs loans billion vs billion note qtr includes securities tax gain dlrs cts share\n",
            "saudi arabia wants increase oil sales japan saudi arabia hopes increase volume oil exports japan expanding bilateral trade saudi minister abdul said told tokyo country hopes raise crude products exports japan earlier levels elaborate promote trade saudi arabia japanese industries business said japanese firms long term contracts import total barrels per day saudi crude\n",
            "cocoa terminal deposits cut pct basic deposit cocoa futures contracts reduced pct friday april taking required deposit one tonne lot stg previously spokesman international commodity house said deposit spread contracts cut stg one tonne lot previously said looking cocoa market fluctuations period weeks said adding market basic stability cut deposit rates decision cut deposits taken london cocoa terminal market spokesman said cuts likely business market said\n",
            "ibc seeks export details set coffee quotas brazilian coffee institute ibc given close business thursday submit details past export performance order individual quotas allocated ibc spokesman said told reuters ibc president confirmed acceptance national coffee policy council proposals establish individual export quotas based pct export performance pct stocks pct auction best period consecutive months april september used export portion ibc total figures participation use basis allocation individual quotas ibc spokesman said said ibc already settled sao mercantile exchange auction system operate bid premium contribution quota payable coffee exports bidder add premium contribution quota export sales form start opening export registrations spokesman could say might trade sources said announcement could come end week opening monday meeting set tomorrow export marketing committee establish system pct export quotas based stock levels spokesman added system individual export quotas brazil previous system abandoned ensure shipments kept line country ico quota\n",
            "\n",
            "Line n.4:\n",
            "poehl dollar fall bundesbank president karl otto poehl said weaker dollar would appreciation mark would damage prospects sustained west german economic growth speech institute german affairs poehl said would extremely policy aim substantial decline value dollar correct trade deficit said united states could face circle depreciation inflation depreciation took poehl noted west germany already taken steps meet demands greater domestic economy tax cuts cutting interest rates target money supply growth said would happy brought forward five billion marks tax cuts planned january beginning year said government faced political getting measures upper house west german parliament also limits impact west germany could accept exports rising mark said poehl said west germany exports one third gross national product substantial export markets could offset increasing demand home appreciation mark could even growth said poehl said bundesbank rapid money supply growth last year country low inflation external factors including low oil prices favourable terms trade given extra poehl said west germany faced difficult monetary policy underlying rate inflation two pct reported negative inflation rates last year west germany affected exchange rate developments time focus policy external side live money supply must careful said said shared concern japan trade surpluses affected european countries well united states poehl welcomed called louvre accord monetary officials major industrialized countries saying february agreement stabilize exchange rates partners agreed dollar right level changes would damage growth said change attitude especially part american said said still danger dollar value could\n",
            "fed seger says foreign exchange markets showing signs stability fed seger says foreign exchange markets showing signs stability\n",
            "stoltenberg declines comment currency west german finance minister gerhard stoltenberg declined comment whether target currencies agreed last february louvre accord changed result meeting monday treasury secretary james baker asked target news conference bonn stoltenberg statement released monday meeting said continuing cooperation aimed promoting currency stability current levels formula used louvre accord noted\n",
            "currency moves may world trade japanese trade figures seriously view policy makers group seven industrialised nations relative currency rates key world trade problems senior japanese european officials tokyo say loss fully data currencies key ask exports japan currencies dollar made world trade problems rather federal reserve chairman paul volcker forecast world trade recession trade declined even pct dollar fall yen since september group five pact new york lower dollar made exports pct competitive japan officials economists offer objective reason european community sales japan rising rapidly european currency unit declined pct yen last week meeting washington widely sign policy makers dollar must go lower worst volcker correct loss give objective officials offer highly know think said acting head ec delegation tokyo know community exporters making effort market make effort money made japan added officials businessmen convinced low exports japan japan restrictive trade practices protected japanese trade sectors agriculture non tariff barriers customs procedures car imports publicly japanese officials remain face see private industry see way like seem said senior official declined named like making enough effort saito chairman business group corp chairman repeatedly foreign firms making enough effort understand japan markets agree real issue major sectors american european industry compete even home markets peter president bank told recent conference reuter\n",
            "icco buffer buy tonnes cocoa june buffer stock manager international cocoa organization icco tender tonnes cocoa beans wednesday june icco said statement said conditions remain unchanged previous announcement conditions offers registered companies sterling cocoa beans standard differentials set icco buffer stock rules cocoa december shipment spot december arrival delivery basis position may july shipment june arrival delivery later positions appropriate carrying costs taken account deadline receipt offers manager london time gmt case offers market hours case offers origins competitiveness offers taking account standard differentials cost taking cocoa store currently sterling cif sterling cif shipping store cost carry currently sterling per month icco said four offers considered offering party added\n",
            "\n",
            "Line n.5:\n",
            "gte corp qtr shr cts vs cts gte corp qtr shr cts vs cts\n",
            "inc year net shr cts vs cts net mln vs mln revs mln vs mln avg shrs mln vs mln\n",
            "distillers says agrees sell spirits unit mln dlrs american brands distillers says agrees sell spirits unit mln dlrs american brands\n",
            "reason cut rates bundesbank schlesinger bundesbank vice president helmut schlesinger said saw reason lower interest rates money supply growth showing sign slowing may dollar stable even rising mark schlesinger told reuters convinced cut interest rates needed economy seasonally adjusted one pct first quarter fourth added may increase gnp starting second quarter said interview concerned first quarter downturn pressing west germany pump economy boost imports either fiscal monetary policy schlesinger said first quarter mainly due adverse weather conditions year year growth thus two pct estimated economic growth year whole would probably one two pct question monetary conditions domestic demand grow strongly said noting interest rates low levels funds schlesinger said saw signs central bank money stock growth slowing recent year year pace eight pct well bundesbank three six pct target said target could still achieved much depend direction long term capital flows heavy particularly january around time revaluation boosted domestic money supply still certain hope net inflow foreign money even little bit schlesinger said major reason market mark headed higher see market expectations revaluation schlesinger said recent interest rate differentials fact dollar fallen sharply short period improvement real trade balances combined towards dollar said asked central banks might act prevent sharp dollar rise march dollar rose marks said would depend circumstances midday dollar stood marks central banks always fluctuations give would react said one look market moving said adding case also american case said west german export industry hit hard dollar sharp fall would probably like see would good short term fluctuations said let us wait see mainly strength dollar fall short period little bit level rates schlesinger said sharp rise mark weak prices key commodities oil favourable impact west german inflation year although recently signs inflation said due changes key commodity prices underlying inflation rate year would unchanged one pct said schlesinger said problem rapid money supply growth longer term economy building potential possible inflation target growth money supply past months prompted discussion targets matter might taken mid year meeting bundesbank council said added see great pressure go away\n",
            "bank trust co qtr net shr cts vs cts shr diluted cts vs cts net vs avg shrs vs avg shrs diluted vs\n",
            "\n",
            "Line n.6:\n",
            "sugar market sees good recent reports soviet union extended recent buying programme taking five eight cargoes free market around points new york may futures recent worldwide demand sugar variety destinations traders said soviet buying follows recent whites buying india turkey well possible china tonnes could changed hands current activity encouraging sugar trade previously saw little end buyer added dealers said large sales soviet union past days involved japanese operators selling thai origin sugar prices nearby shipment thai considerably recently due good far eastern demand possibly sales soviet union pre large block china said thai prices march may shipments around points may new york larger discounts previously added traders said soviet union might looking buy sugar near term possibly towards overall requirement year around two mln tonnes mln tonnes already taken said turkey reported week bought around tonnes whites india whites purchases two three cargoes mar near dlrs tonne cost freight could seeking also buyer week taking two cargoes whites undisclosed shipment period reported priced around dlrs tonne cost freight added futures prices news end buyer although much emerged recently prices took interim technical traders said pakistan shortly buy tonnes whites although traders said tender originally scheduled tomorrow might take place week later egypt seeking tonnes may arrival white sugar next week greece called internal ec tender tonnes whites held early april arrival four equal parts may june july august\n",
            "franklin assets development merge privately held franklin inc said entered preliminary agreement merge assets development corp public company terms disclosed companies said expected merged group\n",
            "oil seen rising record level united states foreign oil sources may reach record levels according john lichtblau president petroleum industry research associates lichtblau speaking alternative energy conference said may depend foreign suppliers much pct oil previous high level pct long term growth foreign oil lichtblau said much pct oil imports could come opec nations said lichtblau said foreign suppliers pct oil predicted would increase pct however rate growth affected government action lichtblau said said one government negative actions maintenance profits tax developing existing fields reduces cash flow oil exploration lichtblau called international floor price crude oil help stabilize world oil prices international floor price adopted industrial countries would clearly much effective measure would much less imposed alone lichtblau said development energy sources fuels well increased development alaska could foreign oil lichtblau said potential alternative supplies could limit willingness opec nations raise oil prices said lichtblau also called federal government offer tax oil drilling strategic petroleum reserve faster rate develop plans alternative energy\n",
            "washington water power qtr loss shr loss cts vs profit two cts net loss vs profit revs mln vs mln nine mths shr profit cts vs profit dlrs net profit mln vs profit mln revs mln vs mln\n",
            "industries inc qtr march shr cts vs cts net vs revs mln vs mln six months shr cts vs cts net vs revs mln vs mln\n",
            "\n",
            "Line n.7:\n",
            "japan may unemployment record pct pct april official japan may unemployment record pct pct april official\n",
            "systems inc qtr may loss shr loss cts vs loss five cts net loss vs loss sales mln vs mln avg shrs vs nine mths shr loss dlrs vs profit cts net loss vs profit avg shrs vs\n",
            "inc qtr feb net shr profit nil vs profit nil net profit vs profit sales vs nine mths shr loss one ct vs loss two cts net loss vs loss sales vs\n",
            "french industrial production rises february french industrial production rose seasonally adjusted three pct february pct fall january national statistics institute said figure excludes construction public works put february index base january changed base year last month\n",
            "bancorp qtr net shr cts vs cts net vs nine mths shr cts vs dlrs net vs note company would provide assets deposits loans figures\n",
            "\n",
            "Line n.8:\n",
            "valley sets issue valley industries ltd said filed preliminary short form canada united states offering pct outstanding common stock common shares sold certain shareholders company said holdings inc holding company owned brothers charles trust montreal offering sell holding valley common shares balance offering owned directly indirectly various charles proceeds expenses offering valley industries common shares account selling shareholders company said shareholders salomon brothers inc distribution shares united states young ltd distribution canada\n",
            "usda orange crop boxes florida crop boxes usda orange crop boxes florida crop boxes\n",
            "rains aid crops week widespread rains crop development across province northwest crop producing region receiving according agriculture weekly crop report rains formerly low moisture reserves reserves areas rated good report said plantings virtually complete across province well advanced however fields still showed stands cereal crops southwest pct fields already subsequent stage said oilseeds northwest region pct emerged many areas regions pct emerged\n",
            "wells fargo co qtr net shr dlrs vs dlrs net mln vs mln avg shrs vs loans billion vs billion deposits billion vs billion assets billion vs billion\n",
            "ibm higher shipments costs qtr international business machines corp said shipments revenues higher first quarter net earnings fell pct part due higher expenses ibm said net income fell mln dlrs dlrs share billion dlrs dlrs pct fewer shares outstanding total sales income rose pct billion dlrs billion dlrs costs expenses rose pct billion dlrs billion quarter computer maker said company said continues take actions make competitive including cost expense reduction measures although worldwide economic situation remains encouraging signs business ibm said statement addition increase first quarter shipments announced new large personal product lines said yet fully benefit recent product retirement incentives measures expect actions significant impact company added said expects employees take advantage retirement incentives announced last year pretax earnings fell pct billion dlrs billion ibm said pretax margins slipped pct pct said\n",
            "\n",
            "Line n.9:\n",
            "bass led group pct bell co stake investment bass led group pct bell co stake investment\n",
            "australian foreign ship ban ends new south nsw western australia yesterday lifted ban foreign flag ships carrying nsw ports still separate dispute shipping sources said ban imposed week ago pay claim movement port nearly vessels said pay dispute went hearing commission today meanwhile began today cargo handling ports sydney port said industrial action nsw ports part week action called nsw trades labour council protest changes state workers compensation laws\n",
            "australian sugar areas said receiving rain dry areas australian sugar cane belt along coast receiving enough rain sustain crop australian sugar producers association spokesman said industry worried two weeks ago rainfall still normal good rains needed areas regions said far north far south state northern new south cane crop looking good heavy falls month said spokesman said still early tell effect dry weather size crop harvested around june december said light falls areas short moisture mean really need three days region heavy rains restore normal moisture cane rainfall next two three weeks crucial size crop dry areas said certainly crop stage might month without good falls said\n",
            "wall corp three mths net shr five cts vs one ct net vs revs mln vs mln note period ended april\n",
            "pennsylvania real estate investment trust oper shr cts vs cts oper net vs revs vs avg shrs vs half oper shr cts vs cts oper net vs revs vs avg shrs vs note current year net excludes gains sale real estate dlrs quarter dlrs half period ended february\n",
            "\n"
          ]
        }
      ]
    },
    {
      "cell_type": "code",
      "source": [
        "import matplotlib.pyplot as plt\n",
        "\n",
        "plt.plot(-ldacgs.logprobs, label='LogLikelyhood')\n",
        "plt.title('Negative Log-Likelyhood')\n",
        "plt.xlabel('Samples')\n",
        "plt.grid('both')\n",
        "plt.show()"
      ],
      "metadata": {
        "colab": {
          "base_uri": "https://localhost:8080/",
          "height": 295
        },
        "id": "S53Q0fhBTUiX",
        "outputId": "2528a9fc-e930-474a-acf3-94e6358cf0a9"
      },
      "execution_count": 87,
      "outputs": [
        {
          "output_type": "display_data",
          "data": {
            "text/plain": [
              "<Figure size 432x288 with 1 Axes>"
            ],
            "image/png": "[encoded data removed]"
          },
          "metadata": {
            "needs_background": "light"
          }
        }
      ]
    },
    {
      "cell_type": "markdown",
      "source": [
        "## $U_{MASS}$ Coherence Score"
      ],
      "metadata": {
        "id": "Q4a6gVQ3wolV"
      }
    },
    {
      "cell_type": "code",
      "source": [
        "from gensim.models import CoherenceModel\n",
        "from gensim.corpora import Dictionary"
      ],
      "metadata": {
        "id": "QsKtMRkQx7Dt"
      },
      "execution_count": 100,
      "outputs": []
    },
    {
      "cell_type": "code",
      "source": [
        "cm = CoherenceModel(topics=topics,\n",
        "                    dictionary=Dictionary(ldacgs.doclines),\n",
        "                    texts=ldacgs.doclines,\n",
        "                    topn=20,\n",
        "                    coherence='u_mass')\n",
        "coherence = cm.get_coherence()\n",
        "# NOTE: uMass is: -14 < x < 14\n",
        "print(f'Umass coherence score: {coherence:.3f}')"
      ],
      "metadata": {
        "colab": {
          "base_uri": "https://localhost:8080/"
        },
        "id": "FaX2TGfez5-y",
        "outputId": "032d96af-ed76-4e62-ce26-cc50ca6b607c"
      },
      "execution_count": 103,
      "outputs": [
        {
          "output_type": "stream",
          "name": "stdout",
          "text": [
            "Umass coherence score: -1.941\n"
          ]
        }
      ]
    },
    {
      "cell_type": "markdown",
      "source": [
        "## Evaluation"
      ],
      "metadata": {
        "id": "kmyzy2y32R3E"
      }
    },
    {
      "cell_type": "code",
      "source": [
        "ldacgs = LDACGS()\n",
        "ldacgs.buildCorpus(cleaned_corpus)"
      ],
      "metadata": {
        "colab": {
          "base_uri": "https://localhost:8080/"
        },
        "id": "lwt2lqrR5YJ-",
        "outputId": "771eb8ad-89df-431b-9d1f-fe3829ba5add"
      },
      "execution_count": 110,
      "outputs": [
        {
          "output_type": "stream",
          "name": "stdout",
          "text": [
            "INFO. Vocabulary size: 3643\n",
            "INFO. Number of documents in corpus: 4000\n"
          ]
        }
      ]
    },
    {
      "cell_type": "code",
      "source": [
        "dictionary = Dictionary(ldacgs.doclines)\n",
        "\n",
        "for K in [10, 20, 50]:\n",
        "    for burnin in [100, 200]:\n",
        "        for alpha, beta in [(0.1, 0.1), (0.1, 0.01)]:\n",
        "            # Perform Gibbs sampling\n",
        "            ldacgs.sample(burnin=burnin, sample_rate=1, n_samples=1, n_topics=K,\n",
        "                          alpha=alpha, beta=beta)\n",
        "            # Get topics\n",
        "            topics = ldacgs.topterms(n_terms=20)\n",
        "            # Calculate U-mass coherency score\n",
        "            cm = CoherenceModel(topics=topics,\n",
        "                                dictionary=dictionary,\n",
        "                                texts=ldacgs.doclines,\n",
        "                                topn=20,\n",
        "                                coherence='u_mass')\n",
        "            coherence = cm.get_coherence()\n",
        "            # NOTE: uMass is: -14 < x < 14\n",
        "            print(f'Umass coherence score for {K} topics and brun-in {burnin} (α={alpha}, β={beta}): {coherence:.3f}')"
      ],
      "metadata": {
        "colab": {
          "base_uri": "https://localhost:8080/"
        },
        "id": "ZbHMbmYy01Fd",
        "outputId": "8db76a57-fff1-4996-99b5-87697e216945"
      },
      "execution_count": 111,
      "outputs": [
        {
          "output_type": "stream",
          "name": "stderr",
          "text": [
            "100%|██████████| 100/100 [00:09<00:00, 10.33it/s]\n",
            "100%|██████████| 1/1 [00:00<00:00,  8.80it/s]\n"
          ]
        },
        {
          "output_type": "stream",
          "name": "stdout",
          "text": [
            "Umass coherence score for 10 topics and brun-in 100 (α=0.1, β=0.1): -1.882\n"
          ]
        },
        {
          "output_type": "stream",
          "name": "stderr",
          "text": [
            "100%|██████████| 100/100 [00:10<00:00,  9.82it/s]\n",
            "100%|██████████| 1/1 [00:00<00:00, 10.83it/s]\n"
          ]
        },
        {
          "output_type": "stream",
          "name": "stdout",
          "text": [
            "Umass coherence score for 10 topics and brun-in 100 (α=0.1, β=0.01): -1.931\n"
          ]
        },
        {
          "output_type": "stream",
          "name": "stderr",
          "text": [
            "100%|██████████| 200/200 [00:22<00:00,  8.91it/s]\n",
            "100%|██████████| 1/1 [00:00<00:00, 12.28it/s]\n"
          ]
        },
        {
          "output_type": "stream",
          "name": "stdout",
          "text": [
            "Umass coherence score for 10 topics and brun-in 200 (α=0.1, β=0.1): -1.888\n"
          ]
        },
        {
          "output_type": "stream",
          "name": "stderr",
          "text": [
            "100%|██████████| 200/200 [00:19<00:00, 10.12it/s]\n",
            "100%|██████████| 1/1 [00:00<00:00, 11.01it/s]\n"
          ]
        },
        {
          "output_type": "stream",
          "name": "stdout",
          "text": [
            "Umass coherence score for 10 topics and brun-in 200 (α=0.1, β=0.01): -1.913\n"
          ]
        },
        {
          "output_type": "stream",
          "name": "stderr",
          "text": [
            "100%|██████████| 100/100 [00:14<00:00,  7.05it/s]\n",
            "100%|██████████| 1/1 [00:00<00:00, 11.15it/s]\n"
          ]
        },
        {
          "output_type": "stream",
          "name": "stdout",
          "text": [
            "Umass coherence score for 20 topics and brun-in 100 (α=0.1, β=0.1): -1.920\n"
          ]
        },
        {
          "output_type": "stream",
          "name": "stderr",
          "text": [
            "100%|██████████| 100/100 [00:10<00:00,  9.89it/s]\n",
            "100%|██████████| 1/1 [00:00<00:00, 11.96it/s]\n"
          ]
        },
        {
          "output_type": "stream",
          "name": "stdout",
          "text": [
            "Umass coherence score for 20 topics and brun-in 100 (α=0.1, β=0.01): -1.930\n"
          ]
        },
        {
          "output_type": "stream",
          "name": "stderr",
          "text": [
            "100%|██████████| 200/200 [00:19<00:00, 10.04it/s]\n",
            "100%|██████████| 1/1 [00:00<00:00,  7.07it/s]\n"
          ]
        },
        {
          "output_type": "stream",
          "name": "stdout",
          "text": [
            "Umass coherence score for 20 topics and brun-in 200 (α=0.1, β=0.1): -1.924\n"
          ]
        },
        {
          "output_type": "stream",
          "name": "stderr",
          "text": [
            "100%|██████████| 200/200 [00:21<00:00,  9.27it/s]\n",
            "100%|██████████| 1/1 [00:00<00:00, 10.03it/s]\n"
          ]
        },
        {
          "output_type": "stream",
          "name": "stdout",
          "text": [
            "Umass coherence score for 20 topics and brun-in 200 (α=0.1, β=0.01): -1.914\n"
          ]
        },
        {
          "output_type": "stream",
          "name": "stderr",
          "text": [
            "100%|██████████| 100/100 [00:11<00:00,  8.83it/s]\n",
            "100%|██████████| 1/1 [00:00<00:00, 10.23it/s]\n"
          ]
        },
        {
          "output_type": "stream",
          "name": "stdout",
          "text": [
            "Umass coherence score for 50 topics and brun-in 100 (α=0.1, β=0.1): -2.000\n"
          ]
        },
        {
          "output_type": "stream",
          "name": "stderr",
          "text": [
            "100%|██████████| 100/100 [00:11<00:00,  8.71it/s]\n",
            "100%|██████████| 1/1 [00:00<00:00, 10.25it/s]\n"
          ]
        },
        {
          "output_type": "stream",
          "name": "stdout",
          "text": [
            "Umass coherence score for 50 topics and brun-in 100 (α=0.1, β=0.01): -1.973\n"
          ]
        },
        {
          "output_type": "stream",
          "name": "stderr",
          "text": [
            "100%|██████████| 200/200 [00:24<00:00,  8.12it/s]\n",
            "100%|██████████| 1/1 [00:00<00:00,  9.32it/s]\n"
          ]
        },
        {
          "output_type": "stream",
          "name": "stdout",
          "text": [
            "Umass coherence score for 50 topics and brun-in 200 (α=0.1, β=0.1): -2.001\n"
          ]
        },
        {
          "output_type": "stream",
          "name": "stderr",
          "text": [
            "100%|██████████| 200/200 [00:22<00:00,  8.88it/s]\n",
            "100%|██████████| 1/1 [00:00<00:00,  9.64it/s]\n"
          ]
        },
        {
          "output_type": "stream",
          "name": "stdout",
          "text": [
            "Umass coherence score for 50 topics and brun-in 200 (α=0.1, β=0.01): -1.963\n"
          ]
        }
      ]
    },
    {
      "cell_type": "code",
      "source": [],
      "metadata": {
        "id": "WQr_GPux4Bdy"
      },
      "execution_count": null,
      "outputs": []
    }
  ]
}